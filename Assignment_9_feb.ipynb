{
 "cells": [
  {
   "cell_type": "code",
   "execution_count": null,
   "id": "823f2598-b05f-499a-97d4-2a7913ec6c2a",
   "metadata": {},
   "outputs": [],
   "source": [
    "Solution 1:-"
   ]
  },
  {
   "cell_type": "code",
   "execution_count": null,
   "id": "fe44799e-7094-488a-ad9e-344596ca0a46",
   "metadata": {},
   "outputs": [],
   "source": [
    "class Vehicle:\n",
    "    def __init__(self, name_of_vehicle, max_speed, average_of_vehicle):\n",
    "        self.name_of_vehicle = name_of_vehicle\n",
    "        self.max_speed = max_speed\n",
    "        self.average_of_vehicle = average_of_vehicle\n",
    "\n",
    "    "
   ]
  },
  {
   "cell_type": "code",
   "execution_count": null,
   "id": "0da9d0f2-228f-4010-9e5b-c7f1a3d3dff8",
   "metadata": {},
   "outputs": [],
   "source": [
    "Solution 2:-"
   ]
  },
  {
   "cell_type": "code",
   "execution_count": 1,
   "id": "4406e80c-ad36-47c7-9383-e44a1140d18a",
   "metadata": {},
   "outputs": [
    {
     "name": "stdout",
     "output_type": "stream",
     "text": [
      "Name of the vehicle: Toyota Corolla. Seating capacity: 5\n"
     ]
    }
   ],
   "source": [
    "class Vehicle:\n",
    "    def __init__(self, name_of_vehicle, max_speed, average_of_vehicle):\n",
    "        self.name_of_vehicle = name_of_vehicle\n",
    "        self.max_speed = max_speed\n",
    "        self.average_of_vehicle = average_of_vehicle\n",
    "\n",
    "class Car(Vehicle):\n",
    "    def seating_capacity(self, capacity):\n",
    "        return f\"Name of the vehicle: {self.name_of_vehicle}. Seating capacity: {capacity}\"\n",
    "\n",
    "car = Car(\"Toyota Corolla\", 180, 20)\n",
    "print(car.seating_capacity(5))\n"
   ]
  },
  {
   "cell_type": "code",
   "execution_count": null,
   "id": "ed67edae-1e62-4c1d-a03e-6f4767987ac2",
   "metadata": {},
   "outputs": [],
   "source": [
    "Solution 3:-"
   ]
  },
  {
   "cell_type": "code",
   "execution_count": null,
   "id": "9853fb9c-d0fd-434a-b6e3-516b7dfddd54",
   "metadata": {},
   "outputs": [],
   "source": [
    "Multiple inheitance:-\n",
    "\n",
    "Multiple inheritance is a feature in object-oriented programming (OOP) where a single class can inherit properties \n",
    "and methods from multiple parent classes. In other words, a child class can inherit from more than one parent class."
   ]
  },
  {
   "cell_type": "code",
   "execution_count": 2,
   "id": "1fc26ede-86bb-41b2-b86e-f812005031d8",
   "metadata": {},
   "outputs": [
    {
     "name": "stdout",
     "output_type": "stream",
     "text": [
      "Parent 1 method\n",
      "Parent 2 method\n",
      "Child method\n"
     ]
    }
   ],
   "source": [
    "class Parent1:\n",
    "    def method1(self):\n",
    "        print(\"Parent 1 method\")\n",
    "\n",
    "class Parent2:\n",
    "    def method2(self):\n",
    "        print(\"Parent 2 method\")\n",
    "\n",
    "class Child(Parent1, Parent2):\n",
    "    def method3(self):\n",
    "        print(\"Child method\")\n",
    "\n",
    "c = Child()\n",
    "c.method1()\n",
    "c.method2()\n",
    "c.method3()\n"
   ]
  },
  {
   "cell_type": "code",
   "execution_count": null,
   "id": "f5f4f415-26f5-465d-9157-cda6a6fdde00",
   "metadata": {},
   "outputs": [],
   "source": [
    "Solution 4:-"
   ]
  },
  {
   "cell_type": "code",
   "execution_count": null,
   "id": "5f4d1399-e690-4cc3-b85d-d43447be9496",
   "metadata": {},
   "outputs": [],
   "source": [
    "Getters and setters are methods in a class that provide access to the private variables in a class. \n",
    "The getter method is used to retrieve the value of a private variable while the setter method is used to \n",
    "change the value of a private variable."
   ]
  },
  {
   "cell_type": "code",
   "execution_count": 3,
   "id": "74484c09-da1d-475e-889e-ea3a4d1d9779",
   "metadata": {},
   "outputs": [
    {
     "name": "stdout",
     "output_type": "stream",
     "text": [
      "Santosh Maurya\n",
      "Santosh Maurya\n",
      "80\n",
      "90\n"
     ]
    }
   ],
   "source": [
    "class Student:\n",
    "    def __init__(self, name, marks):\n",
    "        self.__name = name\n",
    "        self.__marks = marks\n",
    "    \n",
    "    def get_name(self):\n",
    "        return self.__name\n",
    "    \n",
    "    def set_name(self, name):\n",
    "        self.__name = name\n",
    "        \n",
    "    def get_marks(self):\n",
    "        return self.__marks\n",
    "    \n",
    "    def set_marks(self, marks):\n",
    "        self.__marks = marks\n",
    "        \n",
    "s = Student(\"Santosh Maurya\", 80)\n",
    "print(s.get_name()) \n",
    "s.set_name(\"Santosh Maurya\")\n",
    "print(s.get_name()) \n",
    "print(s.get_marks()) \n",
    "s.set_marks(90)\n",
    "print(s.get_marks())\n"
   ]
  },
  {
   "cell_type": "code",
   "execution_count": null,
   "id": "dd839367-4c12-4536-9157-1ad57e8b9984",
   "metadata": {},
   "outputs": [],
   "source": [
    "Solution 5:-"
   ]
  },
  {
   "cell_type": "code",
   "execution_count": null,
   "id": "8d5339e6-68d4-49c1-a36a-30e16cea85c7",
   "metadata": {},
   "outputs": [],
   "source": [
    "Method overriding in Python is a feature that allows a subclass to provide a different implementation of a method that is \n",
    "already provided by its parent class. This mechanism is used to extend or modify the behavior of the parent class to better\n",
    "suit the needs of the subclass."
   ]
  },
  {
   "cell_type": "code",
   "execution_count": 4,
   "id": "700fea36-9f54-4494-8386-4716ec3f6e3f",
   "metadata": {},
   "outputs": [
    {
     "name": "stdout",
     "output_type": "stream",
     "text": [
      "This is a message from the child class.\n"
     ]
    }
   ],
   "source": [
    "class Parent:\n",
    "    def message(self):\n",
    "        print(\"This is a message from the parent class.\")\n",
    "\n",
    "class Child(Parent):\n",
    "    def message(self):\n",
    "        print(\"This is a message from the child class.\")\n",
    "\n",
    "obj = Child()\n",
    "obj.message()\n"
   ]
  },
  {
   "cell_type": "code",
   "execution_count": null,
   "id": "291cb1f1-0b61-4300-9d67-267f20825ada",
   "metadata": {},
   "outputs": [],
   "source": []
  }
 ],
 "metadata": {
  "kernelspec": {
   "display_name": "Python 3 (ipykernel)",
   "language": "python",
   "name": "python3"
  },
  "language_info": {
   "codemirror_mode": {
    "name": "ipython",
    "version": 3
   },
   "file_extension": ".py",
   "mimetype": "text/x-python",
   "name": "python",
   "nbconvert_exporter": "python",
   "pygments_lexer": "ipython3",
   "version": "3.10.8"
  }
 },
 "nbformat": 4,
 "nbformat_minor": 5
}
