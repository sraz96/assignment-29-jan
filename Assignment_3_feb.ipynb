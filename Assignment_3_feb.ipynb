{
 "cells": [
  {
   "cell_type": "code",
   "execution_count": null,
   "id": "b325404f-78eb-4c75-b230-530b14e9d6d4",
   "metadata": {},
   "outputs": [],
   "source": [
    "Solution 1 :-"
   ]
  },
  {
   "cell_type": "code",
   "execution_count": null,
   "id": "cbe1a155-213d-4f2e-81a6-059952044f27",
   "metadata": {},
   "outputs": [],
   "source": [
    "In Python, the keyword def is used to create a function. Here's a function that returns a list of odd numbers \n",
    "in the range of 1 to 25:"
   ]
  },
  {
   "cell_type": "code",
   "execution_count": 6,
   "id": "2cf74dfe-b128-40c6-9e0e-07b9707a2c75",
   "metadata": {},
   "outputs": [],
   "source": [
    "def odd_numbers():\n",
    "    odds = []\n",
    "    for i in range(1, 26):\n",
    "        if i % 2 != 0:\n",
    "            odds.append(i)\n",
    "    return odds\n"
   ]
  },
  {
   "cell_type": "code",
   "execution_count": 7,
   "id": "543a0b80-b7fd-404e-b4f8-2cab06976b0d",
   "metadata": {},
   "outputs": [
    {
     "data": {
      "text/plain": [
       "[1, 3, 5, 7, 9, 11, 13, 15, 17, 19, 21, 23, 25]"
      ]
     },
     "execution_count": 7,
     "metadata": {},
     "output_type": "execute_result"
    }
   ],
   "source": [
    "odd_numbers()"
   ]
  },
  {
   "cell_type": "code",
   "execution_count": null,
   "id": "c92145b0-adb1-4b82-a2f5-7e33ac3b7b79",
   "metadata": {},
   "outputs": [],
   "source": [
    "Solution 2 :-"
   ]
  },
  {
   "cell_type": "code",
   "execution_count": null,
   "id": "afb6ef4b-e984-4e63-a351-deab2a9cacd5",
   "metadata": {},
   "outputs": [],
   "source": [
    "'*args' and '**kwargs' are used in functions to allow for a variable number of arguments to be passed to the function.\n",
    "\n",
    "'*args' is used to send a non-keyworded variable length argument list to the function. \n",
    "It is often used to pass a list or tuple of elements as separate positional arguments to the function.\n",
    "\n",
    "Here is a demonstration of how to use '*args' in a function:"
   ]
  },
  {
   "cell_type": "code",
   "execution_count": 12,
   "id": "1f550629-310f-4fcd-bb30-3c65213ec943",
   "metadata": {},
   "outputs": [
    {
     "name": "stdout",
     "output_type": "stream",
     "text": [
      "1\n",
      "2\n",
      "3\n",
      "4\n",
      "5\n"
     ]
    }
   ],
   "source": [
    "def test_function(*args):\n",
    "    for arg in args:\n",
    "        print(arg)\n",
    "\n",
    "test_function(1, 2, 3, 4, 5)\n"
   ]
  },
  {
   "cell_type": "code",
   "execution_count": null,
   "id": "cb8a4ebf-ecdc-41a6-a84f-1597e0d2cb00",
   "metadata": {},
   "outputs": [],
   "source": [
    "'**kwargs' is used to pass keyworded variable length of arguments to a function. The keyworded arguments will be passed as \n",
    "a dictionary to the function.\n",
    "\n",
    "Here is a demonstration of how to use **kwargs in a function:"
   ]
  },
  {
   "cell_type": "code",
   "execution_count": 13,
   "id": "918071b2-befc-457d-9562-08215ee7ebce",
   "metadata": {},
   "outputs": [
    {
     "name": "stdout",
     "output_type": "stream",
     "text": [
      "Institue: pwskills\n",
      "Course: Data science\n"
     ]
    }
   ],
   "source": [
    "def test_function(**kwargs):\n",
    "    for key, value in kwargs.items():\n",
    "        print(f\"{key}: {value}\")\n",
    "\n",
    "test_function(Institue=\"pwskills\", Course=\"Data science\")\n"
   ]
  },
  {
   "cell_type": "code",
   "execution_count": null,
   "id": "9bc8544a-5cee-4ade-a1f4-c5cdc6001aa5",
   "metadata": {},
   "outputs": [],
   "source": [
    "Solution 3 :-"
   ]
  },
  {
   "cell_type": "code",
   "execution_count": null,
   "id": "3ab1694f-9a85-42a8-aa32-bf7212c68aea",
   "metadata": {},
   "outputs": [],
   "source": [
    "An iterator in Python is an object that can be iterated (looped) upon. It implements the iterator protocol, \n",
    "which consists of the methods __iter__() and __next__(). \n",
    "An object which implements the __iter__() method is called iterable, \n",
    "and an object which implements the __next__() method is called an iterator.\n",
    "\n",
    "To initialize an iterator, you use the iter() method. The next() method is used for iteration.\n",
    "\n",
    "Here is how you can use these methods to print the first five elements of the list :-\n",
    "[2, 4, 6, 8, 10, 12, 14, 16, 18, 20]:"
   ]
  },
  {
   "cell_type": "code",
   "execution_count": 14,
   "id": "39884d15-0373-48a2-9c07-e5198849ced3",
   "metadata": {},
   "outputs": [
    {
     "name": "stdout",
     "output_type": "stream",
     "text": [
      "2\n",
      "4\n",
      "6\n",
      "8\n",
      "10\n"
     ]
    }
   ],
   "source": [
    "my_list = [2, 4, 6, 8, 10, 12, 14, 16, 18, 20]\n",
    "my_iter = iter(my_list)\n",
    "for i in range(5):\n",
    "    print(next(my_iter))"
   ]
  },
  {
   "cell_type": "code",
   "execution_count": null,
   "id": "c4ffd3a4-be85-44f0-ad32-c797b983035a",
   "metadata": {},
   "outputs": [],
   "source": [
    "Solution 4:-"
   ]
  },
  {
   "cell_type": "code",
   "execution_count": null,
   "id": "7c29fc97-d662-4651-9668-1f3b5d362fc2",
   "metadata": {},
   "outputs": [],
   "source": [
    "A generator function is a special kind of function in Python that returns a generator iterator. \n",
    "Unlike normal functions, which return a single value using the return keyword, \n",
    "generator functions use the yield keyword to return a generator object that can be used to produce a series of values. \n",
    "Each time a generator function is called, it returns the next value in the series.\n",
    "\n",
    "The yield keyword is used because it allows the generator function to return a value and then resume execution from \n",
    "where it left off the next time it is called. This makes generator functions an efficient way to generate a series \n",
    "of values without creating a large data structure to store all the values at once.\n",
    "\n",
    "Here is an example of a generator function that generates the Fibonacci sequence:"
   ]
  },
  {
   "cell_type": "code",
   "execution_count": 15,
   "id": "7ca7d820-8961-42e1-8111-9a5efd2f9f59",
   "metadata": {},
   "outputs": [
    {
     "name": "stdout",
     "output_type": "stream",
     "text": [
      "0\n",
      "1\n",
      "1\n",
      "2\n",
      "3\n",
      "5\n",
      "8\n",
      "13\n",
      "21\n",
      "34\n"
     ]
    }
   ],
   "source": [
    "def fibonacci(n):\n",
    "    a,b = 0,1\n",
    "    for i in range(n) :\n",
    "        yield a\n",
    "        a,b = b, a+b\n",
    "\n",
    "fib = fibonacci(10)\n",
    "\n",
    "for i in fib:\n",
    "    print(i)        "
   ]
  },
  {
   "cell_type": "code",
   "execution_count": null,
   "id": "8dbefece-5c87-4dc5-b2b8-18b99cfb2774",
   "metadata": {},
   "outputs": [],
   "source": [
    "Solution 5 :-"
   ]
  },
  {
   "cell_type": "code",
   "execution_count": 16,
   "id": "fa743bd5-169c-4289-acf7-3abeb5731ee8",
   "metadata": {},
   "outputs": [
    {
     "name": "stdout",
     "output_type": "stream",
     "text": [
      "2\n",
      "3\n",
      "5\n",
      "7\n",
      "11\n",
      "13\n",
      "17\n",
      "19\n",
      "23\n",
      "29\n",
      "31\n",
      "37\n",
      "41\n",
      "43\n",
      "47\n",
      "53\n",
      "59\n",
      "61\n",
      "67\n",
      "71\n"
     ]
    }
   ],
   "source": [
    "def prime_numbers():\n",
    "    primes = []\n",
    "    for num in range(2, 1000):\n",
    "        for prime in primes:\n",
    "            if num % prime == 0:\n",
    "                break\n",
    "        else:\n",
    "            primes.append(num)\n",
    "            yield num\n",
    "\n",
    "primes = prime_numbers()\n",
    "for i in range(20):\n",
    "    print(next(primes))"
   ]
  },
  {
   "cell_type": "code",
   "execution_count": null,
   "id": "78993fa1-9110-4077-8d49-0e7bcba9ff6a",
   "metadata": {},
   "outputs": [],
   "source": [
    "Solution 6 :-"
   ]
  },
  {
   "cell_type": "code",
   "execution_count": 17,
   "id": "bed5203f-f927-40cf-a6f5-b2ffe613036b",
   "metadata": {},
   "outputs": [
    {
     "name": "stdout",
     "output_type": "stream",
     "text": [
      "0\n",
      "1\n",
      "1\n",
      "2\n",
      "3\n",
      "5\n",
      "8\n",
      "13\n",
      "21\n",
      "34\n"
     ]
    }
   ],
   "source": [
    "def fibonacci(n):\n",
    "    a, b = 0, 1\n",
    "    while n > 0:\n",
    "        print(a)\n",
    "        a, b = b, a + b\n",
    "        n -= 1\n",
    "\n",
    "fibonacci(10)\n"
   ]
  },
  {
   "cell_type": "code",
   "execution_count": null,
   "id": "714053cb-3d19-41bc-942b-d8b1f7aa5939",
   "metadata": {},
   "outputs": [],
   "source": [
    "Solution 7 :-"
   ]
  },
  {
   "cell_type": "code",
   "execution_count": 18,
   "id": "31f4d2c1-be00-4691-94db-e984dc32df53",
   "metadata": {},
   "outputs": [
    {
     "data": {
      "text/plain": [
       "['p', 'w', 's', 'k', 'i', 'l', 'l', 's']"
      ]
     },
     "execution_count": 18,
     "metadata": {},
     "output_type": "execute_result"
    }
   ],
   "source": [
    "string = 'pwskills'\n",
    "list(char for char in string)\n",
    "\n"
   ]
  },
  {
   "cell_type": "code",
   "execution_count": null,
   "id": "42b9b4d5-9480-40d6-91c3-2711f953478e",
   "metadata": {},
   "outputs": [],
   "source": [
    "Solution 8 :-"
   ]
  },
  {
   "cell_type": "code",
   "execution_count": 19,
   "id": "381d522e-abab-458f-bb10-5c8e84b39f0e",
   "metadata": {},
   "outputs": [
    {
     "name": "stdin",
     "output_type": "stream",
     "text": [
      "Enter a number:  151\n"
     ]
    },
    {
     "name": "stdout",
     "output_type": "stream",
     "text": [
      "151 is a palindrome.\n"
     ]
    }
   ],
   "source": [
    "def is_palindrome(num):\n",
    "    original_num = num\n",
    "    reverse_num = 0\n",
    "    while num != 0:\n",
    "        last_digit = num % 10\n",
    "        reverse_num = (reverse_num * 10) + last_digit\n",
    "        num = num // 10\n",
    "    return original_num == reverse_num\n",
    "\n",
    "number = int(input(\"Enter a number: \"))\n",
    "if is_palindrome(number):\n",
    "    print(str(number) + \" is a palindrome.\")\n",
    "else:\n",
    "    print(str(number) + \" is not a palindrome.\")\n"
   ]
  },
  {
   "cell_type": "code",
   "execution_count": null,
   "id": "ec3e49b4-e990-4371-9ff0-5408185dbf1d",
   "metadata": {},
   "outputs": [],
   "source": [
    "Solution 9 :-"
   ]
  },
  {
   "cell_type": "code",
   "execution_count": 22,
   "id": "74204174-6f24-4582-a82d-f84b94a666bb",
   "metadata": {},
   "outputs": [
    {
     "name": "stdout",
     "output_type": "stream",
     "text": [
      "[1, 3, 5, 7, 9, 11, 13, 15, 17, 19, 21, 23, 25, 27, 29, 31, 33, 35, 37, 39, 41, 43, 45, 47, 49, 51, 53, 55, 57, 59, 61, 63, 65, 67, 69, 71, 73, 75, 77, 79, 81, 83, 85, 87, 89, 91, 93, 95, 97, 99]\n"
     ]
    }
   ],
   "source": [
    "odd_numbers = list(num for num in range(1,101) if num % 2 != 0)\n",
    "print(odd_numbers)\n"
   ]
  },
  {
   "cell_type": "code",
   "execution_count": null,
   "id": "5ceead85-e969-43e2-89b7-9b4f76d60ca0",
   "metadata": {},
   "outputs": [],
   "source": []
  }
 ],
 "metadata": {
  "kernelspec": {
   "display_name": "Python 3 (ipykernel)",
   "language": "python",
   "name": "python3"
  },
  "language_info": {
   "codemirror_mode": {
    "name": "ipython",
    "version": 3
   },
   "file_extension": ".py",
   "mimetype": "text/x-python",
   "name": "python",
   "nbconvert_exporter": "python",
   "pygments_lexer": "ipython3",
   "version": "3.10.8"
  }
 },
 "nbformat": 4,
 "nbformat_minor": 5
}
