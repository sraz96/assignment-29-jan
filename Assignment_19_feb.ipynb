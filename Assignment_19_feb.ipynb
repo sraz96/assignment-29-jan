{
 "cells": [
  {
   "cell_type": "code",
   "execution_count": null,
   "id": "565a0593-8266-4f37-9811-02a79dbe8a8f",
   "metadata": {},
   "outputs": [],
   "source": [
    "Solution 1:-"
   ]
  },
  {
   "cell_type": "code",
   "execution_count": null,
   "id": "85c8780f-2c9f-474a-abb9-2bba8f9c8913",
   "metadata": {},
   "outputs": [],
   "source": [
    "Flask is a popular Python web framework that provides developers with the tools needed to build web applications quickly and efficiently.\n",
    "It is a lightweight framework that is easy to learn and use, making it a popular choice for beginners as well as experienced developers."
   ]
  },
  {
   "cell_type": "code",
   "execution_count": null,
   "id": "ae4394ea-b45b-4a14-9b14-d6fd37fcce02",
   "metadata": {},
   "outputs": [],
   "source": [
    "Here are some advantages of using Flask framework:"
   ]
  },
  {
   "cell_type": "code",
   "execution_count": null,
   "id": "62277f59-f798-426a-a4f8-77f13f9dd77e",
   "metadata": {},
   "outputs": [],
   "source": [
    "1.Lightweight: Flask is a lightweight framework, and it doesn't come with a lot of pre-built components, which allows developers to build \n",
    "  applications with the components they need, and not have to deal with unnecessary overhead.\n",
    "\n",
    "2.Flexible: Flask is highly flexible and can be used to build different types of web applications, from simple single-page applications to \n",
    "  complex enterprise-grade applications.\n",
    "\n",
    "3.Easy to Learn: Flask is a simple framework and has an easy-to-understand syntax that makes it easy for beginners to learn and get started \n",
    "  quickly.\n",
    "\n",
    "4.Extensible: Flask is highly extensible and comes with a wide range of plugins and extensions that allow developers to add additional \n",
    "  functionality to their applications easily.\n",
    "\n",
    "5.Large Community: Flask has a large and active community of developers, which means there is a wealth of resources available to help \n",
    "  developers learn and use the framework.\n",
    "\n",
    "6.Well Documented: Flask has extensive and well-written documentation, which makes it easy for developers to learn and use the framework.\n",
    "\n",
    "7.Built-in Development Server: Flask has a built-in development server that makes it easy for developers to test their applications locally."
   ]
  },
  {
   "cell_type": "code",
   "execution_count": null,
   "id": "34024926-b068-4a57-ae80-35660118e96a",
   "metadata": {},
   "outputs": [],
   "source": [
    "Solution 2:-"
   ]
  },
  {
   "cell_type": "code",
   "execution_count": null,
   "id": "6ee7bed0-8d24-4b6e-8426-52e0d9b3d31d",
   "metadata": {},
   "outputs": [],
   "source": [
    "from flask import Flask\n",
    "\n",
    "app = Flask(__name__)\n",
    "\n",
    "@app.route('/')\n",
    "def hello_world():\n",
    "    return '<h1>Hello World!!</h1>'\n",
    "\n",
    "if __name__ == '__main__':\n",
    "    app.run(host=\"0.0.0.0\")\n"
   ]
  },
  {
   "cell_type": "code",
   "execution_count": null,
   "id": "4c4ff5d2-7beb-45a7-8a9b-67e587ff8a0c",
   "metadata": {},
   "outputs": [],
   "source": [
    "https://yellow-barista-okkdh.pwskills.app:5000/\n",
    "\n",
    "\n",
    "#here is the output link , I am unable to upload screenshot of these process in jupyter notebook"
   ]
  },
  {
   "cell_type": "code",
   "execution_count": null,
   "id": "daec92aa-ecb3-4004-a68a-66301a798925",
   "metadata": {},
   "outputs": [],
   "source": [
    "output :-\n",
    "\n",
    "Hello World!!"
   ]
  },
  {
   "cell_type": "code",
   "execution_count": null,
   "id": "3f260fef-abee-4cf1-baea-98edaa662caf",
   "metadata": {},
   "outputs": [],
   "source": [
    "Solution 3:-"
   ]
  },
  {
   "cell_type": "code",
   "execution_count": null,
   "id": "406c27b0-641e-46b1-a062-f1ccec4ec86e",
   "metadata": {},
   "outputs": [],
   "source": [
    "App routing in Flask refers to the process of mapping URLs to view functions. When a user visits a particular URL, Flask uses the app \n",
    "routing mechanism to determine which view function to call to handle the request."
   ]
  },
  {
   "cell_type": "code",
   "execution_count": null,
   "id": "fb6be3cc-6ead-4d90-b12f-f0ee994c6f2e",
   "metadata": {},
   "outputs": [],
   "source": [
    "In Flask, app routing is achieved using the @app.route() decorator, which is used to specify the URL that the view function should respond to. \n",
    "The @app.route() decorator can be used with different HTTP methods (GET, POST, etc.) to specify how the view function should handle\n",
    "different types of requests."
   ]
  },
  {
   "cell_type": "code",
   "execution_count": null,
   "id": "35daf13d-2a13-4ac8-bda0-29e9d0560320",
   "metadata": {},
   "outputs": [],
   "source": [
    "Here's an example:"
   ]
  },
  {
   "cell_type": "code",
   "execution_count": null,
   "id": "ade761b5-fcc4-48c8-814f-4a8416fdaeec",
   "metadata": {},
   "outputs": [],
   "source": [
    "from flask import Flask\n",
    "\n",
    "app = Flask(__name__)\n",
    "\n",
    "@app.route('/')\n",
    "def index():\n",
    "    return 'This is the home page.'\n",
    "\n",
    "@app.route('/about')\n",
    "def about():\n",
    "    return 'This is the about page.'\n",
    "\n",
    "if __name__ == '__main__':\n",
    "    app.run()\n"
   ]
  },
  {
   "cell_type": "code",
   "execution_count": null,
   "id": "50585950-f7d3-4d38-9c4a-f0251b991c45",
   "metadata": {},
   "outputs": [],
   "source": [
    "Solution 4:-"
   ]
  },
  {
   "cell_type": "code",
   "execution_count": null,
   "id": "c34e6a53-525b-4c2d-b617-e8c900c118d3",
   "metadata": {},
   "outputs": [],
   "source": [
    "from flask import Flask\n",
    "\n",
    "app = Flask(__name__)\n",
    "\n",
    "@app.route('/welcome')\n",
    "def welcome():\n",
    "    return 'Welcome to ABC Corporation'\n",
    "\n",
    "@app.route('/')\n",
    "def company_info():\n",
    "    company_name = 'ABC Corporation'\n",
    "    location = 'India'\n",
    "    contact_detail = '999-999-9999'\n",
    "\n",
    "    return f'Company Name: {company_name}<br>Location: {location}<br>Contact Detail: {contact_detail}'\n",
    "\n",
    "if __name__ == '__main__':\n",
    "    app.run(host=\"0.0.0.0\")\n",
    "\n"
   ]
  },
  {
   "cell_type": "code",
   "execution_count": null,
   "id": "bd0a38ac-7a21-4f6b-82a9-b76cba341dc2",
   "metadata": {},
   "outputs": [],
   "source": [
    "https://yellow-barista-okkdh.pwskills.app:5000/\n",
    "\n",
    "#here is the output link , I am unable to upload screenshot of these process in jupyter notebook"
   ]
  },
  {
   "cell_type": "code",
   "execution_count": null,
   "id": "8f3b8ace-7cbd-4ccd-bbdd-441764ed02e5",
   "metadata": {},
   "outputs": [],
   "source": [
    "output :-\n",
    "\n",
    "Company Name: ABC Corporation\n",
    "Location: India\n",
    "Contact Detail: 999-999-9999"
   ]
  },
  {
   "cell_type": "code",
   "execution_count": null,
   "id": "4c06214c-58e8-4b52-babe-c8ebd456d41c",
   "metadata": {},
   "outputs": [],
   "source": [
    "Solution 5:-"
   ]
  },
  {
   "cell_type": "code",
   "execution_count": null,
   "id": "11106351-9f92-4779-92d2-6b7a14f2391a",
   "metadata": {},
   "outputs": [],
   "source": [
    "The url_for() function is used in Flask for URL building. It generates a URL to the specified endpoint, with any required parameters encoded \n",
    "in the URL. The url_for() function is often used in templates to generate URLs for links and redirects, but it can also be used in view\n",
    "functions to generate URLs dynamically."
   ]
  },
  {
   "cell_type": "code",
   "execution_count": null,
   "id": "d26c9570-891b-4474-97b3-857baf0ef730",
   "metadata": {},
   "outputs": [],
   "source": [
    "Here's an example Python code to demonstrate how the url_for() function works:"
   ]
  },
  {
   "cell_type": "code",
   "execution_count": null,
   "id": "9c8c7bb9-e90f-4d10-a670-e33cae0d8c10",
   "metadata": {},
   "outputs": [],
   "source": [
    "from flask import Flask, url_for\n",
    "\n",
    "app = Flask(__name__)\n",
    "\n",
    "@app.route('/')\n",
    "def home():\n",
    "    # Generate a URL for the about() function\n",
    "    about_url = url_for('about')\n",
    "\n",
    "    return f'<a href=\"{about_url}\">About</a>'\n",
    "\n",
    "@app.route('/about')\n",
    "def about():\n",
    "    return 'This is the about page.'\n",
    "\n",
    "if __name__ == '__main__':\n",
    "    app.run(host=\"0.0.0.0\")\n"
   ]
  }
 ],
 "metadata": {
  "kernelspec": {
   "display_name": "Python 3 (ipykernel)",
   "language": "python",
   "name": "python3"
  },
  "language_info": {
   "codemirror_mode": {
    "name": "ipython",
    "version": 3
   },
   "file_extension": ".py",
   "mimetype": "text/x-python",
   "name": "python",
   "nbconvert_exporter": "python",
   "pygments_lexer": "ipython3",
   "version": "3.10.8"
  }
 },
 "nbformat": 4,
 "nbformat_minor": 5
}
