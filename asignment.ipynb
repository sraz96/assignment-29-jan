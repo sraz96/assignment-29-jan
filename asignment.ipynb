{
 "cells": [
  {
   "cell_type": "code",
   "execution_count": null,
   "id": "d6900687-a490-42b3-8e49-38c597e09083",
   "metadata": {},
   "outputs": [
    {
     "ename": "SyntaxError",
     "evalue": "invalid syntax (1386139499.py, line 1)",
     "output_type": "error",
     "traceback": [
      "\u001b[0;36m  Cell \u001b[0;32mIn[2], line 1\u001b[0;36m\u001b[0m\n\u001b[0;31m    Solution 1 = Guido Van Rossum\u001b[0m\n\u001b[0m             ^\u001b[0m\n\u001b[0;31mSyntaxError\u001b[0m\u001b[0;31m:\u001b[0m invalid syntax\n"
     ]
    }
   ],
   "source": [
    "Solution 1:- Guido Van Rossum\n",
    "\n",
    "Solution 2:- Object Oriented Programming (OOPs) and structured programming\n",
    "\n",
    "Solution 3:- Yes, Python is a case – sensitive language, \n",
    "             i.e. , it treats uppercase and lowercase characters differently.\n",
    "\n",
    "Solution 4:- .PY EXTENSION\n",
    "\n",
    "Solution 5:- Interpreted\n",
    "\n",
    "Solution 6:- A Python program is constructed from code blocks. Al block is a \n",
    "             piece of Python program text that is executed as a unit. The following cure blocks: \n",
    "             a function body , a module , and a class definition. \n",
    "\n",
    "Solution 7:- Hash character (#)\n",
    "\n",
    "Solution 8:- The function sys. Version can help us to find the version of python \n",
    "             that we are currently working on.\n",
    "\n",
    "Solution 9:- 'lambda'\n",
    "\n",
    "Solution 10:- Alternatively , Pip stands for “ Preferred Installer Program “. \n",
    "              Python 2.7.9 and later on the Python 2 series , and Python 3.4 \n",
    "              and later include Pip ( Pip 3 for Python 3 ) by default.\n",
    "\n",
    "Solution 11:- Print() , type() , input() , sorted() , max() , abs(), etc.\n",
    "\n",
    "Solution 12:- 79  Characters .\n",
    "\n",
    "Solution 13:- Desktop applications , Data Science and Data Analyst , Web frameworks , \n",
    "              AR and VR , Data – base driven software , Graphical user Interface ( GUI ) base software ,\n",
    "              Programming Languages.\n",
    "\n",
    "Solution 14:- Memory management in Python involves a private heap containing all \n",
    "              Python Objects and Data Structures . The management of this private heap is \n",
    "              ensured internally by the python memory manager.\n",
    "\n",
    "Solution 15:- The complete path of python.exe can be added by:\n",
    "              1.\tRight-clicking This PC and going to Properties.\n",
    "              2.\tClicking on the Advanced system settings in the menu on the left.\n",
    "              3.\tClicking on the Environment Variables button on the bottom right.\n",
    "              4.\tIn the System variables section, selecting the Path variable and clicking on Edit. \n",
    "                    The next screen will show all the directories that are currently a part \n",
    "                    of the PATH variable.\n",
    "              5.\tClicking on New and entering Python’s install directory.\n",
    "\n",
    "   -> Python can now be used directly from the command prompt without having to write its location. \n",
    "    Try executing the command python --version; it will output the version of Python installed on your system.\n",
    "\n",
    "Solution 16:- Indentation refers to the spaces at the beginning of a code line. \n",
    "              Where in other programming languages the indentation in code is for readability only, \n",
    "              the indentation in Python is very important. Python uses indentation to indicate a block of code.\n",
    "\n"
   ]
  }
 ],
 "metadata": {
  "kernelspec": {
   "display_name": "Python 3 (ipykernel)",
   "language": "python",
   "name": "python3"
  },
  "language_info": {
   "codemirror_mode": {
    "name": "ipython",
    "version": 3
   },
   "file_extension": ".py",
   "mimetype": "text/x-python",
   "name": "python",
   "nbconvert_exporter": "python",
   "pygments_lexer": "ipython3",
   "version": "3.10.8"
  }
 },
 "nbformat": 4,
 "nbformat_minor": 5
}
