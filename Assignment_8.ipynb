{
 "cells": [
  {
   "cell_type": "code",
   "execution_count": null,
   "id": "0d1e548b-416d-40db-9a10-5004346dab3d",
   "metadata": {},
   "outputs": [],
   "source": [
    "Solution 1:-"
   ]
  },
  {
   "cell_type": "code",
   "execution_count": 1,
   "id": "24e92ac0-ad07-4af2-98f6-c0f964f9423a",
   "metadata": {},
   "outputs": [
    {
     "name": "stdout",
     "output_type": "stream",
     "text": [
      "10\n"
     ]
    }
   ],
   "source": [
    "class Vehicle:\n",
    "    def __init__(self, speed):\n",
    "        self.speed = speed\n",
    "\n",
    "    def accelerate(self):\n",
    "      \n",
    "        self.speed += 10\n",
    "\n",
    "vehicle = Vehicle(0)\n",
    "vehicle.accelerate()\n",
    "print(vehicle.speed) # 10\n"
   ]
  },
  {
   "cell_type": "code",
   "execution_count": null,
   "id": "99fd2c9c-548d-4348-8733-cdcea73212d1",
   "metadata": {},
   "outputs": [],
   "source": [
    "Solution 2:-"
   ]
  },
  {
   "cell_type": "code",
   "execution_count": null,
   "id": "a575b6a5-bae8-4e37-9f11-a56c085670b1",
   "metadata": {},
   "outputs": [],
   "source": [
    "Abstraction and Encapsulation are two important concepts in Object-Oriented Programming (OOP).\n",
    "\n",
    "Abstraction refers to the process of hiding implementation details and exposing only the essential features of an object to the outside world. \n",
    "This means that the user does not need to know how a particular object works, but only what it does."
   ]
  },
  {
   "cell_type": "code",
   "execution_count": null,
   "id": "55260093-e4ee-4639-8eac-7b1c7f9e2fb9",
   "metadata": {},
   "outputs": [],
   "source": [
    "An example of abstraction in OOP would be using a car object. The user only needs to know how to drive it, \n",
    "but not how the engine works. write code"
   ]
  },
  {
   "cell_type": "code",
   "execution_count": 2,
   "id": "fc2a0871-007e-402c-b413-52faf35b7331",
   "metadata": {},
   "outputs": [
    {
     "name": "stdout",
     "output_type": "stream",
     "text": [
      "Starting the electric engine...\n",
      "Driving the car...\n"
     ]
    }
   ],
   "source": [
    "class Car:\n",
    "    def __init__(self, model, year):\n",
    "        self.model = model\n",
    "        self.year = year\n",
    "\n",
    "    def start(self):\n",
    "        print(\"Starting the engine...\")\n",
    "\n",
    "    def drive(self):\n",
    "        print(\"Driving the car...\")\n",
    "\n",
    "class Tesla(Car):\n",
    "    def __init__(self, model, year, battery_capacity):\n",
    "        Car.__init__(self, model, year)\n",
    "        self.battery_capacity = battery_capacity\n",
    "\n",
    "    def start(self):\n",
    "        print(\"Starting the electric engine...\")\n",
    "\n",
    "tesla = Tesla(\"Model S\", 2020, 75)\n",
    "tesla.start()\n",
    "tesla.drive()\n"
   ]
  },
  {
   "cell_type": "code",
   "execution_count": null,
   "id": "4d338d08-3cae-48f1-8d48-821322b722b0",
   "metadata": {},
   "outputs": [],
   "source": [
    "Encapsulation refers to the mechanism of wrapping data and functions within a single unit, called an object. \n",
    "This is done to prevent access to the implementation details and to ensure that the internal data of the object \n",
    "cannot be modified from outside the object."
   ]
  },
  {
   "cell_type": "code",
   "execution_count": 3,
   "id": "8fda6481-c43f-476a-9eef-f3e0af4f7c2e",
   "metadata": {},
   "outputs": [
    {
     "name": "stdout",
     "output_type": "stream",
     "text": [
      "1500\n",
      "700\n"
     ]
    }
   ],
   "source": [
    "class BankAccount:\n",
    "    def __init__(self, balance):\n",
    "        self.__balance = balance\n",
    "    \n",
    "    def deposit(self, amount):\n",
    "        self.__balance += amount\n",
    "        return self.__balance\n",
    "    \n",
    "    def withdraw(self, amount):\n",
    "        if self.__balance >= amount:\n",
    "            self.__balance -= amount\n",
    "            return self.__balance\n",
    "        else:\n",
    "            return \"Insufficient balance\"\n",
    "\n",
    "account = BankAccount(1000)\n",
    "print(account.deposit(500)) \n",
    "print(account.withdraw(800)) \n"
   ]
  },
  {
   "cell_type": "code",
   "execution_count": null,
   "id": "77d85cfb-f70c-445a-b7b0-71d9988407b2",
   "metadata": {},
   "outputs": [],
   "source": [
    "Solution 3:-"
   ]
  },
  {
   "cell_type": "code",
   "execution_count": null,
   "id": "b667c6c9-cd59-4b44-99c1-209fedac5624",
   "metadata": {},
   "outputs": [],
   "source": [
    "The abc (Abstract Base Class) module in Python is used to define abstract base classes. \n",
    "An abstract base class is a class that cannot be instantiated and is meant to provide a common interface for its subclasses. \n",
    "The purpose of using an abstract base class is to enforce a certain level of abstraction in the code and to ensure that \n",
    "subclasses adhere to a certain set of conventions."
   ]
  },
  {
   "cell_type": "code",
   "execution_count": null,
   "id": "7af49fea-d23c-4074-bb5a-5318f2beecb8",
   "metadata": {},
   "outputs": [],
   "source": [
    "An abstract base class is created by subclassing ABC from the abc module and marking the abstract methods using the @abstractmethod decorator. \n",
    "The abstract methods are methods that are meant to be overridden in the subclasses, but do not have \n",
    "an implementation in the abstract base class. The abstract base class can also define concrete methods which have an implementation \n",
    "in the abstract base class."
   ]
  },
  {
   "cell_type": "code",
   "execution_count": 4,
   "id": "a36bb5ed-281d-48f0-8246-d2194cdac075",
   "metadata": {},
   "outputs": [],
   "source": [
    "#Here's an example to illustrate the use of abc module in Python:\n",
    "\n",
    "from abc import ABC, abstractmethod\n",
    "\n",
    "class Shape(ABC):\n",
    "    @abstractmethod\n",
    "    def area(self):\n",
    "        pass\n",
    "\n",
    "    @abstractmethod\n",
    "    def perimeter(self):\n",
    "        pass\n",
    "\n",
    "class Square(Shape):\n",
    "    def __init__(self, side):\n",
    "        self.side = side\n",
    "\n",
    "    def area(self):\n",
    "        return self.side * self.side\n",
    "\n",
    "    def perimeter(self):\n",
    "        return 4 * self.side\n"
   ]
  },
  {
   "cell_type": "code",
   "execution_count": null,
   "id": "4f001ddd-1a2b-44ba-9081-75672e74d7d9",
   "metadata": {},
   "outputs": [],
   "source": [
    "Solution 4:-"
   ]
  },
  {
   "cell_type": "code",
   "execution_count": null,
   "id": "7df49817-ada9-4e04-9e85-4242dd784c53",
   "metadata": {},
   "outputs": [],
   "source": [
    "Data abstraction can be achieved in several ways in object-oriented programming, including:\n",
    "\n",
    "Abstraction: through class and objects: Creating a class with certain data members and methods that perform specific actions, \n",
    "and then instantiating objects from the class. The objects can access the data members and methods defined in the class, \n",
    "but the internal workings of the class can be hidden from the user.\n",
    "\n",
    "Encapsulation: Wrapping the data members and methods inside a class to form a single unit, and then providing access to \n",
    "the data members and methods only through the class methods. This way, the internal workings of the data members and \n",
    "methods are hidden from the user.\n",
    "\n",
    "Inheritance: Reusing existing code from a parent class in a derived class, and then adding or modifying the code as required. \n",
    "The derived class can inherit the data members and methods from the parent class, but the internal workings of the parent class\n",
    "can be hidden from the user.\n",
    "\n",
    "Polymorphism: Creating objects of multiple classes that share the same interface or behavior, and then processing the objects \n",
    "interchangeably. The internal workings of the objects can be hidden from the user.\n"
   ]
  },
  {
   "cell_type": "code",
   "execution_count": null,
   "id": "3b37dc11-5e24-4921-bdc5-2cb53af18e6f",
   "metadata": {},
   "outputs": [],
   "source": [
    "Solution 5:-"
   ]
  },
  {
   "cell_type": "code",
   "execution_count": null,
   "id": "baa3ea0a-6045-4e13-8a84-b19b023f3a62",
   "metadata": {},
   "outputs": [],
   "source": [
    "No, we cannot create an instance of an abstract class because an abstract class is a class that is intended to serve as a\n",
    "base class and cannot be instantiated on its own. An abstract class is meant to provide a common interface and implementation \n",
    "for its subclasses. The goal of an abstract class is to enforce a common structure among its subclasses, so that all the subclasses\n",
    "have certain attributes and methods in common, but each subclass can provide its own implementation for these common methods. \n",
    "Therefore, we cannot create an instance of an abstract class, but we can create instances of its concrete subclasses, \n",
    "which inherit the attributes and methods of the abstract class."
   ]
  }
 ],
 "metadata": {
  "kernelspec": {
   "display_name": "Python 3 (ipykernel)",
   "language": "python",
   "name": "python3"
  },
  "language_info": {
   "codemirror_mode": {
    "name": "ipython",
    "version": 3
   },
   "file_extension": ".py",
   "mimetype": "text/x-python",
   "name": "python",
   "nbconvert_exporter": "python",
   "pygments_lexer": "ipython3",
   "version": "3.10.8"
  }
 },
 "nbformat": 4,
 "nbformat_minor": 5
}
