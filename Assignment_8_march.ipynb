{
 "cells": [
  {
   "cell_type": "code",
   "execution_count": null,
   "id": "a8075efe-7cd3-426a-b84d-4dfba683a1ba",
   "metadata": {},
   "outputs": [],
   "source": [
    "Solution 1:-"
   ]
  },
  {
   "cell_type": "markdown",
   "id": "a31f56a1-c56b-4477-a783-2378dde84e25",
   "metadata": {},
   "source": [
    "Probability Density Function (PDF): The Probability Density Function is a statistical function that describes the likelihood of a continuous random variable taking\n",
    "on a specific value. It gives the relative likelihood of the variable having a particular value, and it is used for continuous probability distributions. \n",
    "The integral of the PDF over a range of values gives the probability that the random variable falls within that range."
   ]
  },
  {
   "cell_type": "code",
   "execution_count": null,
   "id": "626f3b4e-c88c-46ce-af3d-9a506cdd5668",
   "metadata": {},
   "outputs": [],
   "source": [
    "Solution 2:-"
   ]
  },
  {
   "cell_type": "raw",
   "id": "5cdc57b0-8d9c-44ce-989f-27dcc1ff92ac",
   "metadata": {},
   "source": [
    "Types of Probability Distributions: There are various types of probability distributions used to model different types of random events. Some common types include:\n",
    "\n",
    ".Normal Distribution\n",
    ".Binomial Distribution\n",
    ".Poisson Distribution\n",
    ".Exponential Distribution\n",
    ".Uniform Distribution\n",
    ".Bernoulli Distribution\n",
    ".Geometric Distribution\n",
    ".Hypergeometric Distribution\n",
    ".Chi-Square Distribution\n",
    ".Student's t-Distribution\n",
    ".F-Distribution\n",
    ".And more."
   ]
  },
  {
   "cell_type": "code",
   "execution_count": null,
   "id": "c911874a-8dea-43eb-87c7-5bb2a460429c",
   "metadata": {},
   "outputs": [],
   "source": [
    "Solution 3:-"
   ]
  },
  {
   "cell_type": "markdown",
   "id": "4c4eca09-35af-4f96-9552-c74b7fe120e2",
   "metadata": {},
   "source": [
    "Here is a Python function to calculate the Probability Density Function (PDF) of a normal distribution at a given point:"
   ]
  },
  {
   "cell_type": "code",
   "execution_count": 1,
   "id": "4660ff26-b352-401e-9125-3704104702de",
   "metadata": {},
   "outputs": [
    {
     "name": "stdout",
     "output_type": "stream",
     "text": [
      "PDF at x = 1.5: 0.12951759566589174\n"
     ]
    }
   ],
   "source": [
    "import numpy as np\n",
    "from scipy.stats import norm\n",
    "\n",
    "def normal_pdf(x, mean, std_dev):\n",
    "    pdf = norm.pdf(x, loc=mean, scale=std_dev)\n",
    "    return pdf\n",
    "\n",
    "mean = 0\n",
    "std_dev = 1\n",
    "x_value = 1.5\n",
    "pdf_value = normal_pdf(x_value, mean, std_dev)\n",
    "print(f\"PDF at x = {x_value}: {pdf_value}\")\n"
   ]
  },
  {
   "cell_type": "code",
   "execution_count": null,
   "id": "ab615ff1-fcee-4b06-aa6d-7301a506b328",
   "metadata": {},
   "outputs": [],
   "source": [
    "Solution 4:-"
   ]
  },
  {
   "cell_type": "raw",
   "id": "40ac27e4-f307-4c02-9f17-724d7233463f",
   "metadata": {},
   "source": [
    "Properties of Binomial Distribution:\n",
    "\n",
    ".It models the number of successes (e.g., \"success\" or \"failure\") in a fixed number of independent Bernoulli trials.\n",
    ".Each trial has only two possible outcomes: success (usually denoted as 1) or failure (usually denoted as 0).\n",
    ".The probability of success (p) remains constant across all trials.\n",
    ".The trials are independent of each other.\n",
    "\n",
    "Examples of events where the binomial distribution can be applied:\n",
    "\n",
    "1.Tossing a coin (success = heads, failure = tails) a fixed number of times.\n",
    "2.Testing whether a manufactured item is defective or non-defective in a fixed number of trials."
   ]
  },
  {
   "cell_type": "code",
   "execution_count": null,
   "id": "d3e97239-1215-4b03-a9c4-fdeb70eb9d41",
   "metadata": {},
   "outputs": [],
   "source": [
    "Solution 5:-"
   ]
  },
  {
   "cell_type": "markdown",
   "id": "4238c68e-d366-4e68-bf95-63874e224157",
   "metadata": {},
   "source": [
    "To generate a random sample from a binomial distribution and plot a histogram in Python:"
   ]
  },
  {
   "cell_type": "code",
   "execution_count": 2,
   "id": "bc4c064f-f925-4bf7-bb6f-dca2f01024b3",
   "metadata": {},
   "outputs": [
    {
     "data": {
      "image/png": "[encoded data removed]",
      "text/plain": [
       "<Figure size 640x480 with 1 Axes>"
      ]
     },
     "metadata": {},
     "output_type": "display_data"
    }
   ],
   "source": [
    "import numpy as np\n",
    "import matplotlib.pyplot as plt\n",
    "\n",
    "sample = np.random.binomial(n=1, p=0.4, size=1000)\n",
    "\n",
    "plt.hist(sample, bins=[-0.5, 0.5, 1.5], density=True, rwidth=0.8, alpha=0.7, color='b')\n",
    "plt.xlabel(\"Outcome\")\n",
    "plt.ylabel(\"Probability\")\n",
    "plt.title(\"Binomial Distribution\")\n",
    "plt.xticks([0, 1], labels=[\"Failure\", \"Success\"])\n",
    "plt.show()\n"
   ]
  },
  {
   "cell_type": "code",
   "execution_count": null,
   "id": "0b7d4be4-2f1e-46e5-a663-7e7c45f0453c",
   "metadata": {},
   "outputs": [],
   "source": [
    "Solution 6:-"
   ]
  },
  {
   "cell_type": "markdown",
   "id": "76322b91-4866-4337-9aa6-de5207c657c2",
   "metadata": {},
   "source": [
    " To calculate the Cumulative Distribution Function (CDF) of a Poisson distribution in Python:"
   ]
  },
  {
   "cell_type": "code",
   "execution_count": 3,
   "id": "92fa87e0-8aa9-4a0a-9251-5038a02fb926",
   "metadata": {},
   "outputs": [
    {
     "name": "stdout",
     "output_type": "stream",
     "text": [
      "CDF at x = 3: 0.2650259152973616\n"
     ]
    }
   ],
   "source": [
    "from scipy.stats import poisson\n",
    "\n",
    "def poisson_cdf(x, mean):\n",
    "    cdf = poisson.cdf(x, mu=mean)\n",
    "    return cdf\n",
    "\n",
    "mean = 5\n",
    "x_value = 3\n",
    "cdf_value = poisson_cdf(x_value, mean)\n",
    "print(f\"CDF at x = {x_value}: {cdf_value}\")\n"
   ]
  },
  {
   "cell_type": "code",
   "execution_count": null,
   "id": "0312e798-dac5-43d2-ba16-49b64eb0005a",
   "metadata": {},
   "outputs": [],
   "source": [
    "Solution 7:-"
   ]
  },
  {
   "cell_type": "markdown",
   "id": "d9a88e0f-5c12-4f53-8c00-23a517959db5",
   "metadata": {},
   "source": [
    "Difference between Binomial and Poisson Distributions:\n",
    "\n",
    ".Binomial Distribution models the number of successes in a fixed number of trials with two possible outcomes (success or failure) in each trial, assuming a\n",
    " constant probability of success.\n",
    ".Poisson Distribution models the number of events (usually rare) occurring in a fixed interval of time or space. It doesn't have a fixed number of trials, and \n",
    " it deals with events that occur randomly over time or space."
   ]
  },
  {
   "cell_type": "code",
   "execution_count": null,
   "id": "a5364e11-458f-4a99-9670-c441831fd5a6",
   "metadata": {},
   "outputs": [],
   "source": [
    "Solution 8:-"
   ]
  },
  {
   "cell_type": "markdown",
   "id": "bbb601a9-40e2-4700-8e4d-837adce1d87c",
   "metadata": {},
   "source": [
    "To generate a random sample from a Poisson distribution, calculate the sample mean and variance in Python:"
   ]
  },
  {
   "cell_type": "code",
   "execution_count": 4,
   "id": "dc2bcf17-8765-4f64-ae6d-77c176d7b500",
   "metadata": {},
   "outputs": [
    {
     "name": "stdout",
     "output_type": "stream",
     "text": [
      "Sample Mean: 5.083\n",
      "Sample Variance: 4.652111\n"
     ]
    }
   ],
   "source": [
    "import numpy as np\n",
    "\n",
    "sample = np.random.poisson(5, size=1000)\n",
    "\n",
    "sample_mean = np.mean(sample)\n",
    "sample_variance = np.var(sample)\n",
    "\n",
    "print(f\"Sample Mean: {sample_mean}\")\n",
    "print(f\"Sample Variance: {sample_variance}\")\n"
   ]
  },
  {
   "cell_type": "code",
   "execution_count": null,
   "id": "c7ef9c03-0bc2-479e-abb8-5c9f4b27853d",
   "metadata": {},
   "outputs": [],
   "source": [
    "Solution 9:-"
   ]
  },
  {
   "cell_type": "raw",
   "id": "bd67bb45-32ab-4578-8e80-b5f75cdd857f",
   "metadata": {},
   "source": [
    ". Mean and Variance in Binomial and Poisson Distributions:\n",
    "\n",
    ".In a Binomial Distribution, the mean (μ) is equal to n * p, and the variance (σ^2) is equal to n * p * (1 - p), where n is the number of trials and p is the \n",
    " probability of success in each trial.\n",
    ".In a Poisson Distribution, the mean (μ) is equal to the rate parameter λ, and the variance (σ^2) is also equal to λ."
   ]
  },
  {
   "cell_type": "code",
   "execution_count": null,
   "id": "720f054b-4863-4a0f-a181-64c9b36b750f",
   "metadata": {},
   "outputs": [],
   "source": [
    "Solution 10:-"
   ]
  },
  {
   "cell_type": "markdown",
   "id": "2e489c3c-33cd-4659-b8fb-e497208f19bd",
   "metadata": {},
   "source": [
    "In a normal distribution, the least frequent data appears farthest from the mean. This data point is often located at the tails of the distribution, in the \n",
    "extreme values region. It is the data point that is the farthest from the mean in either direction."
   ]
  }
 ],
 "metadata": {
  "kernelspec": {
   "display_name": "Python 3 (ipykernel)",
   "language": "python",
   "name": "python3"
  },
  "language_info": {
   "codemirror_mode": {
    "name": "ipython",
    "version": 3
   },
   "file_extension": ".py",
   "mimetype": "text/x-python",
   "name": "python",
   "nbconvert_exporter": "python",
   "pygments_lexer": "ipython3",
   "version": "3.10.8"
  }
 },
 "nbformat": 4,
 "nbformat_minor": 5
}
