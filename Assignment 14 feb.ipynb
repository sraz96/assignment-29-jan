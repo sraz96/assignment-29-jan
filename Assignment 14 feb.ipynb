{
 "cells": [
  {
   "cell_type": "code",
   "execution_count": null,
   "id": "8a9ca90a-400d-4917-abc3-409c912192ad",
   "metadata": {},
   "outputs": [],
   "source": [
    "Solution 1:-"
   ]
  },
  {
   "cell_type": "code",
   "execution_count": null,
   "id": "0a117aaa-dfa6-442f-9f9a-31e5f9399c11",
   "metadata": {},
   "outputs": [],
   "source": [
    "Multithreading in Python is a feature that allows a program to execute multiple threads of execution concurrently. In a multi-threaded program, \n",
    "different parts of the program run simultaneously on separate threads, allowing for more efficient use of system resources and increased\n",
    "performance.\n",
    "\n",
    "Multithreading is used when a program needs to perform multiple tasks concurrently. For example, in a web server, a separate thread can be \n",
    "used to handle each incoming client request, allowing the server to handle multiple requests simultaneously.\n",
    "\n",
    "The threading module is used to handle threads in Python. This module provides a way to create and manage threads in a program. \n",
    "It includes functions for creating threads, synchronizing access to shared resources, and controlling the execution of threads."
   ]
  },
  {
   "cell_type": "code",
   "execution_count": null,
   "id": "d60cf56d-149f-4aad-9961-9065d7b2bd75",
   "metadata": {},
   "outputs": [],
   "source": [
    "Solution 2:-"
   ]
  },
  {
   "cell_type": "code",
   "execution_count": null,
   "id": "8b8c634d-c04c-4e71-b60c-f6a265b7a62b",
   "metadata": {},
   "outputs": [],
   "source": [
    "The threading module in Python is used to create, manage and synchronize threads. It is used when you want to perform \n",
    "multiple tasks simultaneously in a single program.\n",
    "\n",
    "Here are the uses of the following functions in the threading module:"
   ]
  },
  {
   "cell_type": "code",
   "execution_count": null,
   "id": "fd58f916-f842-4cfa-b227-7c80fd306160",
   "metadata": {},
   "outputs": [],
   "source": [
    "'activeCount()': This function returns the number of thread objects that are active at the moment."
   ]
  },
  {
   "cell_type": "code",
   "execution_count": 1,
   "id": "aa2c7a25-3d58-45a4-966b-3693c737e7ab",
   "metadata": {},
   "outputs": [
    {
     "name": "stdout",
     "output_type": "stream",
     "text": [
      "Function executed\n",
      "Function executed\n",
      "Number of active threads: 8\n"
     ]
    },
    {
     "name": "stderr",
     "output_type": "stream",
     "text": [
      "/tmp/ipykernel_78/1433239384.py:12: DeprecationWarning: activeCount() is deprecated, use active_count() instead\n",
      "  print(\"Number of active threads:\", threading.activeCount())\n"
     ]
    }
   ],
   "source": [
    "import threading\n",
    "\n",
    "def func():\n",
    "    print(\"Function executed\")\n",
    "    \n",
    "t1 = threading.Thread(target=func)\n",
    "t2 = threading.Thread(target=func)\n",
    "\n",
    "t1.start()\n",
    "t2.start()\n",
    "\n",
    "print(\"Number of active threads:\", threading.activeCount())\n"
   ]
  },
  {
   "cell_type": "code",
   "execution_count": null,
   "id": "2817a4db-813f-4494-98a0-e3c499771ef2",
   "metadata": {},
   "outputs": [],
   "source": [
    "'currentThread()': This function returns a reference to the current thread object."
   ]
  },
  {
   "cell_type": "code",
   "execution_count": 2,
   "id": "9f2241dd-65f4-4c47-9887-2449f9eed7e0",
   "metadata": {},
   "outputs": [
    {
     "name": "stdout",
     "output_type": "stream",
     "text": [
      "Current thread: Thread1\n",
      "Current thread: Thread2\n"
     ]
    },
    {
     "name": "stderr",
     "output_type": "stream",
     "text": [
      "/tmp/ipykernel_78/1582528603.py:4: DeprecationWarning: currentThread() is deprecated, use current_thread() instead\n",
      "  print(\"Current thread:\", threading.currentThread().getName())\n",
      "/tmp/ipykernel_78/1582528603.py:4: DeprecationWarning: getName() is deprecated, get the name attribute instead\n",
      "  print(\"Current thread:\", threading.currentThread().getName())\n"
     ]
    }
   ],
   "source": [
    "import threading\n",
    "\n",
    "def func():\n",
    "    print(\"Current thread:\", threading.currentThread().getName())\n",
    "\n",
    "t1 = threading.Thread(target=func, name=\"Thread1\")\n",
    "t2 = threading.Thread(target=func, name=\"Thread2\")\n",
    "\n",
    "t1.start()\n",
    "t2.start()\n"
   ]
  },
  {
   "cell_type": "code",
   "execution_count": null,
   "id": "b1390702-3a39-4695-9eaa-2b5f24e82df2",
   "metadata": {},
   "outputs": [],
   "source": [
    "'enumerate()': This function returns a list of all thread objects that are active at the moment."
   ]
  },
  {
   "cell_type": "code",
   "execution_count": 3,
   "id": "bb445182-b9a8-4d15-aed7-7ce64a3cb206",
   "metadata": {},
   "outputs": [
    {
     "name": "stdout",
     "output_type": "stream",
     "text": [
      "Function executed\n",
      "Function executed\n",
      "Active thread: MainThread\n",
      "Active thread: IOPub\n",
      "Active thread: Heartbeat\n",
      "Active thread: Thread-3 (_watch_pipe_fd)\n",
      "Active thread: Thread-4 (_watch_pipe_fd)\n",
      "Active thread: Control\n",
      "Active thread: IPythonHistorySavingThread\n",
      "Active thread: Thread-2\n"
     ]
    },
    {
     "name": "stderr",
     "output_type": "stream",
     "text": [
      "/tmp/ipykernel_78/442157545.py:13: DeprecationWarning: getName() is deprecated, get the name attribute instead\n",
      "  print(\"Active thread:\", thread.getName())\n"
     ]
    }
   ],
   "source": [
    "import threading\n",
    "\n",
    "def func():\n",
    "    print(\"Function executed\")\n",
    "\n",
    "t1 = threading.Thread(target=func, name=\"Thread1\")\n",
    "t2 = threading.Thread(target=func, name=\"Thread2\")\n",
    "\n",
    "t1.start()\n",
    "t2.start()\n",
    "\n",
    "for thread in threading.enumerate():\n",
    "    print(\"Active thread:\", thread.getName())\n"
   ]
  },
  {
   "cell_type": "code",
   "execution_count": null,
   "id": "500f927e-6f4f-4196-b3d0-326912e5d818",
   "metadata": {},
   "outputs": [],
   "source": [
    "Solution 3:-"
   ]
  },
  {
   "cell_type": "code",
   "execution_count": null,
   "id": "e6b3fc3b-aa0a-4415-bacb-545e4d1107a5",
   "metadata": {},
   "outputs": [],
   "source": [
    "In Python's threading module, the following functions are used to manage and control threads:\n",
    "\n",
    "1- 'run()': This method is called when a thread is started using the start() method. It should be overridden in a subclass to implement \n",
    "            the thread's functionality.\n",
    "\n",
    "2- 'start()': This method starts the thread's activity. It must be called at most once per thread object. It starts a new thread of \n",
    "              execution by calling the run() method.\n",
    "\n",
    "3- 'join()': This method blocks the calling thread until the thread whose join() method is called is terminated. It waits for \n",
    "             the thread to complete its execution.\n",
    "\n",
    "4- 'isAlive()': This method returns a boolean indicating whether the thread is alive or not. A thread is considered alive if it has\n",
    "                been started and has not yet terminated.\n"
   ]
  },
  {
   "cell_type": "code",
   "execution_count": null,
   "id": "cf34cc7c-1f0a-4e44-b6fd-9d489adfcdb9",
   "metadata": {},
   "outputs": [],
   "source": [
    "These methods are used to control the execution of threads and to ensure that they are running properly. For example, the start() \n",
    "method is used to start a new thread, the join() method is used to wait for a thread to complete, and the isAlive() method can\n",
    "be used to check if a thread is still running. The run() method should be overridden in a subclass to implement the thread's functionality."
   ]
  },
  {
   "cell_type": "code",
   "execution_count": null,
   "id": "8a050ff5-2591-494b-8f01-8a9c09713a87",
   "metadata": {},
   "outputs": [],
   "source": [
    "Solution 4:-"
   ]
  },
  {
   "cell_type": "code",
   "execution_count": 4,
   "id": "a9694d01-59fc-4b44-95c8-5f57a4c71bff",
   "metadata": {},
   "outputs": [
    {
     "name": "stderr",
     "output_type": "stream",
     "text": [
      "[DEBUG] (Thread 1  ) 1\n",
      "[DEBUG] (Thread 2  ) 1\n",
      "[DEBUG] (Thread 1  ) 4\n",
      "[DEBUG] (Thread 2  ) 8\n",
      "[DEBUG] (Thread 1  ) 9\n",
      "[DEBUG] (Thread 2  ) 27\n",
      "[DEBUG] (Thread 1  ) 16\n",
      "[DEBUG] (Thread 2  ) 64\n",
      "[DEBUG] (Thread 1  ) 25\n",
      "[DEBUG] (Thread 2  ) 125\n",
      "[DEBUG] (Thread 1  ) 36\n",
      "[DEBUG] (Thread 2  ) 216\n",
      "[DEBUG] (Thread 1  ) 49\n",
      "[DEBUG] (Thread 2  ) 343\n",
      "[DEBUG] (Thread 1  ) 64\n",
      "[DEBUG] (Thread 2  ) 512\n",
      "[DEBUG] (Thread 1  ) 81\n",
      "[DEBUG] (Thread 2  ) 729\n",
      "[DEBUG] (Thread 1  ) 100\n",
      "[DEBUG] (Thread 2  ) 1000\n"
     ]
    }
   ],
   "source": [
    "import logging\n",
    "import threading\n",
    "\n",
    "logging.basicConfig(level=logging.DEBUG, format='[%(levelname)s] (%(threadName)-10s) %(message)s')\n",
    "\n",
    "def print_squares():\n",
    "    for i in range(1, 11):\n",
    "        logging.debug(i*i)\n",
    "\n",
    "def print_cubes():\n",
    "    for i in range(1, 11):\n",
    "        logging.debug(i*i*i)\n",
    "\n",
    "try:\n",
    "    # Create two threads\n",
    "    t1 = threading.Thread(target=print_squares, name='Thread 1')\n",
    "    t2 = threading.Thread(target=print_cubes, name='Thread 2')\n",
    "    \n",
    "    # Start the threads\n",
    "    t1.start()\n",
    "    t2.start()\n",
    "\n",
    "    # Wait for both threads to finish\n",
    "    t1.join()\n",
    "    t2.join()\n",
    "\n",
    "except Exception as e:\n",
    "    logging.error('An error occurred: {}'.format(str(e)))\n"
   ]
  },
  {
   "cell_type": "code",
   "execution_count": null,
   "id": "c61c240c-95dd-47d4-aeaf-f855d22a73d5",
   "metadata": {},
   "outputs": [],
   "source": [
    "Solution 5:-"
   ]
  },
  {
   "cell_type": "code",
   "execution_count": null,
   "id": "b99accdb-82e5-49f9-954b-c7595fd44183",
   "metadata": {},
   "outputs": [],
   "source": [
    "Multithreading has several advantages and disadvantages, some of which are listed below:\n",
    "\n",
    "'Advantages':\n",
    "\n",
    "1- Increased performance: Multithreading can help increase performance by allowing multiple tasks to be executed in parallel, thus utilizing\n",
    "   available CPU resources more efficiently.\n",
    "\n",
    "2- Resource sharing: Multithreading allows threads to share resources such as memory, input/output devices, and CPU time, thus minimizing \n",
    "   the overall system resource requirements.\n",
    "\n",
    "3- Improved responsiveness: Multithreading can improve the responsiveness of a system, as it allows a program to continue executing even \n",
    "   if one thread is blocked, waiting for I/O or other resources.\n",
    "\n",
    "4- Enhanced modularity: Multithreading allows complex applications to be divided into smaller, more manageable parts, making it easier \n",
    "   to develop and maintain the code."
   ]
  },
  {
   "cell_type": "code",
   "execution_count": null,
   "id": "c7035b1f-bc6a-4ffa-8feb-858402715507",
   "metadata": {},
   "outputs": [],
   "source": [
    "'Disadvantages':\n",
    "\n",
    "1- Increased complexity: Multithreading can make programming more complex, as it requires careful management of shared resources \n",
    "and synchronization between threads.\n",
    "\n",
    "2- Debugging: Debugging multithreaded programs can be difficult, as the behavior of the program may be non-deterministic, making it \n",
    "   hard to reproduce errors and diagnose issues.\n",
    "\n",
    "3- Race conditions: Race conditions can occur when multiple threads attempt to access shared resources at the same time, leading to\n",
    "   unpredictable and often undesirable results.\n",
    "\n",
    "4- Overhead: Multithreading can incur additional overhead in terms of memory and processing resources, as each thread requires its \n",
    "   own stack and thread management overhead."
   ]
  },
  {
   "cell_type": "code",
   "execution_count": null,
   "id": "c52ef559-53cb-45ec-9307-99797b6a7c2b",
   "metadata": {},
   "outputs": [],
   "source": [
    "Solution 6:-"
   ]
  },
  {
   "cell_type": "code",
   "execution_count": null,
   "id": "b001bb7f-dcc7-4d5c-9ae3-52ff5a273010",
   "metadata": {},
   "outputs": [],
   "source": [
    "Deadlocks and race conditions are two common issues that can occur when working with multithreaded programs.\n",
    "\n",
    "'Deadlocks' occur when two or more threads are blocked waiting for each other to release a resource. In other words, each thread is\n",
    "holding onto a resource that another thread needs, and both threads are waiting for the other to release that resource. This can cause \n",
    "the threads to become stuck and the program to stop responding. Deadlocks can be difficult to detect and fix, and can cause significant \n",
    "problems in a multithreaded program."
   ]
  },
  {
   "cell_type": "code",
   "execution_count": null,
   "id": "e06bfe04-dd07-422e-a8de-1e2d123bbd8e",
   "metadata": {},
   "outputs": [],
   "source": [
    "'Race conditions' occur when two or more threads access a shared resource simultaneously, and the final result depends on the order in \n",
    "which the threads execute. This can cause unpredictable and incorrect behavior in a program. For example, if two threads try to increment \n",
    "the same variable at the same time, the variable might not be incremented correctly, resulting in unexpected behavior. Race conditions\n",
    "can be difficult to reproduce and debug, and can lead to hard-to-find bugs in a multithreaded program. Proper synchronization techniques,\n",
    "such as locks or semaphores, can be used to prevent race conditions."
   ]
  }
 ],
 "metadata": {
  "kernelspec": {
   "display_name": "Python 3 (ipykernel)",
   "language": "python",
   "name": "python3"
  },
  "language_info": {
   "codemirror_mode": {
    "name": "ipython",
    "version": 3
   },
   "file_extension": ".py",
   "mimetype": "text/x-python",
   "name": "python",
   "nbconvert_exporter": "python",
   "pygments_lexer": "ipython3",
   "version": "3.10.8"
  }
 },
 "nbformat": 4,
 "nbformat_minor": 5
}
