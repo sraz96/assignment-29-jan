{
 "cells": [
  {
   "cell_type": "code",
   "execution_count": null,
   "id": "8254e7d5-70e1-49fe-a89c-8eb3b7b8ffb2",
   "metadata": {},
   "outputs": [],
   "source": [
    "Solution 1 :-"
   ]
  },
  {
   "cell_type": "code",
   "execution_count": 2,
   "id": "10e5682e-2d66-4fd7-a0eb-45bcfb0f7959",
   "metadata": {},
   "outputs": [
    {
     "name": "stdin",
     "output_type": "stream",
     "text": [
      "Enter your percentage:  98\n"
     ]
    },
    {
     "name": "stdout",
     "output_type": "stream",
     "text": [
      "Your grade is: A\n"
     ]
    }
   ],
   "source": [
    "marks = float(input(\"Enter your percentage: \"))\n",
    "\n",
    "if marks > 90:\n",
    "    grade = \"A\"\n",
    "elif marks >= 80 and marks <= 90:\n",
    "    grade = \"B\"\n",
    "elif marks >= 60 and marks <= 80:\n",
    "    grade = \"C\"\n",
    "else:\n",
    "    grade = \"D\"\n",
    "\n",
    "print(\"Your grade is:\", grade)\n"
   ]
  },
  {
   "cell_type": "code",
   "execution_count": null,
   "id": "60d8768c-1774-46a1-821a-7156e549eb17",
   "metadata": {},
   "outputs": [],
   "source": [
    "Solution 2 :-"
   ]
  },
  {
   "cell_type": "code",
   "execution_count": 3,
   "id": "cea2945b-0f39-4f1c-8185-3b44d830f098",
   "metadata": {},
   "outputs": [
    {
     "name": "stdin",
     "output_type": "stream",
     "text": [
      "Enter the cost price of the bike:  85000\n"
     ]
    },
    {
     "name": "stdout",
     "output_type": "stream",
     "text": [
      "The road tax to be paid is: 8500.0\n"
     ]
    }
   ],
   "source": [
    "cost_price = float(input(\"Enter the cost price of the bike: \"))\n",
    "\n",
    "if cost_price > 100000:\n",
    "    road_tax = cost_price * 0.15\n",
    "elif cost_price > 50000 and cost_price <= 100000:\n",
    "    road_tax = cost_price * 0.10\n",
    "else:\n",
    "    road_tax = cost_price * 0.05\n",
    "\n",
    "print(\"The road tax to be paid is:\", road_tax)\n"
   ]
  },
  {
   "cell_type": "code",
   "execution_count": null,
   "id": "a5fbf3e3-425e-4747-96a4-9bc5fb355213",
   "metadata": {},
   "outputs": [],
   "source": [
    "solution 3 :-"
   ]
  },
  {
   "cell_type": "code",
   "execution_count": 4,
   "id": "3fa952e7-f33a-4f1f-8c76-68d0d78231ac",
   "metadata": {},
   "outputs": [
    {
     "name": "stdin",
     "output_type": "stream",
     "text": [
      "Enter the city name:  DELHI\n"
     ]
    },
    {
     "name": "stdout",
     "output_type": "stream",
     "text": [
      "Monument: Red Fort\n"
     ]
    }
   ],
   "source": [
    "city = input(\"Enter the city name: \")\n",
    "\n",
    "if city.upper() == \"DELHI\":\n",
    "    print(\"Monument: Red Fort\")\n",
    "elif city.upper() == \"AGRA\":\n",
    "    print(\"Monument: Taj Mahal\")\n",
    "elif city.upper() == \"JAIPUR\":\n",
    "    print(\"Monument: Jai Mahal\")\n",
    "else:\n",
    "    print(\"Monument not found for the entered city.\")\n"
   ]
  },
  {
   "cell_type": "code",
   "execution_count": null,
   "id": "c799b110-7a3a-40a9-81ee-20b489192133",
   "metadata": {},
   "outputs": [],
   "source": [
    "Solution 4 :-"
   ]
  },
  {
   "cell_type": "code",
   "execution_count": 5,
   "id": "1a2f15a4-f78d-4f8c-8151-d9d9b804cd45",
   "metadata": {},
   "outputs": [
    {
     "name": "stdin",
     "output_type": "stream",
     "text": [
      "Enter a number:  45\n"
     ]
    },
    {
     "name": "stdout",
     "output_type": "stream",
     "text": [
      "The number can be divided by 3 2 times before it becomes less than or equal to 10.\n"
     ]
    }
   ],
   "source": [
    "num = int(input(\"Enter a number: \"))\n",
    "\n",
    "count = 0\n",
    "while num > 10:\n",
    "    num /= 3\n",
    "    count += 1\n",
    "\n",
    "print(\"The number can be divided by 3\", count, \"times before it becomes less than or equal to 10.\")\n"
   ]
  },
  {
   "cell_type": "code",
   "execution_count": null,
   "id": "cebebb50-a441-47f2-acb5-2ec883581c5a",
   "metadata": {},
   "outputs": [],
   "source": [
    "Solution 5 :-"
   ]
  },
  {
   "cell_type": "code",
   "execution_count": null,
   "id": "3bb65ebf-f314-439c-b1cb-d21c0c341a2b",
   "metadata": {},
   "outputs": [],
   "source": [
    "A while loop in Python is used to repeatedly execute a block of code as long as a given condition is true. \n",
    "The general syntax for a while loop is:"
   ]
  },
  {
   "cell_type": "code",
   "execution_count": null,
   "id": "1492002a-beac-4f61-b5d6-eaa28dc47f8b",
   "metadata": {},
   "outputs": [],
   "source": [
    "while condition:\n",
    "    # code to be executed\n",
    "\n",
    "The condition is a Boolean expression that is evaluated before each iteration. \n",
    "If the condition is True, the code inside the loop is executed, and the process repeats \n",
    "until the condition becomes False.\n",
    "\n",
    "Here's an example of a while loop to print the numbers from 1 to 10:"
   ]
  },
  {
   "cell_type": "code",
   "execution_count": 1,
   "id": "40b3b460-3e15-4d34-960e-94b3bd264038",
   "metadata": {},
   "outputs": [
    {
     "name": "stdout",
     "output_type": "stream",
     "text": [
      "1\n",
      "2\n",
      "3\n",
      "4\n",
      "5\n",
      "6\n",
      "7\n",
      "8\n",
      "9\n",
      "10\n"
     ]
    }
   ],
   "source": [
    "count = 1\n",
    "\n",
    "while count <= 10:\n",
    "    print(count)\n",
    "    count += 1\n"
   ]
  },
  {
   "cell_type": "code",
   "execution_count": null,
   "id": "ffe5a26d-50b3-41bd-8d83-5e79a835540e",
   "metadata": {},
   "outputs": [],
   "source": [
    "Solution 6:-"
   ]
  },
  {
   "cell_type": "code",
   "execution_count": null,
   "id": "12014d3f-ab27-425d-9639-4417b9302972",
   "metadata": {},
   "outputs": [],
   "source": [
    "1:-Triangle pattern:"
   ]
  },
  {
   "cell_type": "code",
   "execution_count": 2,
   "id": "e220e465-d774-4a1a-976e-71ba5f5196cf",
   "metadata": {},
   "outputs": [
    {
     "name": "stdout",
     "output_type": "stream",
     "text": [
      "* \n",
      "* * \n",
      "* * * \n",
      "* * * * \n",
      "* * * * * \n"
     ]
    }
   ],
   "source": [
    "rows = 5\n",
    "for i in range(1, rows+1):\n",
    "    for j in range(1, i + 1):\n",
    "        print(\"*\", end=' ')\n",
    "    print(\"\\r\")\n"
   ]
  },
  {
   "cell_type": "code",
   "execution_count": null,
   "id": "8154c469-b53f-4e90-9238-541e79c917e0",
   "metadata": {},
   "outputs": [],
   "source": [
    "2 :-Pyramid pattern:"
   ]
  },
  {
   "cell_type": "code",
   "execution_count": 4,
   "id": "e3ab75be-0a43-43eb-b6b2-d22ce066c96a",
   "metadata": {},
   "outputs": [
    {
     "name": "stdout",
     "output_type": "stream",
     "text": [
      "    *\n",
      "   **\n",
      "  ***\n",
      " ****\n",
      "*****\n"
     ]
    }
   ],
   "source": [
    "rows = 5\n",
    "for i in range(rows):\n",
    "    for j in range(rows - i - 1):\n",
    "        print(end=\" \")\n",
    "    for j in range(i + 1):\n",
    "        print(\"*\", end=\"\")\n",
    "    print(\"\")\n"
   ]
  },
  {
   "cell_type": "code",
   "execution_count": null,
   "id": "c901bdff-1038-4a97-b3f0-cf99e56eb40d",
   "metadata": {},
   "outputs": [],
   "source": [
    "3 :-Printing an inverse right triangle pattern:"
   ]
  },
  {
   "cell_type": "code",
   "execution_count": 5,
   "id": "238ee161-fc6c-4061-986c-e609ef331cd5",
   "metadata": {},
   "outputs": [
    {
     "name": "stdout",
     "output_type": "stream",
     "text": [
      "*****\n",
      "****\n",
      "***\n",
      "**\n",
      "*\n"
     ]
    }
   ],
   "source": [
    "rows = 5\n",
    "\n",
    "for i in range(rows, 0, -1):\n",
    "    j = 1\n",
    "    while j <= i:\n",
    "        print(\"*\", end=\"\")\n",
    "        j += 1\n",
    "    print(\"\")\n"
   ]
  },
  {
   "cell_type": "code",
   "execution_count": null,
   "id": "20ef59bc-87a4-4a19-8372-629deb19341d",
   "metadata": {},
   "outputs": [],
   "source": [
    "Solution 7 :-"
   ]
  },
  {
   "cell_type": "code",
   "execution_count": 6,
   "id": "cb09d7d0-2ccb-444c-8ed3-047d87405d25",
   "metadata": {},
   "outputs": [
    {
     "name": "stdout",
     "output_type": "stream",
     "text": [
      "10\n",
      "9\n",
      "8\n",
      "7\n",
      "6\n",
      "5\n",
      "4\n",
      "3\n",
      "2\n",
      "1\n"
     ]
    }
   ],
   "source": [
    "count = 10\n",
    "\n",
    "while count >= 1:\n",
    "    print(count)\n",
    "    count -= 1\n"
   ]
  },
  {
   "cell_type": "code",
   "execution_count": null,
   "id": "8d790451-3203-43e6-b266-bc1d8e9da2a1",
   "metadata": {},
   "outputs": [],
   "source": [
    "Solution 8 :-"
   ]
  },
  {
   "cell_type": "code",
   "execution_count": 7,
   "id": "f41d7291-c24b-4e5d-8e61-6d55f7a17a23",
   "metadata": {},
   "outputs": [
    {
     "name": "stdout",
     "output_type": "stream",
     "text": [
      "10\n",
      "9\n",
      "8\n",
      "7\n",
      "6\n",
      "5\n",
      "4\n",
      "3\n",
      "2\n",
      "1\n"
     ]
    }
   ],
   "source": [
    "count = 10\n",
    "\n",
    "while count >= 1:\n",
    "    print(count)\n",
    "    count -= 1\n"
   ]
  },
  {
   "cell_type": "code",
   "execution_count": null,
   "id": "83906363-f7bf-4e40-8ba3-36f4b1657aa2",
   "metadata": {},
   "outputs": [],
   "source": []
  }
 ],
 "metadata": {
  "kernelspec": {
   "display_name": "Python 3 (ipykernel)",
   "language": "python",
   "name": "python3"
  },
  "language_info": {
   "codemirror_mode": {
    "name": "ipython",
    "version": 3
   },
   "file_extension": ".py",
   "mimetype": "text/x-python",
   "name": "python",
   "nbconvert_exporter": "python",
   "pygments_lexer": "ipython3",
   "version": "3.10.8"
  }
 },
 "nbformat": 4,
 "nbformat_minor": 5
}
