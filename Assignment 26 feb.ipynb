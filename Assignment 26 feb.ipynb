{
 "cells": [
  {
   "cell_type": "code",
   "execution_count": null,
   "id": "20c3e822-537e-42a0-bd54-e2536ec86486",
   "metadata": {},
   "outputs": [],
   "source": [
    "Solution 1:-"
   ]
  },
  {
   "cell_type": "code",
   "execution_count": null,
   "id": "d328dd4f-87ab-48b3-a48b-92a25c47d338",
   "metadata": {},
   "outputs": [],
   "source": [
    "Yes, there is a difference in the data type of variables list_ and array_list. The variable list_ is a Python list object, whereas the\n",
    "variable array_list is a NumPy ndarray object. To print the data types of both the variables, we can use the type() function:"
   ]
  },
  {
   "cell_type": "code",
   "execution_count": 4,
   "id": "af43bc7a-efc5-4f20-a957-ef2a32c06eb3",
   "metadata": {},
   "outputs": [
    {
     "name": "stdout",
     "output_type": "stream",
     "text": [
      "<class 'list'>\n",
      "<class 'numpy.ndarray'>\n"
     ]
    }
   ],
   "source": [
    "import numpy as np\n",
    "list_ = [ '1' , '2' , '3' , '4' , '5' ]\n",
    "array_list = np.array(object = list_)\n",
    "print(type(list_))\n",
    "print(type(array_list))\n"
   ]
  },
  {
   "cell_type": "code",
   "execution_count": null,
   "id": "8a174454-887c-43be-89f0-d27916140334",
   "metadata": {},
   "outputs": [],
   "source": [
    "Solution 2:-"
   ]
  },
  {
   "cell_type": "code",
   "execution_count": null,
   "id": "bdacc990-912b-48c8-87b8-b5ab1152bce1",
   "metadata": {},
   "outputs": [],
   "source": [
    "To print the data type of each and every element of both the variables list_ and array_list, we can use the dtype attribute of the array:"
   ]
  },
  {
   "cell_type": "code",
   "execution_count": 5,
   "id": "81c6a241-326b-4d21-844f-5770e1a9f2b1",
   "metadata": {},
   "outputs": [],
   "source": [
    "list_ = [ '1' , '2' , '3' , '4' , '5' ]\n",
    "array_list = np.array(object = list_)"
   ]
  },
  {
   "cell_type": "code",
   "execution_count": 6,
   "id": "64706cd5-1fcd-46b4-ba3d-8e2656be9f10",
   "metadata": {},
   "outputs": [
    {
     "name": "stdout",
     "output_type": "stream",
     "text": [
      "Data type of elements in list_:\n",
      "<class 'str'>\n",
      "<class 'str'>\n",
      "<class 'str'>\n",
      "<class 'str'>\n",
      "<class 'str'>\n",
      "Data type of elements in array_list:\n",
      "<class 'numpy.str_'>\n",
      "<class 'numpy.str_'>\n",
      "<class 'numpy.str_'>\n",
      "<class 'numpy.str_'>\n",
      "<class 'numpy.str_'>\n"
     ]
    }
   ],
   "source": [
    "print(\"Data type of elements in list_:\")\n",
    "for element in list_:\n",
    "    print(type(element))\n",
    "\n",
    "print(\"Data type of elements in array_list:\")\n",
    "for element in array_list:\n",
    "    print(type(element))\n"
   ]
  },
  {
   "cell_type": "code",
   "execution_count": null,
   "id": "81194e82-e349-467c-b001-9e77d69396b5",
   "metadata": {},
   "outputs": [],
   "source": [
    "Solution 3:-"
   ]
  },
  {
   "cell_type": "code",
   "execution_count": null,
   "id": "0e72fde6-987a-4352-8d54-6a06e0db98f6",
   "metadata": {},
   "outputs": [],
   "source": [
    "Yes, there will be a difference in the data type of the elements present in both the variables list_ and array_list. When we create the \n",
    "array using the dtype argument with the value 'int', the elements of the original list are cast to integers. To print the data types \n",
    "of each and every element present in both the variables list_ and arra_list, we can use the dtype attribute of the array:"
   ]
  },
  {
   "cell_type": "code",
   "execution_count": 7,
   "id": "35d8e4b6-8652-4d9e-8f75-3d439e33d6b0",
   "metadata": {},
   "outputs": [],
   "source": [
    "list_ = [ '1' , '2' , '3' , '4' , '5' ]\n",
    "array_list = np.array(object = list_)"
   ]
  },
  {
   "cell_type": "code",
   "execution_count": 8,
   "id": "2272b028-798f-4d75-a5c6-6a3ca4368b13",
   "metadata": {},
   "outputs": [
    {
     "name": "stdout",
     "output_type": "stream",
     "text": [
      "Data type of elements in list_:\n",
      "<class 'str'>\n",
      "<class 'str'>\n",
      "<class 'str'>\n",
      "<class 'str'>\n",
      "<class 'str'>\n",
      "Data type of elements in array_list:\n",
      "<class 'numpy.int64'>\n",
      "<class 'numpy.int64'>\n",
      "<class 'numpy.int64'>\n",
      "<class 'numpy.int64'>\n",
      "<class 'numpy.int64'>\n"
     ]
    }
   ],
   "source": [
    "array_list = np.array(object=list_, dtype=int)\n",
    "\n",
    "print(\"Data type of elements in list_:\")\n",
    "for element in list_:\n",
    "    print(type(element))\n",
    "\n",
    "print(\"Data type of elements in array_list:\")\n",
    "for element in array_list:\n",
    "    print(type(element))\n"
   ]
  },
  {
   "cell_type": "code",
   "execution_count": null,
   "id": "e3fd2984-b5aa-4e47-ac3f-147bd72b3c61",
   "metadata": {},
   "outputs": [],
   "source": [
    "Solution 4:-"
   ]
  },
  {
   "cell_type": "code",
   "execution_count": 9,
   "id": "345fff6b-3faf-4daf-a9c6-d96633894ff5",
   "metadata": {},
   "outputs": [],
   "source": [
    "import numpy as np\n",
    "num_list = [ [ 1 , 2 , 3 ] , [ 4 , 5 , 6 ] ]\n",
    "num_array = np.array(object = num_list)"
   ]
  },
  {
   "cell_type": "code",
   "execution_count": 11,
   "id": "97b2450a-57de-4c0e-a172-f32078875a56",
   "metadata": {},
   "outputs": [
    {
     "name": "stdout",
     "output_type": "stream",
     "text": [
      "Shape of num_array: (2, 3)\n",
      "Size of num_array: 6\n"
     ]
    }
   ],
   "source": [
    "print(\"Shape of num_array:\", num_array.shape)\n",
    "print(\"Size of num_array:\", num_array.size)\n"
   ]
  },
  {
   "cell_type": "code",
   "execution_count": null,
   "id": "87615aef-4211-4b2c-b02f-eef21c88b7ac",
   "metadata": {},
   "outputs": [],
   "source": [
    "Solution 5:-"
   ]
  },
  {
   "cell_type": "code",
   "execution_count": 12,
   "id": "c685d483-8b51-474b-a1fc-c8aa92ec65d9",
   "metadata": {},
   "outputs": [
    {
     "name": "stdout",
     "output_type": "stream",
     "text": [
      "Zeros Array:\n",
      "[[0. 0. 0.]\n",
      " [0. 0. 0.]\n",
      " [0. 0. 0.]]\n"
     ]
    }
   ],
   "source": [
    "zeros_array = np.zeros((3, 3))\n",
    "\n",
    "print(\"Zeros Array:\")\n",
    "print(zeros_array)"
   ]
  },
  {
   "cell_type": "code",
   "execution_count": null,
   "id": "881e6d60-e5bd-4294-824b-e80d008e8c93",
   "metadata": {},
   "outputs": [],
   "source": [
    "Solution 6:-"
   ]
  },
  {
   "cell_type": "code",
   "execution_count": 13,
   "id": "effcc0b6-53b9-4cda-a60f-b4e314074caa",
   "metadata": {},
   "outputs": [
    {
     "name": "stdout",
     "output_type": "stream",
     "text": [
      "Identity Matrix:\n",
      "[[1. 0. 0. 0. 0.]\n",
      " [0. 1. 0. 0. 0.]\n",
      " [0. 0. 1. 0. 0.]\n",
      " [0. 0. 0. 1. 0.]\n",
      " [0. 0. 0. 0. 1.]]\n"
     ]
    }
   ],
   "source": [
    "identity_matrix = np.identity(5)\n",
    "\n",
    "print(\"Identity Matrix:\")\n",
    "print(identity_matrix)\n"
   ]
  },
  {
   "cell_type": "code",
   "execution_count": null,
   "id": "95a4f4b0-de7e-432d-925c-4baf2027a762",
   "metadata": {},
   "outputs": [],
   "source": []
  }
 ],
 "metadata": {
  "kernelspec": {
   "display_name": "Python 3 (ipykernel)",
   "language": "python",
   "name": "python3"
  },
  "language_info": {
   "codemirror_mode": {
    "name": "ipython",
    "version": 3
   },
   "file_extension": ".py",
   "mimetype": "text/x-python",
   "name": "python",
   "nbconvert_exporter": "python",
   "pygments_lexer": "ipython3",
   "version": "3.10.8"
  }
 },
 "nbformat": 4,
 "nbformat_minor": 5
}
