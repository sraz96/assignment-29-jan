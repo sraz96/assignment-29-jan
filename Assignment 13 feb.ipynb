{
 "cells": [
  {
   "cell_type": "code",
   "execution_count": null,
   "id": "d716aa9b-4172-4c67-9715-1bd5b3ad0475",
   "metadata": {},
   "outputs": [],
   "source": [
    "Solution 1:-"
   ]
  },
  {
   "cell_type": "code",
   "execution_count": null,
   "id": "7daa350d-72bb-4b7e-ad46-da8590ba529c",
   "metadata": {},
   "outputs": [],
   "source": [
    "We use the 'Exception' class as the base class for custom exceptions in Python because it provides the basic functionality for handling \n",
    "and raising exceptions in Python, and it ensures that our custom exception behaves like a standard Python exception that can be caught \n",
    "and handled using the same mechanisms as built-in exceptions."
   ]
  },
  {
   "cell_type": "code",
   "execution_count": null,
   "id": "c80f8671-bf9e-4fd3-b589-eea19f789c09",
   "metadata": {},
   "outputs": [],
   "source": [
    "Solution 2:-"
   ]
  },
  {
   "cell_type": "code",
   "execution_count": 2,
   "id": "00b2e26c-e2ad-4198-8484-00eaf6c01acc",
   "metadata": {},
   "outputs": [
    {
     "name": "stderr",
     "output_type": "stream",
     "text": [
      "Caught an exception: This is a base exception\n",
      "Traceback (most recent call last):\n",
      "  File \"/tmp/ipykernel_70/757848022.py\", line 7, in <module>\n",
      "    raise Exception(\"This is a base exception\")\n",
      "Exception: This is a base exception\n"
     ]
    }
   ],
   "source": [
    "import logging\n",
    "\n",
    "logger = logging.getLogger(__name__)\n",
    "\n",
    "try:\n",
    "    # raise a base exception\n",
    "    raise Exception(\"This is a base exception\")\n",
    "\n",
    "except Exception as e:\n",
    "    # log the exception hierarchy\n",
    "    logger.error(\"Caught an exception: %s\", e, exc_info=True)\n"
   ]
  },
  {
   "cell_type": "code",
   "execution_count": null,
   "id": "7826d6f0-eafd-4ed8-97c3-cb14c9340f57",
   "metadata": {},
   "outputs": [],
   "source": [
    "Solution 3:-"
   ]
  },
  {
   "cell_type": "code",
   "execution_count": null,
   "id": "4adc12a9-0405-42b4-a279-29f3fb7e28f4",
   "metadata": {},
   "outputs": [],
   "source": [
    "The 'ArithmeticError' class is a built-in exception class in Python that is the base class for all errors that occur during \n",
    "arithmetic operations. Some common errors that are defined in the ArithmeticError class include ZeroDivisionError, OverflowError, \n",
    "and FloatingPointError.\n",
    "\n",
    "Here are two examples of 'ArithmeticError' subclasses and how to handle them using the logging module:"
   ]
  },
  {
   "cell_type": "code",
   "execution_count": null,
   "id": "332b2ab7-a7f1-4fc4-8413-d4cec402b121",
   "metadata": {},
   "outputs": [],
   "source": [
    "1- 'ZeroDivisionError': This exception is raised when you attempt to divide a number by zero. Here's an example:"
   ]
  },
  {
   "cell_type": "code",
   "execution_count": 5,
   "id": "304d4130-7ed3-4106-8a24-6f5941994230",
   "metadata": {},
   "outputs": [
    {
     "name": "stderr",
     "output_type": "stream",
     "text": [
      "Caught a ZeroDivisionError: division by zero\n"
     ]
    }
   ],
   "source": [
    "import logging\n",
    "\n",
    "logger = logging.getLogger(__name__)\n",
    "\n",
    "try:\n",
    "    x = 1/0\n",
    "\n",
    "except ZeroDivisionError as e:\n",
    "    logger.error(\"Caught a ZeroDivisionError: %s\", e)\n"
   ]
  },
  {
   "cell_type": "code",
   "execution_count": null,
   "id": "526bee67-1963-4cef-8c24-8beb793a6e69",
   "metadata": {},
   "outputs": [],
   "source": [
    "2- 'OverflowError': This exception is raised when an arithmetic operation exceeds the maximum value that can be represented by a numeric type.\n",
    "   \n",
    "    Here's an example:"
   ]
  },
  {
   "cell_type": "code",
   "execution_count": 6,
   "id": "623ee92d-8e3b-4790-b3c9-4cfa992edc7f",
   "metadata": {},
   "outputs": [],
   "source": [
    "import logging\n",
    "\n",
    "logger = logging.getLogger(__name__)\n",
    "\n",
    "try:\n",
    "    x = 2 ** 1000\n",
    "\n",
    "except OverflowError as e:\n",
    "    logger.error(\"Caught an OverflowError: %s\", e)\n"
   ]
  },
  {
   "cell_type": "code",
   "execution_count": null,
   "id": "2fd50303-a9c3-427c-9056-74bfcefa9ed8",
   "metadata": {},
   "outputs": [],
   "source": [
    "Solution 4:-"
   ]
  },
  {
   "cell_type": "code",
   "execution_count": null,
   "id": "6582a780-d54f-4a86-815d-58b1a9bfe328",
   "metadata": {},
   "outputs": [],
   "source": [
    "The 'LookupError' class is a base class for all exceptions that occur when a specified key or index is not found in a collection or mapping. \n",
    "It is used to handle errors that arise when trying to access a non-existent item in a sequence, dictionary, or other similar data structures. \n",
    "Some of the built-in exceptions that derive from LookupError include 'IndexError', 'KeyError', and 'ValueError'."
   ]
  },
  {
   "cell_type": "code",
   "execution_count": null,
   "id": "f3d8c532-200c-4cd4-a46f-c0bfcc19798d",
   "metadata": {},
   "outputs": [],
   "source": [
    "1- 'KeyError': This exception is raised when you try to access a key in a dictionary that does not exist.\n",
    "\n",
    "Here's an example:"
   ]
  },
  {
   "cell_type": "code",
   "execution_count": 7,
   "id": "56632cc9-ccfd-450c-9b50-e7ee394e11e9",
   "metadata": {},
   "outputs": [
    {
     "name": "stderr",
     "output_type": "stream",
     "text": [
      "Caught a KeyError: 'c'\n"
     ]
    }
   ],
   "source": [
    "import logging\n",
    "\n",
    "logger = logging.getLogger(__name__)\n",
    "\n",
    "try:\n",
    "    d = {\"a\": 1, \"b\": 2}\n",
    "    x = d[\"c\"]\n",
    "    \n",
    "except KeyError as e:\n",
    "    logger.error(\"Caught a KeyError: %s\", e)\n"
   ]
  },
  {
   "cell_type": "code",
   "execution_count": null,
   "id": "a8b3271e-aaf4-419a-a6ef-43795c7b6aa9",
   "metadata": {},
   "outputs": [],
   "source": [
    "2- 'IndexError': This exception is raised when you try to access an item in a sequence (such as a list or a tuple) that does not exist.\n",
    "\n",
    "Here's an example:"
   ]
  },
  {
   "cell_type": "code",
   "execution_count": 8,
   "id": "20098874-c62b-4c3b-a7f3-36b3a7254746",
   "metadata": {},
   "outputs": [
    {
     "name": "stderr",
     "output_type": "stream",
     "text": [
      "Caught an IndexError: list index out of range\n"
     ]
    }
   ],
   "source": [
    "import logging\n",
    "\n",
    "logger = logging.getLogger(__name__)\n",
    "\n",
    "try:\n",
    "    a = [1, 2, 3]\n",
    "    x = a[3]\n",
    "    \n",
    "except IndexError as e:\n",
    "    logger.error(\"Caught an IndexError: %s\", e)\n"
   ]
  },
  {
   "cell_type": "code",
   "execution_count": null,
   "id": "213f3357-c6b2-4f13-8046-149ffde6567c",
   "metadata": {},
   "outputs": [],
   "source": [
    "'ImportError': 'ImportError' is an exception that is raised when an imported module, function, or object cannot be found or loaded. \n",
    "This error can occur for several reasons, including a misspelled module name, a missing module in the Python installation,\n",
    "or a circular import. The error message that accompanies the exception typically provides some indication of the cause of the problem."
   ]
  },
  {
   "cell_type": "code",
   "execution_count": 9,
   "id": "f5a9dd56-1421-4ff4-adef-f06175406605",
   "metadata": {},
   "outputs": [
    {
     "name": "stderr",
     "output_type": "stream",
     "text": [
      "Caught an ImportError: No module named 'my_module'\n"
     ]
    }
   ],
   "source": [
    "import logging\n",
    "\n",
    "logger = logging.getLogger(__name__)\n",
    "\n",
    "try:\n",
    "    import my_module\n",
    "    \n",
    "except ImportError as e:\n",
    "    logger.error(\"Caught an ImportError: %s\", e)\n"
   ]
  },
  {
   "cell_type": "code",
   "execution_count": null,
   "id": "07473ad7-7346-44c1-8f9c-49595abd09ed",
   "metadata": {},
   "outputs": [],
   "source": [
    "'ModuleNotFoundError': This exception is a subclass of ImportError and is raised specifically when an imported module cannot be found.\n",
    "\n",
    "Here's an example:"
   ]
  },
  {
   "cell_type": "code",
   "execution_count": 10,
   "id": "9b218855-64f6-43b7-9047-ca23ed0b2f70",
   "metadata": {},
   "outputs": [
    {
     "name": "stderr",
     "output_type": "stream",
     "text": [
      "Caught a ModuleNotFoundError: No module named 'non_existent_module'\n"
     ]
    }
   ],
   "source": [
    "import logging\n",
    "\n",
    "logger = logging.getLogger(__name__)\n",
    "\n",
    "try:\n",
    "    import non_existent_module\n",
    "    \n",
    "except ModuleNotFoundError as e:\n",
    "    logger.error(\"Caught a ModuleNotFoundError: %s\", e)\n"
   ]
  },
  {
   "cell_type": "code",
   "execution_count": null,
   "id": "e0156bc6-3929-4842-a2fa-0a533f847472",
   "metadata": {},
   "outputs": [],
   "source": [
    "Solution 5:-"
   ]
  },
  {
   "cell_type": "code",
   "execution_count": null,
   "id": "2037cc95-6e61-4792-998b-5de9d75b31aa",
   "metadata": {},
   "outputs": [],
   "source": [
    "1 :- Use specific exception types: Instead of catching general exceptions like 'Exception', try to catch specific exceptions like 'ValueError',\n",
    "     'TypeError', etc. This allows you to handle exceptions more precisely and write more targeted code.\n",
    "    \n",
    "2 :- Use finally blocks: Use 'finally' blocks to ensure that resources are properly cleaned up, even if an exception is raised. \n",
    "     This is especially important when working with files, databases, or network connections.\n",
    "    \n",
    "3 :- Log exceptions: 'Logging exceptions' with a detailed error message is a good practice, as it helps identify the root cause of the problem.\n",
    "\n",
    "4 :- Don't catch exceptions you can't handle: If you catch an exception but can't do anything about it, re-raise the exception or log the error\n",
    "     and let it propagate up the call stack.\n",
    "    \n",
    "5 :- Handle exceptions as close to the source as possible: Handle exceptions as close to the source as possible, as this makes it easier to\n",
    "     understand the root cause of the problem.\n",
    "    \n",
    "6 :- Use meaningful error messages: Use 'meaningful error messages' that explain what went wrong and provide guidance on how to fix the problem."
   ]
  }
 ],
 "metadata": {
  "kernelspec": {
   "display_name": "Python 3 (ipykernel)",
   "language": "python",
   "name": "python3"
  },
  "language_info": {
   "codemirror_mode": {
    "name": "ipython",
    "version": 3
   },
   "file_extension": ".py",
   "mimetype": "text/x-python",
   "name": "python",
   "nbconvert_exporter": "python",
   "pygments_lexer": "ipython3",
   "version": "3.10.8"
  }
 },
 "nbformat": 4,
 "nbformat_minor": 5
}
