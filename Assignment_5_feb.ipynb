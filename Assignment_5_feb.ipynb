{
 "cells": [
  {
   "cell_type": "code",
   "execution_count": null,
   "id": "dd4376ad-0f0a-45da-8fdc-fd16adf3f891",
   "metadata": {},
   "outputs": [],
   "source": [
    "Solution 1:-"
   ]
  },
  {
   "cell_type": "code",
   "execution_count": null,
   "id": "b7209ef2-7b5b-499e-8395-7dc44f9a1d3a",
   "metadata": {},
   "outputs": [],
   "source": [
    "Class: A class is a blueprint or a template for creating objects. \n",
    "       It defines a set of properties and methods that an object of that class will have.\n",
    "\n",
    "Object: An object is an instance of a class, created at runtime. \n",
    "        Objects have their own properties and methods, which are defined by the class they belong to."
   ]
  },
  {
   "cell_type": "code",
   "execution_count": 5,
   "id": "7c933e12-42b6-4466-aafd-948aa6980703",
   "metadata": {},
   "outputs": [
    {
     "name": "stdout",
     "output_type": "stream",
     "text": [
      "Hello, my name is Santosh Maurya and I am 20 years old.\n"
     ]
    }
   ],
   "source": [
    "class Person:\n",
    "    def __init__(self, name, age):\n",
    "        self.name = name\n",
    "        self.age = age\n",
    "    \n",
    "    def say_hello(self):\n",
    "        print(f\"Hello, my name is {self.name} and I am {self.age} years old.\")\n",
    "        \n",
    "person1 = Person(\"Santosh Maurya\", 20)\n",
    "person1.say_hello()\n"
   ]
  },
  {
   "cell_type": "code",
   "execution_count": null,
   "id": "2666b351-c272-42fe-91a9-586cfd811432",
   "metadata": {},
   "outputs": [],
   "source": [
    "Solution 2:-"
   ]
  },
  {
   "cell_type": "code",
   "execution_count": null,
   "id": "cd38eadd-f77b-40a0-9c2d-ad13b973db93",
   "metadata": {},
   "outputs": [],
   "source": [
    "The four pillars of object-oriented programming (OOP) are:\n",
    "\n",
    "1.Abstraction: It is the process of hiding complex implementation details behind a simplified interface.\n",
    "\n",
    "2.Encapsulation: It is the mechanism of wrapping data and functions within a single unit (object) to protect it \n",
    "                 from outside interference and misuse.\n",
    "\n",
    "3.Inheritance: It is the process by which an object can inherit properties and behaviors from its parent object.\n",
    "\n",
    "4.Polymorphism: It is the ability of objects to take on multiple forms. It enables objects of different classes \n",
    "                to be treated as objects of the same class, allowing for flexible and dynamic code."
   ]
  },
  {
   "cell_type": "code",
   "execution_count": null,
   "id": "76b5563e-3ffe-41e0-b9e8-5d5334dd517f",
   "metadata": {},
   "outputs": [],
   "source": [
    "Solution 3:-"
   ]
  },
  {
   "cell_type": "code",
   "execution_count": null,
   "id": "b383d77c-426b-41aa-a24f-31154f8007c1",
   "metadata": {},
   "outputs": [],
   "source": [
    "The __init__() function is a special method in Python, also known as the constructor. \n",
    "It is used to initialize or create an object when it is created, setting its initial state and values.\n",
    "\n",
    "When a new object of a class is created, the __init__() method is automatically called. \n",
    "It is used to assign values to object properties, perform any necessary setup, or carry out any other\n",
    "operations required when creating an object."
   ]
  },
  {
   "cell_type": "code",
   "execution_count": 6,
   "id": "29e928bf-665a-4668-a1d7-3171db4357aa",
   "metadata": {},
   "outputs": [
    {
     "name": "stdout",
     "output_type": "stream",
     "text": [
      "Make: Toyota\n",
      "Model: Camry\n",
      "Year: 2020\n"
     ]
    }
   ],
   "source": [
    "'''Here's an example to demonstrate the use of __init__():'''\n",
    "\n",
    "class Car:\n",
    "    def __init__(self, make, model, year):\n",
    "        self.make = make\n",
    "        self.model = model\n",
    "        self.year = year\n",
    "\n",
    "my_car = Car(\"Toyota\", \"Camry\", 2020)\n",
    "print(f\"Make: {my_car.make}\")\n",
    "print(f\"Model: {my_car.model}\")\n",
    "print(f\"Year: {my_car.year}\")\n"
   ]
  },
  {
   "cell_type": "code",
   "execution_count": null,
   "id": "50f8e2ff-fc89-4554-b8cf-fe8fbf6ddce8",
   "metadata": {},
   "outputs": [],
   "source": [
    "Solution 4:-"
   ]
  },
  {
   "cell_type": "code",
   "execution_count": null,
   "id": "0a856175-9db1-4405-a246-49bd626b329e",
   "metadata": {},
   "outputs": [],
   "source": [
    "self is a special keyword used in object-oriented programming (OOP) in Python and other programming languages. \n",
    "It is used to refer to the current instance of an object, and it is the first parameter of any method defined within a class.\n",
    "\n",
    "The use of self is essential in OOP, as it allows objects to refer to their own properties and methods. \n",
    "Without self, the properties and methods of an object would not know which instance of the class they belong to \n",
    "and would be unable to access or manipulate the data stored in that instance."
   ]
  },
  {
   "cell_type": "code",
   "execution_count": null,
   "id": "d9ba057c-1166-4062-9d9e-162763f806d1",
   "metadata": {},
   "outputs": [],
   "source": [
    "Solution 5:-"
   ]
  },
  {
   "cell_type": "code",
   "execution_count": null,
   "id": "2e7320ed-7ee2-4c68-995c-f3d4d533746a",
   "metadata": {},
   "outputs": [],
   "source": [
    "Inheritance is a fundamental concept in object-oriented programming (OOP) that allows objects to inherit properties \n",
    "and behaviors from their parent objects. It provides a way for new classes to be derived from existing \n",
    "classes, allowing you to reuse, extend, and modify existing code.\n",
    "\n",
    "There are several types of inheritance in OOP, including:\n",
    "\n",
    "1.Single inheritance: A class inherits properties and behaviors from a single parent class."
   ]
  },
  {
   "cell_type": "code",
   "execution_count": 7,
   "id": "641f52bc-0ee7-4769-81c6-bc87a4c147ca",
   "metadata": {},
   "outputs": [
    {
     "name": "stdout",
     "output_type": "stream",
     "text": [
      "Species: Canine\n",
      "Number of legs: 4\n",
      "Breed: Labrador Retriever\n"
     ]
    }
   ],
   "source": [
    "class Animal:\n",
    "    def __init__(self, species, legs):\n",
    "        self.species = species\n",
    "        self.legs = legs\n",
    "        \n",
    "    def display_species_info(self):\n",
    "        print(f\"Species: {self.species}\")\n",
    "        print(f\"Number of legs: {self.legs}\")\n",
    "        \n",
    "class Dog(Animal):\n",
    "    def __init__(self, breed):\n",
    "        Animal.__init__(self, \"Canine\", 4)\n",
    "        self.breed = breed\n",
    "        \n",
    "    def display_dog_info(self):\n",
    "        self.display_species_info()\n",
    "        print(f\"Breed: {self.breed}\")\n",
    "\n",
    "my_dog = Dog(\"Labrador Retriever\")\n",
    "my_dog.display_dog_info()\n"
   ]
  },
  {
   "cell_type": "code",
   "execution_count": null,
   "id": "c7bcd87a-f3cb-46f0-92ab-a8d1a06d089e",
   "metadata": {},
   "outputs": [],
   "source": [
    "2.Multiple inheritance: A class inherits properties and behaviors from multiple parent classes."
   ]
  },
  {
   "cell_type": "code",
   "execution_count": 9,
   "id": "581c2c15-c7a9-437c-948d-28cac647a0b4",
   "metadata": {},
   "outputs": [
    {
     "name": "stdout",
     "output_type": "stream",
     "text": [
      "Name: Santosh Maurya \n",
      "Age: 30\n",
      "Street: 123 Main St.\n",
      "City: lucknow\n",
      "State: UP\n",
      "Phone number: 8840995266\n"
     ]
    }
   ],
   "source": [
    "class Person:\n",
    "    def __init__(self, name, age):\n",
    "        self.name = name\n",
    "        self.age = age\n",
    "        \n",
    "    def display_person_info(self):\n",
    "        print(f\"Name: {self.name}\")\n",
    "        print(f\"Age: {self.age}\")\n",
    "        \n",
    "class Address:\n",
    "    def __init__(self, street, city, state):\n",
    "        self.street = street\n",
    "        self.city = city\n",
    "        self.state = state\n",
    "        \n",
    "    def display_address_info(self):\n",
    "        print(f\"Street: {self.street}\")\n",
    "        print(f\"City: {self.city}\")\n",
    "        print(f\"State: {self.state}\")\n",
    "        \n",
    "class Contact(Person, Address):\n",
    "    def __init__(self, phone_number):\n",
    "        Person.__init__(self, \"Santosh Maurya \", 30)\n",
    "        Address.__init__(self, \"123 Main St.\", \"lucknow\", \"UP\")\n",
    "        self.phone_number = phone_number\n",
    "        \n",
    "    def display_contact_info(self):\n",
    "        self.display_person_info()\n",
    "        self.display_address_info()\n",
    "        print(f\"Phone number: {self.phone_number}\")\n",
    "\n",
    "my_contact = Contact(\"8840995266\")\n",
    "my_contact.display_contact_info()\n"
   ]
  },
  {
   "cell_type": "code",
   "execution_count": null,
   "id": "3e7b03ee-45ce-45f2-881f-ff6cda203c41",
   "metadata": {},
   "outputs": [],
   "source": [
    "3.Multi-level inheritance: A class inherits properties and behaviors from a parent class,\n",
    "which in turn inherits from a grandparent class."
   ]
  },
  {
   "cell_type": "code",
   "execution_count": 4,
   "id": "26df0e3d-7daa-4451-9249-cebd217b9700",
   "metadata": {},
   "outputs": [
    {
     "name": "stdout",
     "output_type": "stream",
     "text": [
      "Name: John Doe, Age: 22\n",
      "Roll No.: CS101\n",
      "Branch: Computer Science\n"
     ]
    }
   ],
   "source": [
    "class Person:\n",
    "    def __init__(self, name, age):\n",
    "        self.name = name\n",
    "        self.age = age\n",
    "        \n",
    "    def display_info(self):\n",
    "        print(f\"Name: {self.name}, Age: {self.age}\")\n",
    "        \n",
    "class Student(Person):\n",
    "    def __init__(self, name, age, roll_no):\n",
    "        super().__init__(name, age)\n",
    "        self.roll_no = roll_no\n",
    "        \n",
    "    def display_info(self):\n",
    "        super().display_info()\n",
    "        print(f\"Roll No.: {self.roll_no}\")\n",
    "        \n",
    "class CollegeStudent(Student):\n",
    "    def __init__(self, name, age, roll_no, branch):\n",
    "        super().__init__(name, age, roll_no)\n",
    "        self.branch = branch\n",
    "        \n",
    "    def display_info(self):\n",
    "        super().display_info()\n",
    "        print(f\"Branch: {self.branch}\")\n",
    "\n",
    "student = CollegeStudent(\"John Doe\", 22, \"CS101\", \"Computer Science\")\n",
    "student.display_info()\n"
   ]
  },
  {
   "cell_type": "code",
   "execution_count": null,
   "id": "8f3adccf-b214-47b0-8dfa-6f7a926edbb8",
   "metadata": {},
   "outputs": [],
   "source": []
  }
 ],
 "metadata": {
  "kernelspec": {
   "display_name": "Python 3 (ipykernel)",
   "language": "python",
   "name": "python3"
  },
  "language_info": {
   "codemirror_mode": {
    "name": "ipython",
    "version": 3
   },
   "file_extension": ".py",
   "mimetype": "text/x-python",
   "name": "python",
   "nbconvert_exporter": "python",
   "pygments_lexer": "ipython3",
   "version": "3.10.8"
  }
 },
 "nbformat": 4,
 "nbformat_minor": 5
}
