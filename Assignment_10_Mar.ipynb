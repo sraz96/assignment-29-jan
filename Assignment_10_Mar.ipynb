{
 "cells": [
  {
   "cell_type": "markdown",
   "id": "c8a5b3be-0a96-4f52-a6dc-960dc623bfd6",
   "metadata": {},
   "source": [
    "Solution 1:- "
   ]
  },
  {
   "cell_type": "markdown",
   "id": "f75e56e0-c2bb-4941-9189-5b574d08da84",
   "metadata": {},
   "source": [
    "Estimation statistics involves using sample data to make inferences or predictions about population parameters. There are two main types of\n",
    "estimates: point estimates and interval estimates.\n",
    "\n",
    ".Point Estimate: A point estimate is a single value that is used to estimate the population parameter. For example, the sample mean is a \n",
    "point estimate of the population mean.\n",
    "\n",
    ".Interval Estimate: An interval estimate provides a range within which the true population parameter is likely to fall. It is expressed as\n",
    "a confidence interval, which is a range of values with a level of confidence associated with it. For instance, a 95% confidence interval for the population mean provides a range of values within which we are 95% confident the true population mean lies.\n",
    "\n"
   ]
  },
  {
   "cell_type": "markdown",
   "id": "c1070711-feeb-4538-bd00-8a08435e32a4",
   "metadata": {},
   "source": [
    "Solution 2:-"
   ]
  },
  {
   "cell_type": "code",
   "execution_count": 1,
   "id": "45425877-c7bf-4274-a677-efe574e5910e",
   "metadata": {},
   "outputs": [
    {
     "name": "stdout",
     "output_type": "stream",
     "text": [
      "95% Confidence Interval: (48.04003601545995, 51.95996398454005)\n"
     ]
    }
   ],
   "source": [
    "import scipy.stats as stats\n",
    "\n",
    "def estimate_population_mean(sample_mean, sample_std, sample_size, confidence_level=0.95):\n",
    "    margin_of_error = stats.norm.ppf((1 + confidence_level) / 2) * (sample_std / (sample_size**0.5))\n",
    "    lower_bound = sample_mean - margin_of_error\n",
    "    upper_bound = sample_mean + margin_of_error\n",
    "    return lower_bound, upper_bound\n",
    "\n",
    "sample_mean = 50.0\n",
    "sample_std = 10.0\n",
    "sample_size = 100\n",
    "confidence_level = 0.95\n",
    "\n",
    "lower, upper = estimate_population_mean(sample_mean, sample_std, sample_size, confidence_level)\n",
    "print(f\"95% Confidence Interval: ({lower}, {upper})\")\n"
   ]
  },
  {
   "cell_type": "markdown",
   "id": "bfc0b5d1-9769-4a4c-a4e4-ef4c1f0ee40f",
   "metadata": {},
   "source": [
    "Solution 3:-"
   ]
  },
  {
   "cell_type": "code",
   "execution_count": null,
   "id": "2e6d6b7e-2ff3-42eb-a7d3-ca7f3214729c",
   "metadata": {},
   "outputs": [],
   "source": [
    "Hypothesis testing is a statistical method used to make inferences about a population based on a sample of data.\n",
    "It involves formulating a hypothesis about the population parameter, collecting and analyzing data, and drawing conclusions\n",
    "about the population based on the data.\n",
    "\n",
    "Importance of Hypothesis Testing:\n",
    "\n",
    ".Decision Making: Hypothesis testing provides a systematic way to make decisions or draw conclusions about population parameters based on sample data.\n",
    ".Scientific Research: It is widely used in scientific research to validate or reject hypotheses and theories.\n",
    ".Quality Control: Industries use hypothesis testing to ensure the quality of products by testing samples from production batches.\n",
    ".Medical Research: Hypothesis testing is crucial in medical research to evaluate the effectiveness of treatments or drugs.\n",
    ".Policy Making: It is used in social sciences to test hypotheses related to public policy, economics, and sociology.\n"
   ]
  },
  {
   "cell_type": "markdown",
   "id": "02adda0a-73e1-49b8-bc4a-e3a97719ebca",
   "metadata": {},
   "source": [
    "Solution 4:-"
   ]
  },
  {
   "cell_type": "markdown",
   "id": "81526ce2-6a6b-429c-92d9-a8b4d78c95e5",
   "metadata": {},
   "source": [
    "Null Hypothesis (H0): The average weight of male college students is equal to or less than the average weight of female college students.\n",
    "\n",
    "Alternative Hypothesis (H1): The average weight of male college students is greater than the average weight of female college students.\n",
    "\n",
    "Symbolically:\n",
    "\n",
    "H0: μ_male ≤ μ_female\n",
    "H1: μ_male > μ_female\n",
    "Here, μ represents the population mean weight for male and female college students.\n",
    "\n"
   ]
  },
  {
   "cell_type": "markdown",
   "id": "4bbe3a12-5ca6-42af-902c-157b25ae7f7a",
   "metadata": {},
   "source": [
    "Solution 5:-"
   ]
  },
  {
   "cell_type": "code",
   "execution_count": 3,
   "id": "afe88259-5069-454a-9d38-60944ef7185a",
   "metadata": {},
   "outputs": [
    {
     "name": "stdout",
     "output_type": "stream",
     "text": [
      "Reject the null hypothesis\n",
      "T-statistic: 2.683281572999746\n",
      "P-value: 0.028441267986723823\n"
     ]
    }
   ],
   "source": [
    "import scipy.stats as stats\n",
    "\n",
    "def hypothesis_test_two_means(sample1, sample2, alpha=0.05):\n",
    "    t_stat, p_value = stats.ttest_ind(sample1, sample2, equal_var=False)\n",
    "\n",
    "    # Compare p-value to significance level\n",
    "    if p_value < alpha:\n",
    "        print(\"Reject the null hypothesis\")\n",
    "    else:\n",
    "        print(\"Fail to reject the null hypothesis\")\n",
    "\n",
    "    print(f\"T-statistic: {t_stat}\")\n",
    "    print(f\"P-value: {p_value}\")\n",
    "\n",
    "\n",
    "sample_male = [70, 72, 68, 75, 71]\n",
    "sample_female = [65, 68, 62, 70, 67]\n",
    "\n",
    "hypothesis_test_two_means(sample_male, sample_female)\n"
   ]
  },
  {
   "cell_type": "markdown",
   "id": "95a6aa0f-2bc5-49c8-9555-328ec7be06da",
   "metadata": {},
   "source": [
    "Solution 6:-"
   ]
  },
  {
   "cell_type": "code",
   "execution_count": null,
   "id": "50435fd5-d509-4640-866c-fd4f80746402",
   "metadata": {},
   "outputs": [],
   "source": [
    "Null Hypothesis (H0): It is a statement of no effect or no difference. It often represents the status quo or a baseline assumption. Examples:\n",
    "\n",
    "H0: The mean weight of a new drug's effect is equal to the mean weight of a placebo.\n",
    "H0: There is no difference in the average test scores between two teaching methods.\n",
    "Alternative Hypothesis (H1): It contradicts the null hypothesis and suggests an effect or difference. Examples:\n",
    "\n",
    "H1: The mean weight of a new drug's effect is not equal to the mean weight of a placebo.\n",
    "H1: There is a difference in the average test scores between two teaching methods."
   ]
  },
  {
   "cell_type": "markdown",
   "id": "0405f728-314f-499c-95f7-488496863677",
   "metadata": {},
   "source": [
    "Solution 7:-"
   ]
  },
  {
   "cell_type": "code",
   "execution_count": null,
   "id": "9f65cadf-e955-4b7d-ab7e-1b41820bace9",
   "metadata": {},
   "outputs": [],
   "source": [
    "1.Formulate Hypotheses:\n",
    "\n",
    "Null Hypothesis (H0): No effect or no difference.\n",
    "Alternative Hypothesis (H1): The presence of an effect or a difference.\n",
    "2.Set Significance Level (α):\n",
    "\n",
    "Typically 0.05 (5%), but it can vary based on the context.\n",
    "3.Collect and Analyze Data:\n",
    "\n",
    "Gather data through experimentation or observation.\n",
    "Perform statistical analysis on the data.\n",
    "4.Calculate Test Statistic:\n",
    "\n",
    "Depending on the test (e.g., t-test, z-test), calculate the test statistic.\n",
    "5.Determine Critical Region:\n",
    "\n",
    "Identify the critical region based on the significance level and degrees of freedom.\n",
    "6.Make a Decision:\n",
    "\n",
    "If the test statistic falls in the critical region, reject the null hypothesis.\n",
    "If not, fail to reject the null hypothesis.\n",
    "7.Draw a Conclusion:\n",
    "\n",
    "State the conclusion in the context of the problem.\n",
    "Include the decision and potential implications."
   ]
  },
  {
   "cell_type": "markdown",
   "id": "ab97e386-8f17-471c-b1ce-b15fde7ce29a",
   "metadata": {},
   "source": [
    "Solution 8:-"
   ]
  },
  {
   "cell_type": "code",
   "execution_count": null,
   "id": "bdb284d2-27c9-437f-8cf5-66a6759be395",
   "metadata": {},
   "outputs": [],
   "source": [
    "P-value: The p-value is the probability of obtaining a test statistic as extreme as, or more extreme than, the one observed in the sample, \n",
    "assuming that the null hypothesis is true.\n",
    "\n",
    "Significance:\n",
    "\n",
    "A small p-value (typically ≤ α) suggests that the observed data is unlikely under the null hypothesis.\n",
    "If p-value is small, we reject the null hypothesis in favor of the alternative hypothesis.\n",
    "If p-value is large, we fail to reject the null hypothesis."
   ]
  },
  {
   "cell_type": "markdown",
   "id": "225c6360-3623-42d6-b266-30a7cf37bdf7",
   "metadata": {},
   "source": [
    "Solution 9:-"
   ]
  },
  {
   "cell_type": "code",
   "execution_count": 4,
   "id": "38ae2999-5b29-4989-9f4b-26ae6993f145",
   "metadata": {},
   "outputs": [
    {
     "data": {
      "image/png": "[encoded data removed]",
      "text/plain": [
       "<Figure size 640x480 with 1 Axes>"
      ]
     },
     "metadata": {},
     "output_type": "display_data"
    }
   ],
   "source": [
    "import numpy as np\n",
    "import matplotlib.pyplot as plt\n",
    "from scipy.stats import t\n",
    "\n",
    "degrees_of_freedom = 10\n",
    "\n",
    "x = np.linspace(-4, 4, 1000)\n",
    "\n",
    "pdf_values = t.pdf(x, df=degrees_of_freedom)\n",
    "\n",
    "plt.plot(x, pdf_values, label=f't-Distribution (df={degrees_of_freedom})')\n",
    "plt.title(\"Student's t-Distribution\")\n",
    "plt.xlabel('x')\n",
    "plt.ylabel('Probability Density')\n",
    "plt.legend()\n",
    "plt.show()\n"
   ]
  },
  {
   "cell_type": "markdown",
   "id": "e38e9549-4e32-4963-9a65-60a37d74b31f",
   "metadata": {},
   "source": [
    "Solution 10:-"
   ]
  },
  {
   "cell_type": "code",
   "execution_count": 5,
   "id": "b8c33026-839a-4f66-8cb9-9d77d8b4fa22",
   "metadata": {},
   "outputs": [
    {
     "name": "stdout",
     "output_type": "stream",
     "text": [
      "T-statistic: 5.590740285503727\n",
      "P-value: 7.429641843255756e-08\n"
     ]
    }
   ],
   "source": [
    "import numpy as np\n",
    "import scipy.stats as stats\n",
    "\n",
    "def two_sample_t_test(sample1, sample2):\n",
    "    t_stat, p_value = stats.ttest_ind(sample1, sample2)\n",
    "\n",
    "    print(f\"T-statistic: {t_stat}\")\n",
    "    print(f\"P-value: {p_value}\")\n",
    "\n",
    "sample1 = np.random.normal(loc=50, scale=10, size=100)\n",
    "sample2 = np.random.normal(loc=45, scale=10, size=100)\n",
    "\n",
    "two_sample_t_test(sample1, sample2)\n"
   ]
  },
  {
   "cell_type": "markdown",
   "id": "7cd79740-e542-4906-95d9-046979756d68",
   "metadata": {},
   "source": [
    "Solution 11:-"
   ]
  },
  {
   "cell_type": "code",
   "execution_count": null,
   "id": "9f83c16b-d247-4233-b85f-1da4ea89da8a",
   "metadata": {},
   "outputs": [],
   "source": [
    "-Student’s t Distribution: It is a probability distribution that arises in the estimation of the mean of a normally distributed population when the sample size is small and the population standard deviation is unknown. It has heavier tails compared to the normal distribution.\n",
    "\n",
    "-When to use the t-Distribution:\n",
    "\n",
    ".When dealing with small sample sizes.\n",
    ".When the population standard deviation is unknown.\n",
    ".In situations where the data is approximately normally distributed."
   ]
  },
  {
   "cell_type": "markdown",
   "id": "3da9c3aa-40f1-42ce-b5c7-eed5deaae717",
   "metadata": {},
   "source": [
    "Solution 12:-"
   ]
  },
  {
   "cell_type": "code",
   "execution_count": null,
   "id": "87469ae6-9c28-4aca-8485-068f6ce6b70a",
   "metadata": {},
   "outputs": [],
   "source": [
    "t-statistic: The t-statistic is a measure that quantifies the difference between the sample mean and the population mean in standard \n",
    "deviation units.\n",
    "\n",
    "Formula for t-statistic (for a one-sample t-test):\n",
    "    \n",
    "    t = (x bar - μ)/(s/√n)\n",
    "    \n",
    "x bar is the sample mean.\n",
    "μ is the population mean under the null hypothesis.\n",
    "s is the sample standard deviation.\n",
    "n is the sample size.\n",
    "The t-statistic measures how many standard errors the sample mean is from the population mean, considering the variability within the sample."
   ]
  },
  {
   "cell_type": "markdown",
   "id": "1bc97e98-f635-493f-9240-e42e94f33402",
   "metadata": {},
   "source": [
    "Solution 13:-"
   ]
  },
  {
   "cell_type": "code",
   "execution_count": null,
   "id": "45de5214-4a6a-47b3-a116-3c3558b2292e",
   "metadata": {},
   "outputs": [],
   "source": [
    "For a 95% confidence interval, we can use the formula:\n",
    "\n",
    "Confidence Interval=x bar ± z(s/√n)\n",
    "\n",
    "\n",
    "\n",
    "x bar is the sample mean,\n",
    "s is the sample standard deviation,\n",
    "n is the sample size,\n",
    "Z is the Z-score corresponding to the desired confidence level.\n",
    "For a 95% confidence interval, \n",
    "Z≈1.96 (standard normal distribution value)."
   ]
  },
  {
   "cell_type": "code",
   "execution_count": 6,
   "id": "39e355c4-4562-451a-bc04-df3bc516695c",
   "metadata": {},
   "outputs": [
    {
     "name": "stdout",
     "output_type": "stream",
     "text": [
      "95% Confidence Interval: ($486.14, $513.86)\n"
     ]
    }
   ],
   "source": [
    "import scipy.stats as stats\n",
    "\n",
    "sample_mean = 500\n",
    "sample_std = 50\n",
    "sample_size = 50\n",
    "confidence_level = 0.95\n",
    "\n",
    "margin_of_error = stats.norm.ppf((1 + confidence_level) / 2) * (sample_std / (sample_size**0.5))\n",
    "\n",
    "lower_bound = sample_mean - margin_of_error\n",
    "upper_bound = sample_mean + margin_of_error\n",
    "\n",
    "print(f\"95% Confidence Interval: (${lower_bound:.2f}, ${upper_bound:.2f})\")\n"
   ]
  },
  {
   "cell_type": "markdown",
   "id": "f9bc9901-48ec-42bb-8ba2-6ed6a50d342d",
   "metadata": {},
   "source": [
    "Solution 14:-"
   ]
  },
  {
   "cell_type": "code",
   "execution_count": null,
   "id": "080c968b-09a8-4743-b9ad-a9282a1f34d0",
   "metadata": {},
   "outputs": [],
   "source": [
    "For hypothesis testing, the null and alternative hypotheses are:\n",
    "\n",
    "H0 : μ=10\n",
    "H1 : μ not equal 10\n",
    "\n",
    "The significance level (α) is 0.05."
   ]
  },
  {
   "cell_type": "code",
   "execution_count": 7,
   "id": "85b70547-81b1-47e6-bf88-7fabea71048b",
   "metadata": {},
   "outputs": [
    {
     "name": "stdout",
     "output_type": "stream",
     "text": [
      "Fail to reject the null hypothesis\n",
      "T-statistic: nan\n",
      "P-value: nan\n"
     ]
    },
    {
     "name": "stderr",
     "output_type": "stream",
     "text": [
      "/tmp/ipykernel_77/2719931118.py:8: RuntimeWarning: Precision loss occurred in moment calculation due to catastrophic cancellation. This occurs when the data are nearly identical. Results may be unreliable.\n",
      "  t_stat, p_value = stats.ttest_1samp([sample_mean], population_mean)\n",
      "/opt/conda/lib/python3.10/site-packages/scipy/stats/_stats_py.py:1253: RuntimeWarning: divide by zero encountered in divide\n",
      "  var *= np.divide(n, n-ddof)  # to avoid error on division by zero\n",
      "/opt/conda/lib/python3.10/site-packages/scipy/stats/_stats_py.py:1253: RuntimeWarning: invalid value encountered in double_scalars\n",
      "  var *= np.divide(n, n-ddof)  # to avoid error on division by zero\n"
     ]
    }
   ],
   "source": [
    "import scipy.stats as stats\n",
    "sample_mean = 8\n",
    "population_mean = 10\n",
    "sample_std = 3\n",
    "sample_size = 100\n",
    "alpha = 0.05\n",
    "\n",
    "t_stat, p_value = stats.ttest_1samp([sample_mean], population_mean)\n",
    "\n",
    "if p_value < alpha:\n",
    "    print(\"Reject the null hypothesis\")\n",
    "else:\n",
    "    print(\"Fail to reject the null hypothesis\")\n",
    "\n",
    "print(f\"T-statistic: {t_stat}\")\n",
    "print(f\"P-value: {p_value}\")\n"
   ]
  },
  {
   "cell_type": "markdown",
   "id": "a6802d48-8a59-4b22-8b53-d607c83101ee",
   "metadata": {},
   "source": [
    "Solution 15:-"
   ]
  },
  {
   "cell_type": "code",
   "execution_count": null,
   "id": "5fdfdc26-c2cd-4406-b693-13914fd12f05",
   "metadata": {},
   "outputs": [],
   "source": [
    "For hypothesis testing, the null and alternative hypotheses are:\n",
    "\n",
    "H0 : μ ≥ 5\n",
    "H1 : μ < 5\n",
    "\n",
    "The significance level (α) is 0.01."
   ]
  },
  {
   "cell_type": "code",
   "execution_count": 8,
   "id": "8a7de2a6-f8d3-4f9d-9f47-1f8739d354f9",
   "metadata": {},
   "outputs": [
    {
     "name": "stdout",
     "output_type": "stream",
     "text": [
      "Fail to reject the null hypothesis\n",
      "T-statistic: nan\n",
      "P-value: nan\n"
     ]
    },
    {
     "name": "stderr",
     "output_type": "stream",
     "text": [
      "/tmp/ipykernel_77/590409447.py:9: RuntimeWarning: Precision loss occurred in moment calculation due to catastrophic cancellation. This occurs when the data are nearly identical. Results may be unreliable.\n",
      "  t_stat, p_value = stats.ttest_1samp([sample_mean], population_mean)\n"
     ]
    }
   ],
   "source": [
    "import scipy.stats as stats\n",
    "\n",
    "sample_mean = 4.8\n",
    "population_mean = 5\n",
    "sample_std = 0.5\n",
    "sample_size = 25\n",
    "alpha = 0.01\n",
    "\n",
    "t_stat, p_value = stats.ttest_1samp([sample_mean], population_mean)\n",
    "\n",
    "if p_value < alpha:\n",
    "    print(\"Reject the null hypothesis\")\n",
    "else:\n",
    "    print(\"Fail to reject the null hypothesis\")\n",
    "\n",
    "print(f\"T-statistic: {t_stat}\")\n",
    "print(f\"P-value: {p_value}\")\n"
   ]
  },
  {
   "cell_type": "markdown",
   "id": "ab84f356-3a6c-46ba-986e-2476cf131470",
   "metadata": {},
   "source": [
    "Solution 16:-"
   ]
  },
  {
   "cell_type": "code",
   "execution_count": null,
   "id": "4f89471b-5505-4e17-84bd-54e808e9800a",
   "metadata": {},
   "outputs": [],
   "source": [
    "H0 : μ1 = μ2\n",
    "H1 : μ1 not= μ2\n",
    "\n",
    "The significance level (α) is 0.01."
   ]
  },
  {
   "cell_type": "code",
   "execution_count": 9,
   "id": "1a228474-df81-4dbf-8c76-3490282b6c32",
   "metadata": {},
   "outputs": [
    {
     "name": "stdout",
     "output_type": "stream",
     "text": [
      "Fail to reject the null hypothesis\n",
      "T-statistic: 2.323967729699292\n",
      "P-value: 0.02312301341372599\n"
     ]
    }
   ],
   "source": [
    "import scipy.stats as stats\n",
    "\n",
    "mean_group1 = 80\n",
    "std_group1 = 10\n",
    "size_group1 = 30\n",
    "\n",
    "mean_group2 = 75\n",
    "std_group2 = 8\n",
    "size_group2 = 40\n",
    "\n",
    "alpha = 0.01\n",
    "\n",
    "t_stat, p_value = stats.ttest_ind_from_stats(mean_group1, std_group1, size_group1, mean_group2, std_group2, size_group2)\n",
    "\n",
    "if p_value < alpha:\n",
    "    print(\"Reject the null hypothesis\")\n",
    "else:\n",
    "    print(\"Fail to reject the null hypothesis\")\n",
    "\n",
    "print(f\"T-statistic: {t_stat}\")\n",
    "print(f\"P-value: {p_value}\")\n"
   ]
  },
  {
   "cell_type": "markdown",
   "id": "77170f9a-6af0-47eb-8ebe-fe5a809350ce",
   "metadata": {},
   "source": [
    "Solution 17:-"
   ]
  },
  {
   "cell_type": "code",
   "execution_count": null,
   "id": "bc06a1a5-46d8-463b-884f-0e4fcdb8eaa9",
   "metadata": {},
   "outputs": [],
   "source": [
    "For a 99% confidence interval, we can use the formula:\n",
    "    \n",
    "Confidence Interval=x bar ± z(s/√n)\n",
    "\n",
    "For a 99% confidence interval, \n",
    "Z≈2.576 (standard normal distribution value)."
   ]
  },
  {
   "cell_type": "code",
   "execution_count": 12,
   "id": "d630ba57-bf15-49e2-9bf7-81f8c5efb551",
   "metadata": {},
   "outputs": [
    {
     "name": "stdout",
     "output_type": "stream",
     "text": [
      "99% Confidence Interval: (-9.86, 17.86)\n"
     ]
    }
   ],
   "source": [
    "import scipy.stats as stats\n",
    "\n",
    "sample_mean = 4\n",
    "sample_std = 1.5\n",
    "sample_size = 50\n",
    "confidence_level = 0.99\n",
    "\n",
    "lower_bound = sample_mean - margin_of_error\n",
    "upper_bound = sample_mean + margin_of_error\n",
    "\n",
    "print(f\"99% Confidence Interval: ({lower_bound:.2f}, {upper_bound:.2f})\")\n"
   ]
  },
  {
   "cell_type": "code",
   "execution_count": null,
   "id": "1a052530-b44e-464b-a95c-0083fe5f35bf",
   "metadata": {},
   "outputs": [],
   "source": []
  }
 ],
 "metadata": {
  "kernelspec": {
   "display_name": "Python 3 (ipykernel)",
   "language": "python",
   "name": "python3"
  },
  "language_info": {
   "codemirror_mode": {
    "name": "ipython",
    "version": 3
   },
   "file_extension": ".py",
   "mimetype": "text/x-python",
   "name": "python",
   "nbconvert_exporter": "python",
   "pygments_lexer": "ipython3",
   "version": "3.10.8"
  }
 },
 "nbformat": 4,
 "nbformat_minor": 5
}
