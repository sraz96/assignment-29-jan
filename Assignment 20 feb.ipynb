{
 "cells": [
  {
   "cell_type": "code",
   "execution_count": null,
   "id": "eeeedd44-3394-46a8-bea5-68c0831ab36b",
   "metadata": {},
   "outputs": [],
   "source": [
    "Solution 1:-"
   ]
  },
  {
   "cell_type": "code",
   "execution_count": null,
   "id": "a07716df-c5b1-4323-852e-0040c7e5933a",
   "metadata": {},
   "outputs": [],
   "source": [
    "GET and POST are HTTP methods used to request and submit data between a client and a server. They differ in the way they send data and the \n",
    "intended use case for each method."
   ]
  },
  {
   "cell_type": "code",
   "execution_count": null,
   "id": "a192ccb3-ddf2-4fc7-ae7a-988fb0eaebaa",
   "metadata": {},
   "outputs": [],
   "source": [
    "GET method:\n",
    "\n",
    "Retrieves a resource from a server\n",
    "Data is sent in the URL as query parameters\n",
    "Limited amount of data can be sent (usually up to a few kilobytes)\n",
    "Can be bookmarked, cached, or shared easily\n",
    "Not suitable for sensitive or complex data, since the data is visible in the URL and can be intercepted or modified by third parties\n",
    "Idempotent, meaning the same request can be sent multiple times without changing the server state"
   ]
  },
  {
   "cell_type": "code",
   "execution_count": null,
   "id": "f5845989-45ae-4f36-a263-6c97bdb137c7",
   "metadata": {},
   "outputs": [],
   "source": [
    "POST method:\n",
    "\n",
    "Submits data to be processed by a server\n",
    "Data is sent in the request body\n",
    "No limit on the amount of data that can be sent\n",
    "Not bookmarkable or cacheable by default, but can be cached if explicitly allowed\n",
    "Suitable for sensitive or complex data, since the data is not visible in the URL\n",
    "Non-idempotent, meaning sending the same request multiple times may change the server state differently each time"
   ]
  },
  {
   "cell_type": "code",
   "execution_count": null,
   "id": "e8b2e0a2-ea30-47c2-8f03-4171be39e402",
   "metadata": {},
   "outputs": [],
   "source": [
    "Solution 2:-"
   ]
  },
  {
   "cell_type": "code",
   "execution_count": null,
   "id": "ee9e71c5-438c-4f7f-965d-39cc51ad6801",
   "metadata": {},
   "outputs": [],
   "source": [
    "In Flask, the request object is used to handle incoming HTTP requests and retrieve data submitted by clients in a request.\n",
    "\n",
    "The request object provides several attributes and methods to access and manipulate the data in the request, such as:\n",
    "\n",
    ".args: a dictionary-like object containing the query parameters of a GET request\n",
    ".form: a dictionary-like object containing the form data submitted in a POST request\n",
    ".files: a dictionary-like object containing the files uploaded in a POST request\n",
    ".cookies: a dictionary-like object containing the cookies sent by the client\n",
    ".headers: a dictionary-like object containing the HTTP headers of the request"
   ]
  },
  {
   "cell_type": "code",
   "execution_count": null,
   "id": "4d800f29-504b-4d83-a1b4-f98cd05364fa",
   "metadata": {},
   "outputs": [],
   "source": [
    "For example, in a Flask view function, you can retrieve the data submitted in a form using the request.form attribute and process it like this:"
   ]
  },
  {
   "cell_type": "code",
   "execution_count": null,
   "id": "3ca6caa0-d3ea-4cd7-bb33-d6f64266452a",
   "metadata": {},
   "outputs": [],
   "source": [
    "from flask import Flask, request\n",
    "\n",
    "app = Flask(__name__)\n",
    "\n",
    "@app.route('/submit-form', methods=['POST'])\n",
    "def submit_form():\n",
    "    name = request.form.get('name')\n",
    "    email = request.form.get('email')\n",
    "    message = request.form.get('message')\n"
   ]
  },
  {
   "cell_type": "code",
   "execution_count": null,
   "id": "1988fbfb-ee72-4578-9faa-f74bbddde7ff",
   "metadata": {},
   "outputs": [],
   "source": [
    "Solution 3:-"
   ]
  },
  {
   "cell_type": "code",
   "execution_count": null,
   "id": "79bbcead-b11b-4251-a4a8-25aee1bc25bb",
   "metadata": {},
   "outputs": [],
   "source": [
    "In Flask, the redirect() function is used to redirect the client to a different URL after a request has been processed.\n",
    "\n",
    "There are several use cases where redirect() can be useful in a Flask application, such as:\n",
    "\n",
    ".After processing a form submission, redirecting the user to a \"thank you\" page or a page that displays the submitted data.\n",
    ".After processing a login request, redirecting the user to their profile page or the page they were originally trying to access.\n",
    ".After processing a request that modifies data, redirecting the user to a page that displays the updated data."
   ]
  },
  {
   "cell_type": "code",
   "execution_count": null,
   "id": "56c0f6a3-0dc1-493d-bdda-5f729e38d07d",
   "metadata": {},
   "outputs": [],
   "source": [
    "from flask import Flask, redirect, url_for\n",
    "\n",
    "app = Flask(__name__)\n",
    "\n",
    "@app.route('/login', methods=['POST'])\n",
    "def login():\n",
    "    # process the login request and check if the user is authenticated\n",
    "    if authenticated:\n",
    "        return redirect(url_for('profile'))\n",
    "    else:\n",
    "        return render_template('login.html', error='Invalid username or password')\n",
    "\n",
    "@app.route('/profile')\n",
    "def profile():\n",
    "    return render_template('profile.html')\n"
   ]
  },
  {
   "cell_type": "code",
   "execution_count": null,
   "id": "cb73200a-76fb-4906-abff-d1e7b83213bc",
   "metadata": {},
   "outputs": [],
   "source": [
    "Solution 4:-"
   ]
  },
  {
   "cell_type": "code",
   "execution_count": null,
   "id": "e279e4db-7354-4304-ba91-957afa46eca7",
   "metadata": {},
   "outputs": [],
   "source": [
    "In Flask, templates are files that contain HTML markup with placeholders for dynamic data that are generated by the application. \n",
    "Templates are used to separate the presentation logic from the business logic of the application, making it easier to maintain and update \n",
    "the user interface."
   ]
  },
  {
   "cell_type": "code",
   "execution_count": null,
   "id": "bc5ab751-b02b-4513-9722-6b52dbbe9f6a",
   "metadata": {},
   "outputs": [],
   "source": [
    "The render_template() function is used to render a template and generate an HTML response that is sent to the client. The function takes\n",
    "the name of the template file and any additional context data that the template requires as arguments."
   ]
  },
  {
   "cell_type": "code",
   "execution_count": null,
   "id": "a81d169e-2ac3-4222-b1f3-d86fac8b2758",
   "metadata": {},
   "outputs": [],
   "source": [
    "from flask import Flask, render_template\n",
    "\n",
    "app = Flask(__name__)\n",
    "\n",
    "@app.route('/')\n",
    "def index():\n",
    "    name = 'Santosh'\n",
    "    return render_template('index.html', name=name)\n"
   ]
  },
  {
   "cell_type": "code",
   "execution_count": null,
   "id": "693e2c10-126a-4628-ab53-8ea620259868",
   "metadata": {},
   "outputs": [],
   "source": [
    "Solution 5:-"
   ]
  },
  {
   "cell_type": "code",
   "execution_count": null,
   "id": "72d21f3f-1207-46fd-bf6d-806d2c066403",
   "metadata": {},
   "outputs": [],
   "source": [
    "from flask import Flask, jsonify\n",
    "\n",
    "app = Flask(__name__)\n",
    "\n",
    "items = ['item1', 'item2', 'item3']\n",
    "\n",
    "@app.route('/api/items', methods=['GET'])\n",
    "def get_items():\n",
    "    return jsonify(items)\n",
    "\n",
    "if __name__ == '__main__':\n",
    "    app.run(debug=True)\n"
   ]
  },
  {
   "cell_type": "code",
   "execution_count": null,
   "id": "7e213e82-cbc8-4b78-893d-183b47873b44",
   "metadata": {},
   "outputs": [],
   "source": [
    "# I don't know how to upload a screenshot in jupyter notebook"
   ]
  }
 ],
 "metadata": {
  "kernelspec": {
   "display_name": "Python 3 (ipykernel)",
   "language": "python",
   "name": "python3"
  },
  "language_info": {
   "codemirror_mode": {
    "name": "ipython",
    "version": 3
   },
   "file_extension": ".py",
   "mimetype": "text/x-python",
   "name": "python",
   "nbconvert_exporter": "python",
   "pygments_lexer": "ipython3",
   "version": "3.10.8"
  }
 },
 "nbformat": 4,
 "nbformat_minor": 5
}
