{
 "cells": [
  {
   "cell_type": "code",
   "execution_count": 1,
   "id": "7c973c96-c067-4520-8b26-d70fb56be2e3",
   "metadata": {},
   "outputs": [
    {
     "name": "stdout",
     "output_type": "stream",
     "text": [
      "Requirement already satisfied: pandas in /opt/conda/lib/python3.10/site-packages (1.5.2)\n",
      "Requirement already satisfied: python-dateutil>=2.8.1 in /opt/conda/lib/python3.10/site-packages (from pandas) (2.8.2)\n",
      "Requirement already satisfied: pytz>=2020.1 in /opt/conda/lib/python3.10/site-packages (from pandas) (2022.6)\n",
      "Requirement already satisfied: numpy>=1.21.0 in /opt/conda/lib/python3.10/site-packages (from pandas) (1.23.5)\n",
      "Requirement already satisfied: six>=1.5 in /opt/conda/lib/python3.10/site-packages (from python-dateutil>=2.8.1->pandas) (1.16.0)\n",
      "Note: you may need to restart the kernel to use updated packages.\n"
     ]
    }
   ],
   "source": [
    "pip install pandas"
   ]
  },
  {
   "cell_type": "code",
   "execution_count": null,
   "id": "3f25be59-78e5-4568-8a9b-970694e30cec",
   "metadata": {},
   "outputs": [],
   "source": [
    "Solution 1:-"
   ]
  },
  {
   "cell_type": "code",
   "execution_count": 2,
   "id": "0dde3800-598a-4c67-b886-b52c12929831",
   "metadata": {},
   "outputs": [],
   "source": [
    "import pandas as pd"
   ]
  },
  {
   "cell_type": "code",
   "execution_count": 3,
   "id": "aaa20f74-b681-4837-869a-8b989840f23f",
   "metadata": {},
   "outputs": [
    {
     "name": "stdout",
     "output_type": "stream",
     "text": [
      "0     4\n",
      "1     8\n",
      "2    15\n",
      "3    16\n",
      "4    23\n",
      "5    42\n",
      "dtype: int64\n"
     ]
    }
   ],
   "source": [
    "import pandas as pd\n",
    "\n",
    "data = [4, 8, 15, 16, 23, 42]\n",
    "my_series = pd.Series(data)\n",
    "print(my_series)\n"
   ]
  },
  {
   "cell_type": "code",
   "execution_count": null,
   "id": "cd5c9471-a0b8-4881-b44c-63d57452bb22",
   "metadata": {},
   "outputs": [],
   "source": [
    "Solution 2:-"
   ]
  },
  {
   "cell_type": "code",
   "execution_count": 4,
   "id": "895ef063-f9e5-496f-9d7b-f49ee32202cf",
   "metadata": {},
   "outputs": [
    {
     "name": "stdout",
     "output_type": "stream",
     "text": [
      "0     1\n",
      "1     2\n",
      "2     3\n",
      "3     4\n",
      "4     5\n",
      "5     6\n",
      "6     7\n",
      "7     8\n",
      "8     9\n",
      "9    10\n",
      "dtype: int64\n"
     ]
    }
   ],
   "source": [
    "my_list = [1, 2, 3, 4, 5, 6, 7, 8, 9, 10]\n",
    "my_series = pd.Series(my_list)\n",
    "print(my_series)\n"
   ]
  },
  {
   "cell_type": "code",
   "execution_count": null,
   "id": "8f56d1a0-f7a6-42bf-bda2-5eaa6dca7c49",
   "metadata": {},
   "outputs": [],
   "source": [
    "Solution 3:-"
   ]
  },
  {
   "cell_type": "code",
   "execution_count": 5,
   "id": "f70ebb51-80fe-45de-89b8-fce3e2d9e82a",
   "metadata": {},
   "outputs": [
    {
     "name": "stdout",
     "output_type": "stream",
     "text": [
      "     Name  Age  Gender\n",
      "0   Alice   25  Female\n",
      "1     Bob   30    Male\n",
      "2  Claire   27  Female\n"
     ]
    }
   ],
   "source": [
    "data = {'Name': ['Alice', 'Bob', 'Claire'], 'Age': [25, 30, 27], 'Gender': ['Female', 'Male', 'Female']}\n",
    "df = pd.DataFrame(data)\n",
    "print(df)\n"
   ]
  },
  {
   "cell_type": "code",
   "execution_count": null,
   "id": "44be23bd-14d0-4792-a799-c7dfedc1ac53",
   "metadata": {},
   "outputs": [],
   "source": [
    "Solution 4:-"
   ]
  },
  {
   "cell_type": "code",
   "execution_count": null,
   "id": "a38fe1d7-b689-46f1-bb3e-4045225d1841",
   "metadata": {},
   "outputs": [],
   "source": [
    "A DataFrame in pandas is a 2-dimensional labeled data structure with columns of potentially different types. It is like a spreadsheet or \n",
    "SQL table. It is different from a Series in that a Series is a one-dimensional labeled array capable of holding data of any type\n",
    "(integer, string, float, python objects, etc.)."
   ]
  },
  {
   "cell_type": "code",
   "execution_count": null,
   "id": "bd1cd635-16d1-4ab4-a615-ed6ba9d38783",
   "metadata": {},
   "outputs": [],
   "source": [
    "Here's an example to illustrate the difference:"
   ]
  },
  {
   "cell_type": "code",
   "execution_count": 7,
   "id": "493bb513-bcc2-4246-86ba-48c2f992f0fc",
   "metadata": {},
   "outputs": [
    {
     "name": "stdout",
     "output_type": "stream",
     "text": [
      "0    10\n",
      "1    20\n",
      "2    30\n",
      "3    40\n",
      "dtype: int64\n",
      "     Name  Age  Gender\n",
      "0   Alice   25  Female\n",
      "1     Bob   30    Male\n",
      "2  Claire   27  Female\n"
     ]
    }
   ],
   "source": [
    "# create a Series\n",
    "my_series = pd.Series([10, 20, 30, 40])\n",
    "print(my_series)\n",
    "\n",
    "# create a DataFrame\n",
    "data = {'Name': ['Alice', 'Bob', 'Claire'], 'Age': [25, 30, 27], 'Gender': ['Female', 'Male', 'Female']}\n",
    "df = pd.DataFrame(data)\n",
    "print(df)\n"
   ]
  },
  {
   "cell_type": "code",
   "execution_count": null,
   "id": "4fdb5fae-74fa-459b-ad42-60de1e3bce9e",
   "metadata": {},
   "outputs": [],
   "source": [
    "Solutoin 5:-"
   ]
  },
  {
   "cell_type": "code",
   "execution_count": null,
   "id": "5cd83e3d-18a3-4722-a7e6-c907ce810322",
   "metadata": {},
   "outputs": [],
   "source": [
    "There are numerous functions available in Pandas to manipulate data in a DataFrame. Some common ones include:\n",
    "\n",
    "1.head() - displays the first few rows of the DataFrame. This is useful when you want to quickly inspect the structure of the data.\n",
    "2.tail() - displays the last few rows of the DataFrame.\n",
    "3.info() - displays a summary of the DataFrame, including the number of non-null values and data types of each column.\n",
    "4.describe() - provides summary statistics for numerical columns in the DataFrame, such as mean, standard deviation, minimum, and maximum values.\n",
    "5.drop() - removes rows or columns from the DataFrame.\n",
    "6.fillna() - replaces missing values in the DataFrame with a specified value.\n",
    "7.groupby() - groups data in the DataFrame based on one or more columns, allowing you to perform calculations on each group.\n",
    "8.merge() - combines two or more DataFrames based on a common column.\n",
    "9.sort_values() - sorts the DataFrame by one or more columns.\n",
    "10.pivot_table() - creates a summary table that aggregates data based on two or more columns.\n",
    "\n",
    "For example, if you wanted to group a DataFrame by a particular column and calculate the mean value for each group, you could use the \n",
    "groupby() function. Here's an example:"
   ]
  },
  {
   "cell_type": "code",
   "execution_count": 10,
   "id": "6736dd7d-1c47-4ef8-89c9-0132c2a43bd9",
   "metadata": {},
   "outputs": [
    {
     "name": "stdout",
     "output_type": "stream",
     "text": [
      "gender\n",
      "Female    26.666667\n",
      "Male      31.000000\n",
      "Name: age, dtype: float64\n"
     ]
    }
   ],
   "source": [
    "data = {\n",
    "    'name': ['Alice', 'Bob', 'Claire', 'David', 'Emily'],\n",
    "    'age': [25, 30, 27, 32, 28],\n",
    "    'gender': ['Female', 'Male', 'Female', 'Male', 'Female']\n",
    "}\n",
    "\n",
    "df = pd.DataFrame(data)\n",
    "\n",
    "grouped = df.groupby('gender')['age'].mean()\n",
    "\n",
    "print(grouped)\n"
   ]
  },
  {
   "cell_type": "code",
   "execution_count": null,
   "id": "c657da64-7585-4cf0-890d-7785bcecb7ae",
   "metadata": {},
   "outputs": [],
   "source": [
    "Solution 6:-"
   ]
  },
  {
   "cell_type": "code",
   "execution_count": null,
   "id": "3b6b43bb-c6ca-4322-902f-5f750d93ad64",
   "metadata": {},
   "outputs": [],
   "source": [
    "Out of the three objects Series, DataFrame, and Panel, only the DataFrame is mutable in nature. That means the values of a DataFrame can \n",
    "be changed, added or deleted after its creation."
   ]
  },
  {
   "cell_type": "code",
   "execution_count": null,
   "id": "46ec6338-7b77-43b3-a699-0dd33fc3a340",
   "metadata": {},
   "outputs": [],
   "source": [
    "Solution 7:-"
   ]
  },
  {
   "cell_type": "code",
   "execution_count": null,
   "id": "5da57928-e943-4bbf-a8cc-e1bd891e7613",
   "metadata": {},
   "outputs": [],
   "source": [
    "We can create a DataFrame using multiple Series by passing them as arguments to the pd.DataFrame() constructor. Here's an example:"
   ]
  },
  {
   "cell_type": "code",
   "execution_count": 11,
   "id": "9fd2c463-2637-4749-aca3-8060568402f6",
   "metadata": {},
   "outputs": [
    {
     "name": "stdout",
     "output_type": "stream",
     "text": [
      "     Name  Age  Gender\n",
      "0   Alice   25  Female\n",
      "1     Bob   30    Male\n",
      "2  Claire   27  Female\n"
     ]
    }
   ],
   "source": [
    "name = pd.Series(['Alice', 'Bob', 'Claire'])\n",
    "age = pd.Series([25, 30, 27])\n",
    "gender = pd.Series(['Female', 'Male', 'Female'])\n",
    "\n",
    "df = pd.DataFrame({'Name': name, 'Age': age, 'Gender': gender})\n",
    "\n",
    "print(df)\n"
   ]
  },
  {
   "cell_type": "code",
   "execution_count": null,
   "id": "d3fc6d0b-24cb-4ec2-8c44-6a000cbbd6c6",
   "metadata": {},
   "outputs": [],
   "source": []
  }
 ],
 "metadata": {
  "kernelspec": {
   "display_name": "Python 3 (ipykernel)",
   "language": "python",
   "name": "python3"
  },
  "language_info": {
   "codemirror_mode": {
    "name": "ipython",
    "version": 3
   },
   "file_extension": ".py",
   "mimetype": "text/x-python",
   "name": "python",
   "nbconvert_exporter": "python",
   "pygments_lexer": "ipython3",
   "version": "3.10.8"
  }
 },
 "nbformat": 4,
 "nbformat_minor": 5
}
