{
 "cells": [
  {
   "cell_type": "code",
   "execution_count": null,
   "id": "6d44403d-2774-454f-94dc-2d372fac67f0",
   "metadata": {},
   "outputs": [],
   "source": [
    "Solution 1:-"
   ]
  },
  {
   "cell_type": "markdown",
   "id": "16dd8e81-0d5d-4efe-8389-f9b353dff412",
   "metadata": {},
   "source": [
    "1.Mean: The mean is the average of a set of values. To calculate the mean, you add up all the values and then divide by the number of values. It is represented by \n",
    "      the symbol μ (mu) for a population and x̄ (x-bar) for a sample.\n",
    "\n",
    "2.Median: The median is the middle value in a data set when it is ordered from least to greatest. If there is an even number of values, the median is the average of \n",
    "        the two middle values. The median is not affected by extreme outliers and is often used when the data may not be normally distributed.\n",
    "\n",
    "3.Mode: The mode is the most frequently occurring value in a data set. A data set can have no mode, one mode (unimodal), or multiple modes (multimodal). \n",
    "    The mode is useful for identifying the most common value or category in a dataset."
   ]
  },
  {
   "cell_type": "code",
   "execution_count": null,
   "id": "b8e5d676-ad78-4c53-9f52-0d5f940a6ff9",
   "metadata": {},
   "outputs": [],
   "source": [
    "Solution 2:-"
   ]
  },
  {
   "cell_type": "markdown",
   "id": "2a9c5a7c-bd7f-4cfc-80fd-400b05eb9755",
   "metadata": {},
   "source": [
    ".Mean: The mean provides the average value of a dataset. It is calculated by adding up all the values and dividing by the total number of values. \n",
    "       The mean is sensitive to outliers, meaning that extreme values can significantly affect the mean. It is used when you want to find the typical \n",
    "       or average value of a dataset with a roughly normal distribution.\n",
    "\n",
    ".Median: The median represents the middle value in a dataset when it is ordered. It is not influenced by outliers, making it a robust measure of central tendency. \n",
    "         It is often used when the data contains outliers or when you want to find the middle point of a dataset.\n",
    "\n",
    ".Mode: The mode is the most frequently occurring value in a dataset. It is used when you want to identify the most common value or category in the data. \n",
    "       Data can have zero, one, or multiple modes. The mode is especially useful for categorical or discrete data."
   ]
  },
  {
   "cell_type": "code",
   "execution_count": null,
   "id": "2a9b4e4e-0ed5-4f6b-8976-df515fbb0e75",
   "metadata": {},
   "outputs": [],
   "source": [
    "Solution 3:-"
   ]
  },
  {
   "cell_type": "markdown",
   "id": "fc007bb3-bbd6-4a06-b0c7-0aaf17f15bd7",
   "metadata": {},
   "source": [
    "1.Mean (x̄):\n",
    "Sum of all values = 2738.3\n",
    "Number of values = 16\n",
    "Mean (x̄) = Sum / Number = 2738.3 / 16 ≈ 171.14 (rounded to two decimal places)\n",
    "\n",
    "2.Median:\n",
    "First, order the data: [172.5, 175, 175, 176, 176, 176.2, 177, 177, 177, 178, 178, 178, 178.2, 178.9, 179, 180]\n",
    "Since there are 16 values (an even number), the median is the average of the 8th and 9th values, which are 177 and 177.\n",
    "Median = (177 + 177) / 2 = 177\n",
    "\n",
    "3.Mode:\n",
    "The mode is the most frequently occurring value in the dataset. In this case, the modes are 177 and 178 because they both appear three times, more \n",
    "frequently than any other value.\n",
    "\n",
    "So, for the given height data, the measures of central tendency are:\n",
    "\n",
    ".Mean: Approximately 171.14\n",
    ".Median: 177\n",
    ".Mode: 177 and 178"
   ]
  },
  {
   "cell_type": "code",
   "execution_count": null,
   "id": "98bec5b7-bab7-4fc6-b451-7db333002e29",
   "metadata": {},
   "outputs": [],
   "source": [
    "Solution 4:-"
   ]
  },
  {
   "cell_type": "markdown",
   "id": "4d779101-7d9f-4b5e-bc72-503abef78415",
   "metadata": {},
   "source": [
    "1.Calculate the mean (average) of the data.\n",
    "2.Find the squared difference between each data point and the mean.\n",
    "3.Calculate the mean of the squared differences.\n",
    "4.Take the square root of the mean of squared differences to obtain the standard deviation.\n",
    "\n",
    "Here's the calculation:\n",
    "\n",
    "Data: [178, 177, 176, 177, 178.2, 178, 175, 179, 180, 175, 178.9, 176.2, 177, 172.5, 178, 176.5]\n",
    "\n",
    "1.Mean (x̄) = 171.14 (from the previous answer)\n",
    "\n",
    "2.Calculate squared differences from the mean:\n",
    "  [(178 - 171.14)^2, (177 - 171.14)^2, ...]\n",
    "\n",
    "3.Calculate the mean of the squared differences.\n",
    "\n",
    "4.Take the square root of the mean of squared differences to find the standard deviation.\n",
    "\n",
    "I'll calculate the standard deviation :\n",
    "Standard Deviation ≈ 2.01 (rounded to two decimal places)"
   ]
  },
  {
   "cell_type": "code",
   "execution_count": null,
   "id": "f0a6f3cd-13ca-448b-811e-13e7f1b850d4",
   "metadata": {},
   "outputs": [],
   "source": [
    "Solution 5:-"
   ]
  },
  {
   "cell_type": "markdown",
   "id": "ec908452-956c-4362-b25b-1a2d45a71054",
   "metadata": {},
   "source": [
    ".Range: It is the simplest measure of dispersion and represents the difference between the maximum and minimum values in the dataset. A larger range indicates\n",
    "        greater variability.\n",
    "\n",
    ".Variance: It quantifies how individual data points deviate from the mean. It is the average of the squared differences between each data point and the mean. \n",
    "           A higher variance indicates greater variability.\n",
    "\n",
    ".Standard Deviation: It is the square root of the variance and provides a more interpretable measure of the spread. It represents the average deviation of data\n",
    "                     points from the mean. A larger standard deviation indicates greater variability.\n",
    "\n",
    "For example, consider two datasets:\n",
    "Dataset A: [10, 15, 20, 25, 30]\n",
    "Dataset B: [5, 15, 20, 25, 35]\n",
    "\n",
    ".Range(A) = 30 - 10 = 20\n",
    "\n",
    ".Range(B) = 35 - 5 = 30\n",
    "\n",
    ".Variance(A) = 50\n",
    "\n",
    ".Variance(B) = 100\n",
    "\n",
    ".Standard Deviation(A) ≈ 7.07\n",
    "\n",
    ".Standard Deviation(B) ≈ 10\n",
    "\n",
    "In this example, Dataset B has a larger range, variance, and standard deviation, indicating greater variability compared to Dataset A."
   ]
  },
  {
   "cell_type": "code",
   "execution_count": null,
   "id": "451c74a1-d3bd-47cf-a758-d78cdc13ed2d",
   "metadata": {},
   "outputs": [],
   "source": [
    "Solution 6:-"
   ]
  },
  {
   "cell_type": "markdown",
   "id": "f7cee43a-c335-4a96-b0ee-be35038f5048",
   "metadata": {},
   "source": [
    "A Venn diagram is a graphical representation used to show the relationship between two or more sets. It consists of overlapping circles or other shapes, \n",
    "with each circle representing a set and the overlapping regions indicating the elements that belong to multiple sets. Venn diagrams are commonly used in \n",
    "mathematics, logic, and set theory to visually illustrate set intersections, unions, differences, and complements."
   ]
  },
  {
   "cell_type": "code",
   "execution_count": null,
   "id": "753acf07-2f74-4ea7-b57e-1c768c34feac",
   "metadata": {},
   "outputs": [],
   "source": [
    "Solution 7:-"
   ]
  },
  {
   "cell_type": "markdown",
   "id": "b0e8c369-f6ba-4e89-8ffc-200346c8f7ea",
   "metadata": {},
   "source": [
    "For the two sets A = {2, 3, 4, 5, 6, 7} and B = {0, 2, 6, 8, 10):\n",
    "\n",
    "(i) A ∩ B (the intersection of A and B) is the set of elements that are common to both A and B. In this case, A ∩ B = {2, 6}.\n",
    "\n",
    "(ii) A ⋃ B (the union of A and B) is the set that contains all unique elements from both sets A and B. In this case, A ⋃ B = {0, 2, 3, 4, 5, 6, 7, 8, 10}."
   ]
  },
  {
   "cell_type": "code",
   "execution_count": null,
   "id": "28c98070-c451-44b0-a18a-e3a03494dab7",
   "metadata": {},
   "outputs": [],
   "source": [
    "Solution 8:-"
   ]
  },
  {
   "cell_type": "markdown",
   "id": "423561bd-27ac-4594-aa46-f54bb11b9ae1",
   "metadata": {},
   "source": [
    "Skewness in data refers to the lack of symmetry in the data's distribution. It indicates the degree to which the data is skewed or distorted from a perfectly\n",
    "symmetrical distribution, such as a normal distribution. There are three types of skewness:\n",
    "\n",
    "1.Positive Skew (Right Skew): In a positively skewed distribution, the tail on the right side (the larger values) is longer or fatter than the left tail. \n",
    "  The majority of the data points are concentrated on the left side, and the mean is typically greater than the median.\n",
    "\n",
    "2.Negative Skew (Left Skew): In a negatively skewed distribution, the tail on the left side (the smaller values) is longer or fatter than the right tail. \n",
    "The majority of the data points are concentrated on the right side, and the mean is typically less than the median.\n",
    "\n",
    "3.No Skew (Symmetrical): In a symmetrical distribution, data points are evenly distributed on both sides of the mean, and there is no skew.\n",
    "\n",
    "Skewness is a useful statistic to understand the shape of data distributions, and it can have implications for statistical analysis and decision-making. \n",
    "It can affect the choice of statistical tests and the interpretation of results."
   ]
  },
  {
   "cell_type": "code",
   "execution_count": null,
   "id": "41e2e034-d4b4-4584-9d3a-afdeadc58a62",
   "metadata": {},
   "outputs": [],
   "source": [
    "Solution 9:-"
   ]
  },
  {
   "cell_type": "markdown",
   "id": "ae98e395-a795-4361-a579-557541f49c07",
   "metadata": {},
   "source": [
    "If data is right-skewed, the position of the median will be to the left of the mean. In a right-skewed distribution, the tail on the right side (the larger values)\n",
    "is longer, and it tends to pull the mean in the direction of the skew. As a result, the mean is typically greater than the median."
   ]
  },
  {
   "cell_type": "code",
   "execution_count": null,
   "id": "db77770a-26dc-4f48-b876-be0d083ee67e",
   "metadata": {},
   "outputs": [],
   "source": [
    "Solution 10:-"
   ]
  },
  {
   "cell_type": "markdown",
   "id": "0c729a17-559f-4e12-a226-9a7f9a7fa938",
   "metadata": {},
   "source": [
    "Covariance and correlation are both measures used to analyze relationships between two variables in statistical analysis, but they have key differences:\n",
    "\n",
    ".Covariance: Covariance measures the degree to which two variables change together. A positive covariance indicates that when one variable is above its mean,\n",
    "the other variable tends to be above its mean as well. A negative covariance indicates that when one variable is above its mean, the other variable tends to be below its mean. However, the magnitude of covariance is not standardized, making it challenging to interpret. It is affected by the units of measurement of the variables.\n",
    "\n",
    ".Correlation: Correlation is a standardized measure that quantifies the strength and direction of the linear relationship between two variables. It ranges\n",
    "from -1 to 1, with 1 indicating a perfect positive linear relationship, -1 indicating a perfect negative linear relationship, and 0 indicating no linear \n",
    "relationship. Correlation allows for easy comparison of the strength of relationships between different pairs of variables and is not influenced by the units \n",
    "of measurement.\n",
    "\n",
    "In summary, covariance measures the direction of the relationship between two variables but lacks standardization, while correlation provides a standardized measure\n",
    "of the strength and direction of a linear relationship."
   ]
  },
  {
   "cell_type": "code",
   "execution_count": null,
   "id": "b73fb01d-0e83-402f-b029-d353b0dde9b1",
   "metadata": {},
   "outputs": [],
   "source": [
    "Solution 11:-"
   ]
  },
  {
   "cell_type": "code",
   "execution_count": null,
   "id": "b3be759d-8006-4b56-9556-1cbadc41fa65",
   "metadata": {},
   "outputs": [],
   "source": [
    "The formula for calculating the sample mean (x̄) is as follows:\n",
    "\n",
    "x̄ = (Σx) / n\n",
    "\n",
    "Where:\n",
    "\n",
    "x̄ is the sample mean.\n",
    "Σx represents the sum of all individual data points.\n",
    "n is the number of data points in the sample.\n",
    "Example calculation:\n",
    "Let's calculate the sample mean for the dataset: [12, 15, 18, 20, 24]\n",
    "\n",
    "x̄ = (12 + 15 + 18 + 20 + 24) / 5\n",
    "x̄ = 89 / 5\n",
    "x̄ = 17.8\n",
    "\n",
    "So, the sample mean for this dataset is 17.8."
   ]
  },
  {
   "cell_type": "code",
   "execution_count": null,
   "id": "d7e5b734-9ce8-436a-87f3-f6584eb24693",
   "metadata": {},
   "outputs": [],
   "source": [
    "Solution 12:-"
   ]
  },
  {
   "cell_type": "markdown",
   "id": "5a8849e6-6e64-4f12-8e0b-ce1c9300e84d",
   "metadata": {},
   "source": [
    "For a normal distribution, the relationship between its measures of central tendency is as follows:\n",
    "\n",
    ".Mean (μ) is equal to the Median (x̄ = μ): In a perfectly symmetrical normal distribution, the mean is located at the center of the distribution, which is also \n",
    "where the median is. This is a defining characteristic of normal distributions.\n",
    "\n",
    ".Mode: The mode of a normal distribution is also at the mean, so, for a normal distribution, the mode is also μ.\n",
    "\n",
    "In summary, for a normal distribution, the mean, median, and mode are all located at the same point, which is the center of the distribution."
   ]
  },
  {
   "cell_type": "code",
   "execution_count": null,
   "id": "431db3ee-0255-42ec-8d1a-64f2906de998",
   "metadata": {},
   "outputs": [],
   "source": [
    "Solution 13:-"
   ]
  },
  {
   "cell_type": "markdown",
   "id": "d0b0ebaa-17d3-4823-8cc1-07322f151cac",
   "metadata": {},
   "source": [
    "The main difference between covariance and correlation is:\n",
    "\n",
    ".Covariance measures the direction of the linear relationship between two variables (positive or negative) and whether they change together. However, \n",
    "it does not provide a standardized measure and is affected by the units of measurement.\n",
    "\n",
    ".Correlation measures both the strength and direction of the linear relationship between two variables. It is standardized, with values ranging from -1 \n",
    "(perfect negative correlation) to 1 (perfect positive correlation), and 0 indicating no linear correlation. Correlation is not affected by the units of measurement."
   ]
  },
  {
   "cell_type": "code",
   "execution_count": null,
   "id": "d470c9ac-7352-498d-92c1-f9814c6afede",
   "metadata": {},
   "outputs": [],
   "source": [
    "Solution 14:-"
   ]
  },
  {
   "cell_type": "code",
   "execution_count": null,
   "id": "e2d89069-09de-47e5-aec2-5fab63846405",
   "metadata": {},
   "outputs": [],
   "source": [
    "Outliers can significantly affect measures of central tendency and dispersion. Here's how:\n",
    "\n",
    "Measures of Central Tendency (e.g., Mean):\n",
    "\n",
    ".Mean is sensitive to outliers. A single extreme outlier can pull the mean in its direction, making it unrepresentative of the majority of the data.\n",
    ".For example, consider the dataset: [10, 15, 18, 20, 500]. The mean is greatly influenced by the outlier (500) and becomes 112.6, which is not representative of\n",
    " the typical values in the dataset.\n",
    ".Measures of Dispersion (e.g., Standard Deviation):\n",
    "  .Outliers can increase the variability in the data, leading to a higher standard deviation.\n",
    "  .In the example above, the presence of the outlier (500) results in a larger standard deviation, indicating greater spread in the data.\n",
    "\n",
    "It's important to be aware of the potential impact of outliers on your statistical analysis and consider using robust measures of central tendency \n",
    "(like the median) or robust measures of dispersion when dealing with datasets that may contain outliers."
   ]
  }
 ],
 "metadata": {
  "kernelspec": {
   "display_name": "Python 3 (ipykernel)",
   "language": "python",
   "name": "python3"
  },
  "language_info": {
   "codemirror_mode": {
    "name": "ipython",
    "version": 3
   },
   "file_extension": ".py",
   "mimetype": "text/x-python",
   "name": "python",
   "nbconvert_exporter": "python",
   "pygments_lexer": "ipython3",
   "version": "3.10.8"
  }
 },
 "nbformat": 4,
 "nbformat_minor": 5
}
