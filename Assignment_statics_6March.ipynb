{
 "cells": [
  {
   "cell_type": "code",
   "execution_count": null,
   "id": "d2a64c56-852f-4e84-92c9-0554c2d6ca94",
   "metadata": {},
   "outputs": [],
   "source": [
    "Solution 1:-"
   ]
  },
  {
   "cell_type": "code",
   "execution_count": null,
   "id": "d228a94e-442a-4120-99c2-7c6527b91f19",
   "metadata": {},
   "outputs": [],
   "source": [
    "Statistics is the branch of mathematics that deals with collecting, analyzing, and interpreting data."
   ]
  },
  {
   "cell_type": "code",
   "execution_count": null,
   "id": "655ba1b2-fb64-4a8a-b7cc-05b2e60cca12",
   "metadata": {},
   "outputs": [],
   "source": [
    "Solution 2:-"
   ]
  },
  {
   "cell_type": "code",
   "execution_count": null,
   "id": "c33767a2-098c-4457-b506-bef1318bae78",
   "metadata": {},
   "outputs": [],
   "source": [
    "The different types of statistics are descriptive statistics and inferential statistics. Descriptive statistics are used to describe and \n",
    "summarize data, while inferential statistics are used to make inferences and predictions about a population based on a sample.\n",
    "\n",
    "For example, descriptive statistics can be used to describe the average height of students in a class, while inferential statistics can be\n",
    "used to predict the likelihood of a student getting an A in a course based on their previous grades."
   ]
  },
  {
   "cell_type": "code",
   "execution_count": null,
   "id": "38379f69-501e-461e-abbc-7c15f41c2ba2",
   "metadata": {},
   "outputs": [],
   "source": [
    "Solution 3:-"
   ]
  },
  {
   "cell_type": "code",
   "execution_count": null,
   "id": "9c4e656b-f503-43eb-a8a2-03d2c685d31b",
   "metadata": {},
   "outputs": [],
   "source": [
    "The different types of data are quantitative data and qualitative data. Quantitative data are numerical and can be measured, while qualitative \n",
    "data are non-numerical and describe qualities or characteristics.\n",
    "\n",
    "For example, quantitative data can be the weight of a person or the number of cars sold in a month, while qualitative data can be the color of\n",
    "a car or the opinion of a customer about a product."
   ]
  },
  {
   "cell_type": "code",
   "execution_count": null,
   "id": "61423cd5-9568-4005-afc4-c2af2589fabe",
   "metadata": {},
   "outputs": [],
   "source": [
    "Solution 4:-"
   ]
  },
  {
   "cell_type": "code",
   "execution_count": null,
   "id": "eba3d675-56fa-4bdd-b30b-b640fe98c7a7",
   "metadata": {},
   "outputs": [],
   "source": [
    "(i) Grading in exam: Qualitative (Ordinal)\n",
    "(ii) Colour of mangoes: Qualitative (Nominal)\n",
    "(iii) Height data of a class: Quantitative (Continuous)\n",
    "(iv) Number of mangoes exported by a farm: Quantitative (Discrete)"
   ]
  },
  {
   "cell_type": "code",
   "execution_count": null,
   "id": "de4546a3-7ea7-4ad9-aca7-30a1ad9deac6",
   "metadata": {},
   "outputs": [],
   "source": [
    "Solution 5:-"
   ]
  },
  {
   "cell_type": "code",
   "execution_count": null,
   "id": "cb9b97d2-2dec-4c45-8fa2-f9a10791e127",
   "metadata": {},
   "outputs": [],
   "source": [
    "The concept of levels of measurement refers to the different types of data that can be measured. The four levels of measurement are nominal, \n",
    "ordinal, interval, and ratio. Nominal data is categorical and has no inherent order, ordinal data has a natural ordering, interval data has a\n",
    "constant difference between values, and ratio data has a true zero point.\n",
    "\n",
    "For example, the level of measurement of a variable \"gender\" is nominal, \"grade level\" is ordinal, \"temperature\" is interval, \n",
    "and \"income\" is ratio."
   ]
  },
  {
   "cell_type": "code",
   "execution_count": null,
   "id": "b4c8f83d-4364-46e2-93b1-502161b4f777",
   "metadata": {},
   "outputs": [],
   "source": [
    "Solution 6:-"
   ]
  },
  {
   "cell_type": "code",
   "execution_count": null,
   "id": "3546f9cc-66d3-407b-b0c7-c62cbebd203f",
   "metadata": {},
   "outputs": [],
   "source": [
    "It is important to understand the level of measurement when analyzing data because it determines the appropriate statistical analysis and \n",
    "the types of conclusions that can be drawn from the data. For example, using arithmetic mean to analyze ordinal data may not be meaningful\n",
    "because the difference between the categories is not uniform."
   ]
  },
  {
   "cell_type": "code",
   "execution_count": null,
   "id": "1c43c0a5-7eca-4ab0-9ee1-7d4f41520cba",
   "metadata": {},
   "outputs": [],
   "source": [
    "Solution 7:-"
   ]
  },
  {
   "cell_type": "code",
   "execution_count": null,
   "id": "474f67b8-bc03-4514-8a1c-184454670fce",
   "metadata": {},
   "outputs": [],
   "source": [
    "Nominal data type is different from ordinal data type because nominal data is categorical and has no inherent order, while ordinal data has\n",
    "a natural ordering.\n",
    "\n",
    "For example, the color of a car is nominal data because there is no inherent order to the categories, while the ranking of a sports team is\n",
    "ordinal data because there is a natural ordering to the rankings."
   ]
  },
  {
   "cell_type": "code",
   "execution_count": null,
   "id": "6469156d-f328-4cd7-bbc5-2bbc2b642c6e",
   "metadata": {},
   "outputs": [],
   "source": [
    "Solution 8:-"
   ]
  },
  {
   "cell_type": "code",
   "execution_count": null,
   "id": "20dd4ae4-c98b-4ebf-9b52-ef6153301246",
   "metadata": {},
   "outputs": [],
   "source": [
    "A box plot can be used to display data in terms of range."
   ]
  },
  {
   "cell_type": "code",
   "execution_count": null,
   "id": "108a79e1-14bf-43c1-99a9-f32a22832d67",
   "metadata": {},
   "outputs": [],
   "source": [
    "Solution 9:-"
   ]
  },
  {
   "cell_type": "code",
   "execution_count": null,
   "id": "0a0edfbf-ee1d-4e99-8d2e-a5619aeaf3b2",
   "metadata": {},
   "outputs": [],
   "source": [
    "Descriptive statistics are used to describe and summarize data, while inferential statistics are used to make inferences and predictions about \n",
    "a population based on a sample.\n",
    "\n",
    "For example, calculating the mean and standard deviation of a dataset is a form of descriptive statistics, while conducting a hypothesis test\n",
    "to determine if a new drug is effective is a form of inferential statistics."
   ]
  },
  {
   "cell_type": "code",
   "execution_count": null,
   "id": "2663e035-83d2-4c70-a96a-334f69269b00",
   "metadata": {},
   "outputs": [],
   "source": [
    "Solution 10:-"
   ]
  },
  {
   "cell_type": "code",
   "execution_count": null,
   "id": "88af2087-9d20-4965-89fe-1a0e6c9e9e46",
   "metadata": {},
   "outputs": [],
   "source": [
    "Some common measures of central tendency are mean, median, and mode. Mean is the average value of a dataset, median is the middle value of a \n",
    "dataset, and mode is the value that appears most frequently in a dataset.\n",
    "\n",
    "Some common measures of variability are range, variance, and standard deviation. Range is the difference between the largest and smallest value\n",
    "in a dataset, variance is the average of the squared deviations from the mean, and standard deviation is the square root of the variance.\n",
    "\n",
    "These measures can be used to describe a dataset by providing information on the typical value, the spread of the data, and the likelihood of \n",
    "values falling within a certain range."
   ]
  }
 ],
 "metadata": {
  "kernelspec": {
   "display_name": "Python 3 (ipykernel)",
   "language": "python",
   "name": "python3"
  },
  "language_info": {
   "codemirror_mode": {
    "name": "ipython",
    "version": 3
   },
   "file_extension": ".py",
   "mimetype": "text/x-python",
   "name": "python",
   "nbconvert_exporter": "python",
   "pygments_lexer": "ipython3",
   "version": "3.10.8"
  }
 },
 "nbformat": 4,
 "nbformat_minor": 5
}
