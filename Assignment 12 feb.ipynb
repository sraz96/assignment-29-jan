{
 "cells": [
  {
   "cell_type": "code",
   "execution_count": null,
   "id": "b922cb36-796b-459f-be72-36f30e245171",
   "metadata": {},
   "outputs": [],
   "source": [
    "Solution 1:-"
   ]
  },
  {
   "cell_type": "code",
   "execution_count": null,
   "id": "556555f4-e7ea-40bb-b0a9-b7b60f33c7e1",
   "metadata": {},
   "outputs": [],
   "source": [
    "An Exception in Python is an error that occurs during the execution of a program, which interrupts its normal flow. \n",
    "When an exception occurs, Python creates an object that contains information about the error, including its type and a\n",
    "traceback of the code that led up to the error.\n",
    "\n",
    "Syntax errors, on the other hand, occur when the code violates the syntax rules of Python. These errors are typically \n",
    "detected by the Python interpreter before the program is executed and will prevent the program from running.\n",
    "\n",
    "The main difference between Exceptions and syntax errors is that Exceptions occur during the execution of the program, \n",
    "while syntax errors occur before the program is executed. Additionally, while syntax errors indicate a problem with the \n",
    "structure of the code, Exceptions can occur even in well-formed code due to unexpected or unpredictable circumstances \n",
    "during program execution."
   ]
  },
  {
   "cell_type": "code",
   "execution_count": null,
   "id": "7f5ac7b7-5bd8-4280-97b4-c9a26a9825be",
   "metadata": {},
   "outputs": [],
   "source": [
    "Solution 2:-"
   ]
  },
  {
   "cell_type": "code",
   "execution_count": null,
   "id": "217b15a3-3643-4a06-9d6d-7f819c4df039",
   "metadata": {},
   "outputs": [],
   "source": [
    "When an exception is not handled in Python, it will cause the program to terminate abruptly, and the traceback will be printed to \n",
    "the console or the log file if one is configured. This can make it difficult to determine the cause of the error and to diagnose \n",
    "and fix the problem that led to the exception."
   ]
  },
  {
   "cell_type": "code",
   "execution_count": 3,
   "id": "82e9094f-b5fb-4947-a3e8-40c0101fed15",
   "metadata": {},
   "outputs": [
    {
     "name": "stderr",
     "output_type": "stream",
     "text": [
      "ERROR:root:Division by zero occurred\n"
     ]
    },
    {
     "name": "stdout",
     "output_type": "stream",
     "text": [
      "5.0\n",
      "None\n"
     ]
    }
   ],
   "source": [
    "import logging\n",
    "\n",
    "def divide(x, y):\n",
    "    try:\n",
    "        result = x / y\n",
    "    except ZeroDivisionError:\n",
    "        logging.error(\"Division by zero occurred\")\n",
    "    else:\n",
    "        return result\n",
    "\n",
    "print(divide(10, 2))\n",
    "print(divide(10, 0))\n"
   ]
  },
  {
   "cell_type": "code",
   "execution_count": null,
   "id": "ec317bb8-c012-4a56-b627-0204f97c97fa",
   "metadata": {},
   "outputs": [],
   "source": [
    "Solution 3:-"
   ]
  },
  {
   "cell_type": "code",
   "execution_count": null,
   "id": "058702fc-c1d3-4f46-a034-e017616e1a36",
   "metadata": {},
   "outputs": [],
   "source": [
    "In Python, the 'try' and 'except' statements are used to catch and handle exceptions. The 'try' statement defines a block of \n",
    "code to be executed, and the 'except' statement defines a block of code to be executed if an exception occurs."
   ]
  },
  {
   "cell_type": "code",
   "execution_count": 6,
   "id": "510be751-dbf6-406f-9dc0-f022ab2818cc",
   "metadata": {},
   "outputs": [
    {
     "name": "stdin",
     "output_type": "stream",
     "text": [
      "Enter a number:  10\n",
      "Enter another number:  0\n"
     ]
    },
    {
     "name": "stderr",
     "output_type": "stream",
     "text": [
      "ERROR:root:Division by zero occurred\n"
     ]
    }
   ],
   "source": [
    "import logging\n",
    "\n",
    "logging.basicConfig(filename='example.log', level=logging.ERROR)\n",
    "\n",
    "try:\n",
    "    x = int(input(\"Enter a number: \"))\n",
    "    y = int(input(\"Enter another number: \"))\n",
    "    result = x / y\n",
    "except ZeroDivisionError:\n",
    "    logging.error(\"Division by zero occurred\")\n",
    "except ValueError:\n",
    "    logging.error(\"Invalid input value\")\n",
    "else:\n",
    "    logging.info(f\"The result is {result}\")\n"
   ]
  },
  {
   "cell_type": "code",
   "execution_count": null,
   "id": "bde23869-b933-46e4-80d9-59c8c8d9c8b7",
   "metadata": {},
   "outputs": [],
   "source": [
    "Solution 4:-"
   ]
  },
  {
   "cell_type": "code",
   "execution_count": null,
   "id": "2261118e-b511-42e9-9f99-adeee376e20b",
   "metadata": {},
   "outputs": [],
   "source": [
    "#try and else :-\n",
    "\n",
    "In Python, 'try' and 'else' are control flow statements used for exception handling. The 'try' statement defines a block of code\n",
    "that might 'raise' an exception, and the 'else' statement defines a block of code to be executed if no exceptions occur."
   ]
  },
  {
   "cell_type": "code",
   "execution_count": 7,
   "id": "ab21be3e-5ddc-4b68-874e-1763edef76ca",
   "metadata": {},
   "outputs": [
    {
     "name": "stdin",
     "output_type": "stream",
     "text": [
      "Enter a number:  10\n",
      "Enter another number:  5\n"
     ]
    }
   ],
   "source": [
    "import logging\n",
    "\n",
    "logging.basicConfig(filename='example.log', level=logging.INFO)\n",
    "\n",
    "try:\n",
    "    x = int(input(\"Enter a number: \"))\n",
    "    y = int(input(\"Enter another number: \"))\n",
    "    result = x / y\n",
    "except ZeroDivisionError:\n",
    "    logging.error(\"Division by zero occurred\")\n",
    "except ValueError:\n",
    "    logging.error(\"Invalid input value\")\n",
    "else:\n",
    "    logging.info(f\"The result is {result}\")\n"
   ]
  },
  {
   "cell_type": "code",
   "execution_count": null,
   "id": "805abaaf-1015-4e06-9782-c3fa2053c25d",
   "metadata": {},
   "outputs": [],
   "source": [
    "#finally\n",
    "\n",
    "In Python, 'finally' is a control flow statement used for exception handling. The 'finally' statement defines a block of \n",
    "code that will be executed regardless of whether an exception is raised or not."
   ]
  },
  {
   "cell_type": "code",
   "execution_count": 10,
   "id": "ac915b82-5a25-4e15-951b-7189319b36d2",
   "metadata": {},
   "outputs": [
    {
     "name": "stderr",
     "output_type": "stream",
     "text": [
      "ERROR:root:File not found\n"
     ]
    }
   ],
   "source": [
    "import logging\n",
    "\n",
    "logging.basicConfig(filename='example.log', level=logging.INFO)\n",
    "\n",
    "try:\n",
    "    file = open(\"example.txt\", \"r\")\n",
    "    contents = file.read()\n",
    "    print(contents)\n",
    "except FileNotFoundError:\n",
    "    logging.error(\"File not found\")\n",
    "finally:\n",
    "    #file.close()\n",
    "    logging.info(\"File closed\")\n"
   ]
  },
  {
   "cell_type": "code",
   "execution_count": null,
   "id": "dcc7190a-6bed-484f-8721-b9d94fe9e47f",
   "metadata": {},
   "outputs": [],
   "source": [
    "#raise\n",
    "\n",
    "In Python, 'raise' is a statement used to 'raise' an exception. The 'raise' statement can be used to signal that an error or \n",
    "exceptional condition has occurred in the program."
   ]
  },
  {
   "cell_type": "code",
   "execution_count": 12,
   "id": "d9bc7340-ffa2-4084-8043-74eaa0b4481a",
   "metadata": {},
   "outputs": [
    {
     "name": "stderr",
     "output_type": "stream",
     "text": [
      "ERROR:root:Division by zero occurred\n"
     ]
    },
    {
     "name": "stdout",
     "output_type": "stream",
     "text": [
      "5.0\n"
     ]
    },
    {
     "ename": "ZeroDivisionError",
     "evalue": "division by zero",
     "output_type": "error",
     "traceback": [
      "\u001b[0;31m---------------------------------------------------------------------------\u001b[0m",
      "\u001b[0;31mZeroDivisionError\u001b[0m                         Traceback (most recent call last)",
      "Cell \u001b[0;32mIn[12], line 15\u001b[0m\n\u001b[1;32m     12\u001b[0m         \u001b[38;5;28;01mreturn\u001b[39;00m result\n\u001b[1;32m     14\u001b[0m \u001b[38;5;28mprint\u001b[39m(divide(\u001b[38;5;241m10\u001b[39m, \u001b[38;5;241m2\u001b[39m))\n\u001b[0;32m---> 15\u001b[0m \u001b[38;5;28mprint\u001b[39m(\u001b[43mdivide\u001b[49m\u001b[43m(\u001b[49m\u001b[38;5;241;43m10\u001b[39;49m\u001b[43m,\u001b[49m\u001b[43m \u001b[49m\u001b[38;5;241;43m0\u001b[39;49m\u001b[43m)\u001b[49m)\n",
      "Cell \u001b[0;32mIn[12], line 7\u001b[0m, in \u001b[0;36mdivide\u001b[0;34m(x, y)\u001b[0m\n\u001b[1;32m      5\u001b[0m \u001b[38;5;28;01mdef\u001b[39;00m \u001b[38;5;21mdivide\u001b[39m(x, y):\n\u001b[1;32m      6\u001b[0m     \u001b[38;5;28;01mtry\u001b[39;00m:\n\u001b[0;32m----> 7\u001b[0m         result \u001b[38;5;241m=\u001b[39m \u001b[43mx\u001b[49m\u001b[43m \u001b[49m\u001b[38;5;241;43m/\u001b[39;49m\u001b[43m \u001b[49m\u001b[43my\u001b[49m\n\u001b[1;32m      8\u001b[0m     \u001b[38;5;28;01mexcept\u001b[39;00m \u001b[38;5;167;01mZeroDivisionError\u001b[39;00m:\n\u001b[1;32m      9\u001b[0m         logging\u001b[38;5;241m.\u001b[39merror(\u001b[38;5;124m\"\u001b[39m\u001b[38;5;124mDivision by zero occurred\u001b[39m\u001b[38;5;124m\"\u001b[39m)\n",
      "\u001b[0;31mZeroDivisionError\u001b[0m: division by zero"
     ]
    }
   ],
   "source": [
    "import logging\n",
    "\n",
    "logging.basicConfig(filename='example.log', level=logging.ERROR)\n",
    "\n",
    "def divide(x, y):\n",
    "    try:\n",
    "        result = x / y\n",
    "    except ZeroDivisionError:\n",
    "        logging.error(\"Division by zero occurred\")\n",
    "        raise\n",
    "    else:\n",
    "        return result\n",
    "\n",
    "print(divide(10, 2))\n",
    "print(divide(10, 0))\n"
   ]
  },
  {
   "cell_type": "code",
   "execution_count": null,
   "id": "b11daca8-5389-4461-a0dd-6249a7f0e2f1",
   "metadata": {},
   "outputs": [],
   "source": [
    "Solution 5:-"
   ]
  },
  {
   "cell_type": "code",
   "execution_count": null,
   "id": "49aff67a-1e0e-4f5e-810f-9729211c0611",
   "metadata": {},
   "outputs": [],
   "source": [
    "custom exceptions are user-defined exceptions that can be raised like built-in exceptions. They are used to represent errors or \n",
    "exceptional conditions that are specific to a particular application or module.\n",
    "\n",
    "We need custom exceptions to create our own exception hierarchy, to make it easy to handle a specific category of errors, \n",
    "and to make our code more readable and maintainable."
   ]
  },
  {
   "cell_type": "code",
   "execution_count": 14,
   "id": "ca1f3f9d-629b-425e-92ec-0bc31b7d3619",
   "metadata": {},
   "outputs": [
    {
     "name": "stderr",
     "output_type": "stream",
     "text": [
      "ERROR:root:Cannot divide by zero\n"
     ]
    }
   ],
   "source": [
    "import logging\n",
    "\n",
    "class CustomException(Exception):\n",
    "    pass\n",
    "\n",
    "def divide_numbers(a, b):\n",
    "    if b == 0:\n",
    "        raise CustomException(\"Cannot divide by zero\")\n",
    "    return a / b\n",
    "\n",
    "try:\n",
    "    result = divide_numbers(10, 0)\n",
    "except CustomException as ex:\n",
    "    logging.error(ex)\n"
   ]
  },
  {
   "cell_type": "code",
   "execution_count": null,
   "id": "72240bd9-7c50-4165-9938-a9f486d3cdee",
   "metadata": {},
   "outputs": [],
   "source": []
  }
 ],
 "metadata": {
  "kernelspec": {
   "display_name": "Python 3 (ipykernel)",
   "language": "python",
   "name": "python3"
  },
  "language_info": {
   "codemirror_mode": {
    "name": "ipython",
    "version": 3
   },
   "file_extension": ".py",
   "mimetype": "text/x-python",
   "name": "python",
   "nbconvert_exporter": "python",
   "pygments_lexer": "ipython3",
   "version": "3.10.8"
  }
 },
 "nbformat": 4,
 "nbformat_minor": 5
}
