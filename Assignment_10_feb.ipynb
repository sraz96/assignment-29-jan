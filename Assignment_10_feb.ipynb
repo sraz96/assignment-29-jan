{
 "cells": [
  {
   "cell_type": "code",
   "execution_count": null,
   "id": "2cfbb418-2c01-47e5-af9a-9112d5e431b3",
   "metadata": {},
   "outputs": [],
   "source": [
    "Solution 1:-"
   ]
  },
  {
   "cell_type": "code",
   "execution_count": null,
   "id": "34537fdc-dbcc-4a10-8285-2acdfb423772",
   "metadata": {},
   "outputs": [],
   "source": [
    "The open() function is used to open a file in Python. There are different modes of opening a file in Python, which are as follows:\n",
    "\n",
    "1.'r' (Read Only) : It is the default mode of opening a file, used to read the contents of the file. If the file does not exist,\n",
    "                  it raises an error.\n",
    "\n",
    "2.'w' (Write Only) : The file is opened in write mode. If the file exists, its content is truncated, and if the file does not exist, \n",
    "                   a new file is created.\n",
    "\n",
    "3.'a' (Append Only) : The file is opened in append mode. If the file exists, data is appended to the existing content,  \n",
    "                    and if the file does not exist, a new file is created.\n",
    "\n",
    "4.'x' (Exclusive Creation) : It creates a new file and opens it in write mode. If the file already exists, it raises an error.\n",
    "\n",
    "5.'b' (Binary Mode) : The file is opened in binary mode, used for reading or writing binary data.\n",
    "\n",
    "6.'+' (Read and Write) : The file is opened for reading and writing both."
   ]
  },
  {
   "cell_type": "code",
   "execution_count": null,
   "id": "15b92538-75d5-48fd-babb-4dffd4f9809d",
   "metadata": {},
   "outputs": [],
   "source": [
    "Solution 2:-"
   ]
  },
  {
   "cell_type": "code",
   "execution_count": null,
   "id": "6858c0bd-2121-43f1-a12d-352d90a0a271",
   "metadata": {},
   "outputs": [],
   "source": [
    "The close() function is used to close a file. The file object is destroyed and the file is closed. \n",
    "            Closing a file is important for several reasons:\n",
    "\n",
    "1.Releases the memory: When a file is opened, a certain amount of memory is allocated to the program. \n",
    "  Closing the file releases this memory and makes it available for other programs to use.\n",
    "\n",
    "2.Prevents data corruption: If a file is not closed properly, it may result in data corruption. \n",
    "  This is because some data may still be in the memory buffer and has not yet been written to the file.\n",
    "  Closing the file ensures that all the data is flushed and written to the file.\n",
    "\n",
    "3.Prevents file corruption: If a file is not closed, the file system may not update the file correctly,\n",
    "  which can lead to file corruption. Closing the file ensures that the file system updates the file properly.\n",
    "\n",
    "4.Improves system performance: Opening and closing files consume system resources. Keeping too many files open \n",
    "  at the same time can slow down the system. Closing files when they are no longer needed can improve system performance."
   ]
  },
  {
   "cell_type": "code",
   "execution_count": null,
   "id": "48cbe085-85ea-45c9-b6f1-78f603ddd904",
   "metadata": {},
   "outputs": [],
   "source": [
    "Solution 3:-"
   ]
  },
  {
   "cell_type": "code",
   "execution_count": 1,
   "id": "7813bb26-40ed-440c-b918-d98e20e425f5",
   "metadata": {},
   "outputs": [
    {
     "name": "stdout",
     "output_type": "stream",
     "text": [
      "I want to become a Data Scientist\n"
     ]
    }
   ],
   "source": [
    "# Creating a text file\n",
    "with open(\"file.txt\", \"w\") as f:\n",
    "    f.write(\"I want to become a Data Scientist\")\n",
    "\n",
    "# Reading the contents of the file\n",
    "with open(\"file.txt\", \"r\") as f:\n",
    "    print(f.read())\n"
   ]
  },
  {
   "cell_type": "code",
   "execution_count": null,
   "id": "31633822-5f84-4076-b1d9-a542aef74836",
   "metadata": {},
   "outputs": [],
   "source": [
    "Solution 4:-"
   ]
  },
  {
   "cell_type": "code",
   "execution_count": null,
   "id": "8b8daab1-9338-447d-a560-8bcc7dafe504",
   "metadata": {},
   "outputs": [],
   "source": [
    "The read() method in Python is used to read the entire contents of a file. The contents of the file are returned as a string."
   ]
  },
  {
   "cell_type": "code",
   "execution_count": 2,
   "id": "abb32a84-4a12-4f2f-8553-0c4db63de2bd",
   "metadata": {},
   "outputs": [
    {
     "name": "stdout",
     "output_type": "stream",
     "text": [
      "I want to become a Data Scientist\n"
     ]
    }
   ],
   "source": [
    "file = open(\"file.txt\", \"r\")\n",
    "contents = file.read()\n",
    "print(contents)\n",
    "file.close()\n"
   ]
  },
  {
   "cell_type": "code",
   "execution_count": null,
   "id": "247de316-91b0-417b-9a3b-bd44ce539090",
   "metadata": {},
   "outputs": [],
   "source": [
    "The readline() method in Python is used to read a single line of a file. The contents of the line are returned as a string."
   ]
  },
  {
   "cell_type": "code",
   "execution_count": 3,
   "id": "7fc3399a-fbb2-4c2d-8890-af22b0be2f0f",
   "metadata": {},
   "outputs": [
    {
     "name": "stdout",
     "output_type": "stream",
     "text": [
      "I want to become a Data Scientist\n"
     ]
    }
   ],
   "source": [
    "file = open(\"file.txt\", \"r\")\n",
    "line = file.readline()\n",
    "print(line)\n",
    "file.close()\n"
   ]
  },
  {
   "cell_type": "code",
   "execution_count": null,
   "id": "73503745-801c-4888-84a1-1ca9141f38b5",
   "metadata": {},
   "outputs": [],
   "source": [
    "The readlines() method in Python is used to read all the lines of a file. The contents of each line are stored as a string in a list."
   ]
  },
  {
   "cell_type": "code",
   "execution_count": 4,
   "id": "2e02804e-a120-46c6-8fec-c99421f45b13",
   "metadata": {},
   "outputs": [
    {
     "name": "stdout",
     "output_type": "stream",
     "text": [
      "I want to become a Data Scientist\n"
     ]
    }
   ],
   "source": [
    "file = open(\"file.txt\", \"r\")\n",
    "lines = file.readlines()\n",
    "for line in lines:\n",
    "    print(line)\n",
    "file.close()\n"
   ]
  },
  {
   "cell_type": "code",
   "execution_count": null,
   "id": "69635cba-1869-4671-a88b-0164b7516ad6",
   "metadata": {},
   "outputs": [],
   "source": [
    "Solution 5:-"
   ]
  },
  {
   "cell_type": "code",
   "execution_count": null,
   "id": "353dad24-88cb-4376-a163-17ac233e5076",
   "metadata": {},
   "outputs": [],
   "source": [
    "The \"with\" statement in Python is used to wrap the execution of a block of code with methods defined by a context manager. \n",
    "The main advantage of using the \"with\" statement when working with files is that it automatically takes care of closing the \n",
    "file after the block of code has been executed, even if an exception is raised within the block."
   ]
  },
  {
   "cell_type": "code",
   "execution_count": 5,
   "id": "4d102e9f-bc74-49c1-83ac-be8ec5c61558",
   "metadata": {},
   "outputs": [],
   "source": [
    "with open(\"file.txt\", \"r\") as f:\n",
    "    content = f.read()"
   ]
  },
  {
   "cell_type": "code",
   "execution_count": null,
   "id": "7cfe5a6d-c882-4b15-8871-6e24832ccc3b",
   "metadata": {},
   "outputs": [],
   "source": [
    "The advantage of using the \"with\" statement with \"open()\" is that it automatically closes the file when the block of code \n",
    "inside the \"with\" statement is completed, even if an exception is raised. This eliminates the need to manually close the file, \n",
    "which can reduce the likelihood of resource leaks and other issues. The \"with\" statement also provides a clean, readable syntax\n",
    "for working with files."
   ]
  },
  {
   "cell_type": "code",
   "execution_count": null,
   "id": "973e3e81-7554-4faa-bc7b-e8306d55dc14",
   "metadata": {},
   "outputs": [],
   "source": [
    "Solution 6:-"
   ]
  },
  {
   "cell_type": "code",
   "execution_count": null,
   "id": "3c6d8b08-e477-4c72-8c1d-f6251b1455c0",
   "metadata": {},
   "outputs": [],
   "source": [
    "The 'write()' function is used to write a string to a text file. The string can be any set of characters, including numbers and symbols. \n",
    "It writes the string to the file as it is, without any modification."
   ]
  },
  {
   "cell_type": "code",
   "execution_count": null,
   "id": "11570a04-807f-4f2c-9a08-1182b02f990f",
   "metadata": {},
   "outputs": [],
   "source": [
    "with open(\"example.txt\", \"w\") as file:\n",
    "    file.write(\"Hello, this is a sample text.\")\n"
   ]
  },
  {
   "cell_type": "code",
   "execution_count": null,
   "id": "0d103c06-6cc3-4bc8-bdce-19bb92b8238f",
   "metadata": {},
   "outputs": [],
   "source": [
    "The 'writelines()' function is used to write a sequence of strings to a text file. The sequence can be a list, tuple, or any iterable \n",
    "data structure. It writes each element of the sequence to the file, appending a newline character ('\\n') after each string."
   ]
  },
  {
   "cell_type": "code",
   "execution_count": null,
   "id": "a9a983db-5d87-4352-b474-97d05bfac58e",
   "metadata": {},
   "outputs": [],
   "source": [
    "lines = [\"line 1\", \"line 2\", \"line 3\"]\n",
    "\n",
    "with open(\"example.txt\", \"w\") as file:\n",
    "    file.writelines(lines)\n"
   ]
  }
 ],
 "metadata": {
  "kernelspec": {
   "display_name": "Python 3 (ipykernel)",
   "language": "python",
   "name": "python3"
  },
  "language_info": {
   "codemirror_mode": {
    "name": "ipython",
    "version": 3
   },
   "file_extension": ".py",
   "mimetype": "text/x-python",
   "name": "python",
   "nbconvert_exporter": "python",
   "pygments_lexer": "ipython3",
   "version": "3.10.8"
  }
 },
 "nbformat": 4,
 "nbformat_minor": 5
}
