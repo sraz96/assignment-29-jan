{
 "cells": [
  {
   "cell_type": "code",
   "execution_count": null,
   "id": "f9d55bfb-6700-47e6-8a25-61eee74cbbac",
   "metadata": {},
   "outputs": [],
   "source": [
    "Solution 1:-"
   ]
  },
  {
   "cell_type": "code",
   "execution_count": 1,
   "id": "cc96fba4-3e69-4731-9f9a-c5d9862877ff",
   "metadata": {},
   "outputs": [
    {
     "name": "stdout",
     "output_type": "stream",
     "text": [
      "689118639831180913138973540352000\n"
     ]
    }
   ],
   "source": [
    "def get_product(list1):\n",
    "    flat_list = []\n",
    "    for item in list1:\n",
    "        if type(item) == int:\n",
    "            flat_list.append(item)\n",
    "        elif type(item) == float:\n",
    "            flat_list.append(item)\n",
    "        elif type(item) == tuple:\n",
    "            for i in item:\n",
    "                if type(i) == int:\n",
    "                    flat_list.append(i)\n",
    "        elif type(item) == list:\n",
    "            for i in item:\n",
    "                if type(i) == int:\n",
    "                    flat_list.append(i)\n",
    "        elif type(item) == dict:\n",
    "            for key, value in item.items():\n",
    "                if type(key) == int:\n",
    "                    flat_list.append(key)\n",
    "                if type(value) == int:\n",
    "                    flat_list.append(value)\n",
    "                if type(value) == list:\n",
    "                    for i in value:\n",
    "                        if type(i) == int:\n",
    "                            flat_list.append(i)\n",
    "                if type(value) == tuple:\n",
    "                    for i in value:\n",
    "                        if type(i) == int:\n",
    "                            flat_list.append(i)\n",
    "    product = 1\n",
    "    for i in flat_list:\n",
    "        product *= i\n",
    "    return product\n",
    "\n",
    "list1 = [1,2,3,4, [44,55,66, True], False, (34,56,78,89,34), {1,2,3,3,2,1}, {1:34, \"key2\": [55, 67, 78, 89], 4: (45,22, 61, 34)}, [56, 'data science'], 'Machine Learning']\n",
    "print(get_product(list1))\n"
   ]
  },
  {
   "cell_type": "code",
   "execution_count": null,
   "id": "854054a8-a96f-42b5-b31b-13c58526ebdf",
   "metadata": {},
   "outputs": [],
   "source": [
    "Solution 2:-"
   ]
  },
  {
   "cell_type": "code",
   "execution_count": 3,
   "id": "8e4dc771-b771-43bf-bbfd-2df6aee1c241",
   "metadata": {},
   "outputs": [
    {
     "name": "stdout",
     "output_type": "stream",
     "text": [
      "r$dzmg$gl$yvxlnv$z$wzgz$hxrvmgrhg.\n"
     ]
    }
   ],
   "source": [
    "def encrypt_message(sentence):\n",
    "    alphabet = \"abcdefghijklmnopqrstuvwxyz\"\n",
    "    encrypt_alphabet = \"zyxwvutsrqponmlkjihgfedcba\"\n",
    "    encrypt_sentence = \"\"\n",
    "    for char in sentence.lower():\n",
    "        if char == \" \":\n",
    "            encrypt_sentence += \"$\"\n",
    "        elif char in alphabet:\n",
    "            encrypt_sentence += encrypt_alphabet[alphabet.index(char)]\n",
    "        else:\n",
    "            encrypt_sentence += char\n",
    "    return encrypt_sentence\n",
    "\n",
    "sentence = \"I want to become a Data Scientist.\"\n",
    "print(encrypt_message(sentence))\n"
   ]
  },
  {
   "cell_type": "code",
   "execution_count": null,
   "id": "239c20b9-3704-4442-b182-cf4c6a1471ea",
   "metadata": {},
   "outputs": [],
   "source": []
  }
 ],
 "metadata": {
  "kernelspec": {
   "display_name": "Python 3 (ipykernel)",
   "language": "python",
   "name": "python3"
  },
  "language_info": {
   "codemirror_mode": {
    "name": "ipython",
    "version": 3
   },
   "file_extension": ".py",
   "mimetype": "text/x-python",
   "name": "python",
   "nbconvert_exporter": "python",
   "pygments_lexer": "ipython3",
   "version": "3.10.8"
  }
 },
 "nbformat": 4,
 "nbformat_minor": 5
}
