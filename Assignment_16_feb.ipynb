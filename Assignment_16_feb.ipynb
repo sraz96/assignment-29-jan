{
 "cells": [
  {
   "cell_type": "code",
   "execution_count": null,
   "id": "a05342e6-2692-4e97-b40e-b50aa9b5c4e7",
   "metadata": {},
   "outputs": [],
   "source": [
    "Solution 1:-"
   ]
  },
  {
   "cell_type": "code",
   "execution_count": null,
   "id": "4d0b0b3b-eb6e-4003-9d10-b0808d77ee47",
   "metadata": {},
   "outputs": [],
   "source": [
    "'DataBase':- A database is an organized collection of data that can be easily accessed, managed, and updated. It is a fundamental component \n",
    "           of most modern applications and serves as a central repository for data."
   ]
  },
  {
   "cell_type": "code",
   "execution_count": null,
   "id": "9b30248c-04d1-44c7-b156-0e0009cc00a1",
   "metadata": {},
   "outputs": [],
   "source": [
    "'SQL' :- SQL (Structured Query Language) databases are relational databases that store data in tables with fixed columns and rows. \n",
    "       SQL databases use a standard language (SQL) for querying and modifying data, and ensure consistency and integrity of the data \n",
    "       through constraints such as primary keys, foreign keys, and unique indexes."
   ]
  },
  {
   "cell_type": "code",
   "execution_count": null,
   "id": "8d491759-e1c5-4965-9a62-ef8ed415ad85",
   "metadata": {},
   "outputs": [],
   "source": [
    "'NOSQL' :- NoSQL (Not Only SQL) databases are non-relational databases that store data in flexible, semi-structured or unstructured formats \n",
    "         such as key-value pairs, document databases, graph databases, or column-family stores. NoSQL databases are designed to be highly\n",
    "         scalable and offer high availability, fault tolerance, and distributed processing. They are often used in big data and real-time \n",
    "         applications where high throughput and low latency are critical. However, NoSQL databases may sacrifice some consistency guarantees \n",
    "         to achieve their performance and scalability goals."
   ]
  },
  {
   "cell_type": "code",
   "execution_count": null,
   "id": "4d359ffa-fea3-4a17-9638-60c17c4d6dc7",
   "metadata": {},
   "outputs": [],
   "source": [
    "Solution 2:-"
   ]
  },
  {
   "cell_type": "code",
   "execution_count": null,
   "id": "dfe09e3c-2144-4438-b5a9-74fe39ab32db",
   "metadata": {},
   "outputs": [],
   "source": [
    "'DDL' :- DDL stands for Data Definition Language, and it is a set of SQL statements used to define the database schema or structure. DDL \n",
    "         statements are used to create, modify, and delete database objects such as tables, indexes, and views.\n",
    "\n",
    "#The following are the most commonly used DDL statements:"
   ]
  },
  {
   "cell_type": "code",
   "execution_count": null,
   "id": "04214cd7-9662-47ad-8699-181007084e8d",
   "metadata": {},
   "outputs": [],
   "source": [
    "1. 'CREATE': It is used to create a new database object like a table, index, view, etc. For example, the following SQL statement creates a \n",
    "             new table named \"students\" with columns \"id\", \"name\", and \"age\":"
   ]
  },
  {
   "cell_type": "code",
   "execution_count": null,
   "id": "ce4f8fe2-7d89-4650-a159-912bfced5b91",
   "metadata": {},
   "outputs": [],
   "source": [
    "CREATE TABLE students (\n",
    "   id INT PRIMARY KEY,\n",
    "   name VARCHAR(255),\n",
    "   age INT\n",
    ");\n"
   ]
  },
  {
   "cell_type": "code",
   "execution_count": null,
   "id": "32022483-f81b-4c80-ab41-4779747584a5",
   "metadata": {},
   "outputs": [],
   "source": [
    "2. 'DROP': It is used to delete a database object like a table, index, view, etc. For example, the following SQL statement drops \n",
    "           the \"students\" table:"
   ]
  },
  {
   "cell_type": "code",
   "execution_count": null,
   "id": "3c95adda-1b7b-4418-9493-fe73fba5cb15",
   "metadata": {},
   "outputs": [],
   "source": [
    "DROP TABLE students;"
   ]
  },
  {
   "cell_type": "code",
   "execution_count": null,
   "id": "f8579f73-a26c-4eae-b371-555bf2fb9b29",
   "metadata": {},
   "outputs": [],
   "source": [
    "3. 'ALTER': It is used to modify the structure of an existing database object like a table, index, view, etc. For example, the following \n",
    "            SQL statement adds a new column named \"gender\" to the \"students\" table:"
   ]
  },
  {
   "cell_type": "code",
   "execution_count": null,
   "id": "0c9ef469-bd92-4332-ac89-03c54a468205",
   "metadata": {},
   "outputs": [],
   "source": [
    "ALTER TABLE students ADD COLUMN gender VARCHAR(255);"
   ]
  },
  {
   "cell_type": "code",
   "execution_count": null,
   "id": "159b2488-16a4-476d-ad72-2dd9be85190a",
   "metadata": {},
   "outputs": [],
   "source": [
    "4. 'TRUNCATE': It is used to delete all the data from a table without deleting the table structure. For example, the following SQL statement\n",
    "               deletes all the data from the \"students\" table:"
   ]
  },
  {
   "cell_type": "code",
   "execution_count": null,
   "id": "215a7653-18d4-4cd4-b279-b2af558b2b7c",
   "metadata": {},
   "outputs": [],
   "source": [
    "TRUNCATE TABLE students;"
   ]
  },
  {
   "cell_type": "code",
   "execution_count": null,
   "id": "e786f5e4-9251-4e49-824b-358f11009464",
   "metadata": {},
   "outputs": [],
   "source": [
    "These DDL statements are important because they allow database administrators to create and manage the database schema, which is the \n",
    "blueprint of the database. They help to define the structure of the database, and ensure that the data is stored efficiently and accurately."
   ]
  },
  {
   "cell_type": "code",
   "execution_count": null,
   "id": "8e4d309b-1a89-49f2-afbe-bb1d23ad0ace",
   "metadata": {},
   "outputs": [],
   "source": [
    "Solution 3:-"
   ]
  },
  {
   "cell_type": "code",
   "execution_count": null,
   "id": "4f822fdd-e172-41b8-a682-bee04fe9f200",
   "metadata": {},
   "outputs": [],
   "source": [
    "'DML': DML stands for Data Manipulation Language, and it is used to modify the data stored in a database. The three main commands in DML \n",
    "       are INSERT,UPDATE, and DELETE."
   ]
  },
  {
   "cell_type": "code",
   "execution_count": null,
   "id": "4aced705-ea03-47de-bc57-0811a247ea62",
   "metadata": {},
   "outputs": [],
   "source": [
    "'INSERT': The INSERT command is used to add new records to a database. For example, suppose we have a table \n",
    "named \"students\" with columns \"id\", \"name\", and \"age\". To add a new student with id=1, name=\"John\", and age=20, \n",
    "we would use the following command:"
   ]
  },
  {
   "cell_type": "code",
   "execution_count": null,
   "id": "13eb7c64-0e53-48de-a22f-a40f95b7eac7",
   "metadata": {},
   "outputs": [],
   "source": [
    "INSERT INTO students (id, name, age) VALUES (1, 'John', 20);\n"
   ]
  },
  {
   "cell_type": "code",
   "execution_count": null,
   "id": "206ae439-24ca-42bd-b784-58d28f14fe45",
   "metadata": {},
   "outputs": [],
   "source": [
    "'UPDATE': The UPDATE command is used to modify existing records in a database. For example, suppose we want to update the age of the\n",
    " student with id=1 to 21. We would use the following command:"
   ]
  },
  {
   "cell_type": "code",
   "execution_count": null,
   "id": "d20f558d-d629-433d-91e7-d42d95f474d7",
   "metadata": {},
   "outputs": [],
   "source": [
    "UPDATE students SET age=21 WHERE id=1;\n"
   ]
  },
  {
   "cell_type": "code",
   "execution_count": null,
   "id": "80f8d1f7-7403-45dd-981b-ba207b4b57ca",
   "metadata": {},
   "outputs": [],
   "source": [
    "'DELETE': The DELETE command is used to remove records from a database. For example, suppose we want to delete the student\n",
    "          with id=1. We would use the following command:"
   ]
  },
  {
   "cell_type": "code",
   "execution_count": null,
   "id": "0143fd7f-2bc7-4e97-9067-172dbc4f63f5",
   "metadata": {},
   "outputs": [],
   "source": [
    "DELETE FROM students WHERE id=1;\n"
   ]
  },
  {
   "cell_type": "code",
   "execution_count": null,
   "id": "cd9d4975-7c0c-4fc1-b608-44cd18d5ccd3",
   "metadata": {},
   "outputs": [],
   "source": [
    "Solution 4:-"
   ]
  },
  {
   "cell_type": "code",
   "execution_count": null,
   "id": "dd6656c7-5714-4ce5-865c-d5be8492533a",
   "metadata": {},
   "outputs": [],
   "source": [
    "'DQL' stands for Data Query Language, which is used to retrieve data from a database. The most commonly used DQL command is SELECT.\n",
    "\n",
    "The SELECT statement is used to retrieve data from one or more tables in a database. It has the following basic syntax:"
   ]
  },
  {
   "cell_type": "code",
   "execution_count": null,
   "id": "d636b79f-4283-4bd6-9eeb-21303d31d31d",
   "metadata": {},
   "outputs": [],
   "source": [
    "SELECT column1, column2, ...\n",
    "FROM table_name;\n"
   ]
  },
  {
   "cell_type": "code",
   "execution_count": null,
   "id": "cf4d71eb-e866-4bbd-bac3-e6f0987c31a1",
   "metadata": {},
   "outputs": [],
   "source": [
    "'For example', consider a table named students with the following columns: id, name, age, and gender. To select all the data from the \n",
    "students table, the following SQL statement would be used:"
   ]
  },
  {
   "cell_type": "code",
   "execution_count": null,
   "id": "de6c71c0-df1e-4177-93f8-5ef7b619011d",
   "metadata": {},
   "outputs": [],
   "source": [
    "SELECT * FROM students;\n"
   ]
  },
  {
   "cell_type": "code",
   "execution_count": null,
   "id": "3e335ae9-ac26-42ee-8993-b6884d63ca36",
   "metadata": {},
   "outputs": [],
   "source": [
    "Solution 5:-"
   ]
  },
  {
   "cell_type": "code",
   "execution_count": null,
   "id": "39755a50-f3e1-49c2-bc7e-21b46a58ecb5",
   "metadata": {},
   "outputs": [],
   "source": [
    "'Primary key': In a relational database, a primary key is a column or a set of columns that uniquely identifies each row in a table.\n",
    "               A primary key is used to enforce entity integrity and ensure that each row in a table is unique."
   ]
  },
  {
   "cell_type": "code",
   "execution_count": null,
   "id": "fd3798af-71f2-4f89-bdbf-c457bc35a905",
   "metadata": {},
   "outputs": [],
   "source": [
    "'Foreign key': A foreign key is a column or a set of columns in one table that refers to the primary key of another table. A foreign key is \n",
    "               used to enforce referential integrity and ensure that each record in the referencing table refers to an existing record in the  \n",
    "               referenced table."
   ]
  },
  {
   "cell_type": "code",
   "execution_count": null,
   "id": "7e2d91c5-700f-4a0e-b945-b6151be47906",
   "metadata": {},
   "outputs": [],
   "source": [
    "'For example', let us consider two tables: \"Customers\" and \"Orders\". The \"Customers\" table has a primary key \"CustomerID\", while the \"Orders\" \n",
    "table has a foreign key \"CustomerID\" that refers to the \"CustomerID\" column in the \"Customers\" table. This ensures that each order in the\n",
    "\"Orders\" table is associated with a valid customer in the \"Customers\" table."
   ]
  },
  {
   "cell_type": "code",
   "execution_count": null,
   "id": "097789f8-c9c1-49db-9635-85a9b533882e",
   "metadata": {},
   "outputs": [],
   "source": [
    "The primary key is also used to create relationships between tables. In the above example, the \"CustomerID\" column in the \"Customers\" table \n",
    "is the primary key, which is then used as a foreign key in the \"Orders\" table to create a relationship between the two tables."
   ]
  },
  {
   "cell_type": "code",
   "execution_count": null,
   "id": "cf9bf632-6374-4ee9-855b-aaa22144d0b2",
   "metadata": {},
   "outputs": [],
   "source": [
    "Solution 6:-"
   ]
  },
  {
   "cell_type": "code",
   "execution_count": null,
   "id": "11f59e08-df42-4d56-bf7c-23d35a4f79a9",
   "metadata": {},
   "outputs": [],
   "source": [
    "To connect MySQL to Python, we can use the 'mysql-connector' package. "
   ]
  },
  {
   "cell_type": "code",
   "execution_count": null,
   "id": "290bcaec-b65b-4ee3-941e-d1841b19f858",
   "metadata": {},
   "outputs": [],
   "source": [
    "import mysql.connector\n",
    "\n",
    "# connect to MySQL database\n",
    "cnx = mysql.connector.connect(user='username', password='password',\n",
    "                              host='localhost', database='mydatabase')\n",
    "\n",
    "# create a cursor object to execute SQL queries\n",
    "cursor = cnx.cursor()\n",
    "\n",
    "# execute a SQL query\n",
    "query = \"SELECT * FROM mytable\"\n",
    "cursor.execute(query)\n",
    "\n",
    "# fetch the query results\n",
    "for row in cursor:\n",
    "    print(row)\n",
    "\n",
    "# close the cursor and database connections\n",
    "cursor.close()\n",
    "cnx.close()\n"
   ]
  },
  {
   "cell_type": "code",
   "execution_count": null,
   "id": "2bd977b2-ed36-4a29-a813-9728712cd96e",
   "metadata": {},
   "outputs": [],
   "source": [
    "'cursor()':The cursor() method creates a cursor object that allows us to execute SQL queries and fetch results. "
   ]
  },
  {
   "cell_type": "code",
   "execution_count": null,
   "id": "45e6c078-2178-48fd-8a0c-00d5022df533",
   "metadata": {},
   "outputs": [],
   "source": [
    "'execute()':The execute() method is used to execute an SQL query specified in a string. The method returns the number of\n",
    "            rows affected by the query."
   ]
  },
  {
   "cell_type": "code",
   "execution_count": null,
   "id": "dfc8688b-3a02-4954-a6eb-7c22cacd5f34",
   "metadata": {},
   "outputs": [],
   "source": [
    "In the example code, we create a cursor object and execute a SELECT query to fetch all rows from the mytable table. \n",
    "The for loop is used to print each row of the result set.\n",
    "\n",
    "After the query execution is complete, we close the cursor and database connections to free up system resources."
   ]
  },
  {
   "cell_type": "code",
   "execution_count": null,
   "id": "f37c425a-15ea-49ae-a927-19f4a3b9e736",
   "metadata": {},
   "outputs": [],
   "source": [
    "Solution 7:-"
   ]
  },
  {
   "cell_type": "code",
   "execution_count": null,
   "id": "d172e56e-df6f-4fa8-9808-26c2f9a63baf",
   "metadata": {},
   "outputs": [],
   "source": [
    "The order of execution of SQL clauses in an SQL query is as follows:\n",
    "\n",
    "1.'FROM': Specifies the table(s) from which data will be retrieved.\n",
    "2.'WHERE': Filters the data based on specified conditions.\n",
    "3.'GROUP BY': Groups the data by specified columns.\n",
    "4.'HAVING': Filters the data based on conditions applied to the groupings created by GROUP BY.\n",
    "5.'SELECT': Specifies the columns to be retrieved from the table(s).\n",
    "6.'DISTINCT': Filters out duplicate rows.\n",
    "7.'ORDER BY': Sorts the data by specified columns.\n",
    "8.'LIMIT/OFFSET': Limits the number of rows returned or specifies an offset for the returned rows"
   ]
  }
 ],
 "metadata": {
  "kernelspec": {
   "display_name": "Python 3 (ipykernel)",
   "language": "python",
   "name": "python3"
  },
  "language_info": {
   "codemirror_mode": {
    "name": "ipython",
    "version": 3
   },
   "file_extension": ".py",
   "mimetype": "text/x-python",
   "name": "python",
   "nbconvert_exporter": "python",
   "pygments_lexer": "ipython3",
   "version": "3.10.8"
  }
 },
 "nbformat": 4,
 "nbformat_minor": 5
}
