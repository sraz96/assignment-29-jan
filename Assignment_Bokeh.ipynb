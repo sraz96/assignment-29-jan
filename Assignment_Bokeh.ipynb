{
  "nbformat": 4,
  "nbformat_minor": 0,
  "metadata": {
    "colab": {
      "provenance": [],
      "authorship_tag": "ABX9TyMc/sD4POrNA0g+ZiNC74Jh",
      "include_colab_link": true
    },
    "kernelspec": {
      "name": "python3",
      "display_name": "Python 3"
    },
    "language_info": {
      "name": "python"
    }
  },
  "cells": [
    {
      "cell_type": "markdown",
      "metadata": {
        "id": "view-in-github",
        "colab_type": "text"
      },
      "source": [
        "<a href=\"https://colab.research.google.com/github/sraz96/assignment-29-jan/blob/main/Assignment_Bokeh.ipynb\" target=\"_parent\"><img src=\"https://colab.research.google.com/assets/colab-badge.svg\" alt=\"Open In Colab\"/></a>"
      ]
    },
    {
      "cell_type": "markdown",
      "source": [
        "Solution 1:-"
      ],
      "metadata": {
        "id": "wB0iTn_s-BeG"
      }
    },
    {
      "cell_type": "code",
      "execution_count": null,
      "metadata": {
        "id": "bjBBXPzR-Amr"
      },
      "outputs": [],
      "source": [
        "Bokeh is a Python library that allows us to create interactive data visualizations for the web. We can create a Bokeh plot using Python code \n",
        "by following these steps:\n",
        "\n",
        "1.Import the necessary Bokeh modules and functions.\n",
        "2.Prepare the data that we want to plot.\n",
        "3.Create a figure object using the figure() function, specifying the plot dimensions, tools, and other attributes.\n",
        "4.Add glyphs (e.g., circles, lines, bars) to the plot using the glyph() or other glyph functions, specifying the data and attributes of the glyphs.\n",
        "5.Customize the appearance of the plot, including the axes, title, legend, and other plot elements.\n",
        "6.Show the plot using the show() function or save it to a file using the save() function."
      ]
    },
    {
      "cell_type": "code",
      "source": [
        "# Here's a simple example code to create a scatter plot using Bokeh:\n",
        "\n",
        "from bokeh.plotting import figure, show\n",
        "import numpy as np\n",
        "\n",
        "x = np.random.rand(100)\n",
        "y = np.random.rand(100)\n",
        "\n",
        "p = figure(title='Scatter plot', plot_width=400, plot_height=400, tools='pan,box_zoom,reset')\n",
        "\n",
        "p.circle(x, y, size=5, color='blue')\n",
        "p.xaxis.axis_label = 'X axis'\n",
        "p.yaxis.axis_label = 'Y axis'\n",
        "\n",
        "show(p)\n"
      ],
      "metadata": {
        "id": "LnBgR7O2-7fH"
      },
      "execution_count": 2,
      "outputs": []
    },
    {
      "cell_type": "markdown",
      "source": [
        "Solution 2:-"
      ],
      "metadata": {
        "id": "zl71V-kR_9J9"
      }
    },
    {
      "cell_type": "code",
      "source": [
        "In Bokeh, glyphs are visual markers that can be added to a plot to represent data points. They include basic shapes like circles, squares, \n",
        "and triangles, as well as more complex shapes like lines, wedges, and patches. Glyphs can be customized with various visual properties such \n",
        "as color, size, and transparency."
      ],
      "metadata": {
        "id": "Vd8r_JNY_GxK"
      },
      "execution_count": null,
      "outputs": []
    },
    {
      "cell_type": "code",
      "source": [
        "from bokeh.plotting import figure, show\n",
        "from bokeh.models import ColumnDataSource\n",
        "\n",
        "x = [1, 2, 3, 4, 5]\n",
        "y = [2, 4, 6, 8, 10]\n",
        "colors = ['red', 'green', 'blue', 'orange', 'purple']\n",
        "\n",
        "source = ColumnDataSource(data=dict(x=x, y=y, colors=colors))\n",
        "\n",
        "p = figure(plot_width=400, plot_height=400)\n",
        "\n",
        "p.circle('x', 'y', size=10, fill_color='colors', line_color=None, source=source)\n",
        "show(p)\n"
      ],
      "metadata": {
        "id": "11RWkYfRAIKd"
      },
      "execution_count": 3,
      "outputs": []
    },
    {
      "cell_type": "markdown",
      "source": [
        "Solution 3:-"
      ],
      "metadata": {
        "id": "bGekg3TrAdG-"
      }
    },
    {
      "cell_type": "code",
      "source": [
        "Bokeh provides many options for customizing the appearance of a plot, including the axes, title, and legend. \n",
        "Here are some examples of how to customize these elements:"
      ],
      "metadata": {
        "id": "5a1q0tEUASRG"
      },
      "execution_count": null,
      "outputs": []
    },
    {
      "cell_type": "code",
      "source": [
        "from bokeh.plotting import figure, output_file, show\n",
        "\n",
        "x = [1, 2, 3, 4, 5]\n",
        "y = [6, 7, 2, 4, 5]\n",
        "p = figure(title='Scatter Plot Example', x_axis_label='X-axis', y_axis_label='Y-axis', \n",
        "           plot_width=600, plot_height=400)\n",
        "p.circle(x, y, size=10, color='navy', alpha=0.5, legend_label='data')\n",
        "\n",
        "p.legend.location = 'top_left'\n",
        "p.title.text_color = 'navy'\n",
        "p.title.text_font_size = '20pt'\n",
        "p.xaxis.axis_label_text_color = 'navy'\n",
        "p.yaxis.axis_label_text_color = 'navy'\n",
        "p.xaxis.major_label_text_font_size = '16pt'\n",
        "p.yaxis.major_label_text_font_size = '16pt'\n",
        "\n",
        "show(p)\n"
      ],
      "metadata": {
        "id": "qKnETE-6A2kC"
      },
      "execution_count": 8,
      "outputs": []
    },
    {
      "cell_type": "markdown",
      "source": [
        "Solution 4:-"
      ],
      "metadata": {
        "id": "epwD25QbB9c3"
      }
    },
    {
      "cell_type": "code",
      "source": [
        "Bokeh server is a Python library that allows creating interactive plots with real-time updates. It provides a way to create a web application\n",
        "that serves Bokeh plots to web browsers, allowing users to interact with the plots dynamically. Bokeh server supports real-time updates by \n",
        "automatically synchronizing the data between the server and the client. This means that any changes made to the data on the server are \n",
        "immediately reflected on the client's browser."
      ],
      "metadata": {
        "id": "dk383LNaBApE"
      },
      "execution_count": null,
      "outputs": []
    },
    {
      "cell_type": "code",
      "source": [
        "To create an interactive Bokeh plot with real-time updates, we can start by creating a basic plot using Bokeh's plotting API. Then we can add \n",
        "widgets or controls to the plot to allow the user to interact with the data. Finally, we can use the Bokeh server to serve the plot to the web\n",
        "browser and enable real-time updates."
      ],
      "metadata": {
        "id": "a3YWaPefCWjH"
      },
      "execution_count": null,
      "outputs": []
    },
    {
      "cell_type": "markdown",
      "source": [
        "Solution 5:-"
      ],
      "metadata": {
        "id": "O4gCHyiACe_4"
      }
    },
    {
      "cell_type": "code",
      "source": [
        "Bokeh provides several ways to embed a plot into a web page or dashboard using Flask or Django. One of the simplest ways is to use the \n",
        "components function to generate the HTML and JavaScript code needed to display the plot."
      ],
      "metadata": {
        "id": "iWq7b_EnCgyG"
      },
      "execution_count": null,
      "outputs": []
    },
    {
      "cell_type": "code",
      "source": [
        "from flask import Flask, render_template\n",
        "from bokeh.plotting import figure\n",
        "from bokeh.embed import components\n",
        "\n",
        "app = Flask(__name__)\n",
        "\n",
        "@app.route('/')\n",
        "def index():\n",
        "\n",
        "    p = figure(title='My Plot', x_axis_label='x', y_axis_label='y')\n",
        "    p.line([1, 2, 3, 4, 5], [6, 7, 2, 4, 5])\n",
        "\n",
        "    script, div = components(p)\n",
        "\n",
        "    return render_template('index.html', script=script, div=div)\n",
        "\n",
        "if __name__ == '__main__':\n",
        "    app.run(debug=True)\n"
      ],
      "metadata": {
        "id": "YJ27pR8NCz2X"
      },
      "execution_count": null,
      "outputs": []
    }
  ]
}